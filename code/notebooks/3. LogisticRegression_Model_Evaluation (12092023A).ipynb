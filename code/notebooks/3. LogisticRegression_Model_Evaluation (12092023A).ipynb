{
 "cells": [
  {
   "cell_type": "code",
   "execution_count": 1,
   "id": "25a78b80-1566-4ae0-9805-83cf6faff548",
   "metadata": {},
   "outputs": [],
   "source": [
    "# !pip install plotnine"
   ]
  },
  {
   "cell_type": "code",
   "execution_count": 2,
   "id": "068001ae-5515-4aec-835f-9c4172789836",
   "metadata": {},
   "outputs": [],
   "source": [
    "# !pip install --upgrade numexpr"
   ]
  },
  {
   "cell_type": "code",
   "execution_count": 3,
   "id": "f3ce61ad-d727-4ba9-ac39-7d40dccdd0c6",
   "metadata": {},
   "outputs": [],
   "source": [
    "# !pip install --upgrade bottleneck"
   ]
  },
  {
   "cell_type": "code",
   "execution_count": 4,
   "id": "1bd9abbf-7a65-43a6-803e-4c0ecee1fddb",
   "metadata": {},
   "outputs": [],
   "source": [
    "import pandas as pd\n",
    "import numpy as np\n",
    "import altair as alt\n",
    "import pyarrow.parquet as pq\n",
    "import os\n",
    "\n",
    "from sklearn.model_selection import train_test_split\n",
    "from sklearn.preprocessing import StandardScaler\n",
    "from sklearn.linear_model import LogisticRegression\n",
    "from sklearn.dummy import DummyClassifier\n",
    "from sklearn.tree import DecisionTreeClassifier\n",
    "from sklearn.metrics import accuracy_score, classification_report\n",
    "from sklearn.feature_selection import RFE\n",
    "from sklearn.model_selection import cross_val_score\n",
    "from sklearn.model_selection import StratifiedKFold\n",
    "from sklearn.feature_selection import RFECV\n",
    "from sklearn.metrics import make_scorer, precision_score\n",
    "\n",
    "from sklearn.metrics import confusion_matrix\n",
    "\n",
    "from sklearn.pipeline import make_pipeline\n",
    "\n",
    "import seaborn as sns\n",
    "import matplotlib.pyplot as plt\n",
    "\n",
    "import warnings\n",
    "# from plotnine.themes import theme_538"
   ]
  },
  {
   "cell_type": "code",
   "execution_count": 5,
   "id": "e4b04d5e-71d0-41cd-9ce1-32d0e167c980",
   "metadata": {},
   "outputs": [],
   "source": [
    "def altair_conf_table(conf_df):\n",
    "    '''\n",
    "    Converts dataframe to format suitable for altair and generates a heat map\n",
    "    -----------\n",
    "    Parameters:\n",
    "    conf_df: dataframe\n",
    "    -----------\n",
    "    Returns:\n",
    "    a formatted altair heat map\n",
    "    '''\n",
    "\n",
    "    # Convert the seaborn dataframe to a long-form dataframe suitable for Altair\n",
    "    conf_df_i_long = pd.melt(conf_df.reset_index(), id_vars='index')\n",
    "\n",
    "    # Altair heatmap without legend and axis titles\n",
    "    heatmap = alt.Chart(conf_df_i_long).mark_rect().encode(\n",
    "        x='variable:O',\n",
    "        y='index:O',\n",
    "        color=alt.Color('value:Q', scale=alt.Scale(scheme='blues'),legend=None),  # Set color scale directly\n",
    "        tooltip=['value:N']\n",
    "    ).properties(\n",
    "        width=400,\n",
    "        height=300,\n",
    "        title=\"Confusion Matrix\"\n",
    "    )\n",
    "\n",
    "    # Text layer to display the values in each cell with increased font size\n",
    "    text = alt.Chart(conf_df_i_long).mark_text(baseline='middle', fontSize=16).encode(\n",
    "        x='variable:O',\n",
    "        y='index:O',\n",
    "        text='value:Q'\n",
    "    )\n",
    "\n",
    "    # Combine the heatmap and text layers\n",
    "    alt_chart = heatmap + text\n",
    "\n",
    "    # Remove the color legend\n",
    "    alt_chart = alt_chart.configure_legend(\n",
    "        strokeColor='white',\n",
    "        fillColor='#f5f5f5',\n",
    "        padding=10,\n",
    "        cornerRadius=10,\n",
    "        orient='none',\n",
    "        legendX=650,\n",
    "        legendY=0,\n",
    "        direction='horizontal',\n",
    "        labelFont='Arial',\n",
    "        labelFontSize=12,\n",
    "        labelColor='gray',\n",
    "        title=None\n",
    "    )\n",
    "\n",
    "    # Remove axis titles\n",
    "    alt_chart = alt_chart.configure_axis(\n",
    "        labelFontSize=12,\n",
    "        title=None,\n",
    "        labelAngle=0 \n",
    "    )\n",
    "    \n",
    "\n",
    "    # Show the Altair chart without legend and axis titles\n",
    "    return  alt_chart"
   ]
  },
  {
   "cell_type": "code",
   "execution_count": 6,
   "id": "998a7f73-461f-432f-b1b7-e937adea21ec",
   "metadata": {},
   "outputs": [],
   "source": [
    "warnings.filterwarnings(\"ignore\")"
   ]
  },
  {
   "cell_type": "markdown",
   "id": "323b5db0-fd09-4d4b-95a5-340e02e05211",
   "metadata": {},
   "source": [
    "# Data Collection"
   ]
  },
  {
   "cell_type": "markdown",
   "id": "6a25d91d-dd0b-41f8-a484-4842178651f5",
   "metadata": {},
   "source": [
    "## RNAseq Expression Data"
   ]
  },
  {
   "cell_type": "code",
   "execution_count": 7,
   "id": "f84fd3fc-0886-48cd-a33e-9c0664ab42de",
   "metadata": {},
   "outputs": [],
   "source": [
    "# import gene RNAseq data file from a parquet formated file\n",
    "table = pq.read_table('../data/processed/merged_df.parquet')"
   ]
  },
  {
   "cell_type": "code",
   "execution_count": 8,
   "id": "89c304d9-9800-4357-9876-743dd2350dcc",
   "metadata": {},
   "outputs": [],
   "source": [
    "# convert data table to a pandas data frame\n",
    "merged_df = table.to_pandas()"
   ]
  },
  {
   "cell_type": "code",
   "execution_count": 9,
   "id": "a1755e15-b05a-4440-a4f5-65675d54b87c",
   "metadata": {},
   "outputs": [],
   "source": [
    "# delete table to free memory\n",
    "del table"
   ]
  },
  {
   "cell_type": "code",
   "execution_count": 10,
   "id": "f2476ba4-46cf-479d-a72a-cbc193745201",
   "metadata": {},
   "outputs": [
    {
     "data": {
      "text/html": [
       "<div>\n",
       "<style scoped>\n",
       "    .dataframe tbody tr th:only-of-type {\n",
       "        vertical-align: middle;\n",
       "    }\n",
       "\n",
       "    .dataframe tbody tr th {\n",
       "        vertical-align: top;\n",
       "    }\n",
       "\n",
       "    .dataframe thead th {\n",
       "        text-align: right;\n",
       "    }\n",
       "</style>\n",
       "<table border=\"1\" class=\"dataframe\">\n",
       "  <thead>\n",
       "    <tr style=\"text-align: right;\">\n",
       "      <th></th>\n",
       "      <th>499304660</th>\n",
       "      <th>499304661</th>\n",
       "      <th>499304662</th>\n",
       "      <th>499304663</th>\n",
       "      <th>499304664</th>\n",
       "      <th>499304665</th>\n",
       "      <th>499304666</th>\n",
       "      <th>499304667</th>\n",
       "      <th>499304668</th>\n",
       "      <th>499304669</th>\n",
       "      <th>...</th>\n",
       "      <th>num_tbi_w_loc</th>\n",
       "      <th>dsm_iv_clinical_diagnosis</th>\n",
       "      <th>control_set</th>\n",
       "      <th>nincds_arda_diagnosis</th>\n",
       "      <th>ever_tbi_w_loc</th>\n",
       "      <th>race</th>\n",
       "      <th>hispanic</th>\n",
       "      <th>act_demented</th>\n",
       "      <th>braak</th>\n",
       "      <th>nia_reagan</th>\n",
       "    </tr>\n",
       "    <tr>\n",
       "      <th>rnaseq_profile_id</th>\n",
       "      <th></th>\n",
       "      <th></th>\n",
       "      <th></th>\n",
       "      <th></th>\n",
       "      <th></th>\n",
       "      <th></th>\n",
       "      <th></th>\n",
       "      <th></th>\n",
       "      <th></th>\n",
       "      <th></th>\n",
       "      <th></th>\n",
       "      <th></th>\n",
       "      <th></th>\n",
       "      <th></th>\n",
       "      <th></th>\n",
       "      <th></th>\n",
       "      <th></th>\n",
       "      <th></th>\n",
       "      <th></th>\n",
       "      <th></th>\n",
       "      <th></th>\n",
       "    </tr>\n",
       "  </thead>\n",
       "  <tbody>\n",
       "    <tr>\n",
       "      <th>488395315</th>\n",
       "      <td>0.655725</td>\n",
       "      <td>4.526404</td>\n",
       "      <td>0.0</td>\n",
       "      <td>0.0</td>\n",
       "      <td>0.039654</td>\n",
       "      <td>0.0</td>\n",
       "      <td>0.0</td>\n",
       "      <td>0.0</td>\n",
       "      <td>0.0</td>\n",
       "      <td>0.317608</td>\n",
       "      <td>...</td>\n",
       "      <td>0</td>\n",
       "      <td>No Dementia</td>\n",
       "      <td>3</td>\n",
       "      <td>No Dementia</td>\n",
       "      <td>N</td>\n",
       "      <td>White</td>\n",
       "      <td>Not Hispanic</td>\n",
       "      <td>No Dementia</td>\n",
       "      <td>3</td>\n",
       "      <td>2</td>\n",
       "    </tr>\n",
       "    <tr>\n",
       "      <th>496100277</th>\n",
       "      <td>0.095143</td>\n",
       "      <td>8.855850</td>\n",
       "      <td>0.0</td>\n",
       "      <td>0.0</td>\n",
       "      <td>0.016492</td>\n",
       "      <td>0.0</td>\n",
       "      <td>0.0</td>\n",
       "      <td>0.0</td>\n",
       "      <td>0.0</td>\n",
       "      <td>0.955393</td>\n",
       "      <td>...</td>\n",
       "      <td>0</td>\n",
       "      <td>No Dementia</td>\n",
       "      <td>14</td>\n",
       "      <td>No Dementia</td>\n",
       "      <td>N</td>\n",
       "      <td>White</td>\n",
       "      <td>Not Hispanic</td>\n",
       "      <td>No Dementia</td>\n",
       "      <td>3</td>\n",
       "      <td>1</td>\n",
       "    </tr>\n",
       "    <tr>\n",
       "      <th>496100278</th>\n",
       "      <td>0.000000</td>\n",
       "      <td>4.868456</td>\n",
       "      <td>0.0</td>\n",
       "      <td>0.0</td>\n",
       "      <td>0.000000</td>\n",
       "      <td>0.0</td>\n",
       "      <td>0.0</td>\n",
       "      <td>0.0</td>\n",
       "      <td>0.0</td>\n",
       "      <td>1.361740</td>\n",
       "      <td>...</td>\n",
       "      <td>2</td>\n",
       "      <td>No Dementia</td>\n",
       "      <td>2</td>\n",
       "      <td>No Dementia</td>\n",
       "      <td>Y</td>\n",
       "      <td>White</td>\n",
       "      <td>Not Hispanic</td>\n",
       "      <td>No Dementia</td>\n",
       "      <td>6</td>\n",
       "      <td>2</td>\n",
       "    </tr>\n",
       "    <tr>\n",
       "      <th>496100279</th>\n",
       "      <td>0.000000</td>\n",
       "      <td>4.851842</td>\n",
       "      <td>0.0</td>\n",
       "      <td>0.0</td>\n",
       "      <td>0.170431</td>\n",
       "      <td>0.0</td>\n",
       "      <td>0.0</td>\n",
       "      <td>0.0</td>\n",
       "      <td>0.0</td>\n",
       "      <td>1.357990</td>\n",
       "      <td>...</td>\n",
       "      <td>2</td>\n",
       "      <td>No Dementia</td>\n",
       "      <td>2</td>\n",
       "      <td>No Dementia</td>\n",
       "      <td>Y</td>\n",
       "      <td>White</td>\n",
       "      <td>Not Hispanic</td>\n",
       "      <td>No Dementia</td>\n",
       "      <td>6</td>\n",
       "      <td>2</td>\n",
       "    </tr>\n",
       "    <tr>\n",
       "      <th>496100281</th>\n",
       "      <td>0.000000</td>\n",
       "      <td>3.600344</td>\n",
       "      <td>0.0</td>\n",
       "      <td>0.0</td>\n",
       "      <td>0.000000</td>\n",
       "      <td>0.0</td>\n",
       "      <td>0.0</td>\n",
       "      <td>0.0</td>\n",
       "      <td>0.0</td>\n",
       "      <td>1.005507</td>\n",
       "      <td>...</td>\n",
       "      <td>0</td>\n",
       "      <td>Alzheimer's Disease Type</td>\n",
       "      <td>2</td>\n",
       "      <td>Probable Alzheimer'S Disease</td>\n",
       "      <td>N</td>\n",
       "      <td>White</td>\n",
       "      <td>Not Hispanic</td>\n",
       "      <td>Dementia</td>\n",
       "      <td>1</td>\n",
       "      <td>1</td>\n",
       "    </tr>\n",
       "  </tbody>\n",
       "</table>\n",
       "<p>5 rows × 50310 columns</p>\n",
       "</div>"
      ],
      "text/plain": [
       "                   499304660  499304661  499304662  499304663  499304664  \\\n",
       "rnaseq_profile_id                                                          \n",
       "488395315           0.655725   4.526404        0.0        0.0   0.039654   \n",
       "496100277           0.095143   8.855850        0.0        0.0   0.016492   \n",
       "496100278           0.000000   4.868456        0.0        0.0   0.000000   \n",
       "496100279           0.000000   4.851842        0.0        0.0   0.170431   \n",
       "496100281           0.000000   3.600344        0.0        0.0   0.000000   \n",
       "\n",
       "                   499304665  499304666  499304667  499304668  499304669  ...  \\\n",
       "rnaseq_profile_id                                                         ...   \n",
       "488395315                0.0        0.0        0.0        0.0   0.317608  ...   \n",
       "496100277                0.0        0.0        0.0        0.0   0.955393  ...   \n",
       "496100278                0.0        0.0        0.0        0.0   1.361740  ...   \n",
       "496100279                0.0        0.0        0.0        0.0   1.357990  ...   \n",
       "496100281                0.0        0.0        0.0        0.0   1.005507  ...   \n",
       "\n",
       "                   num_tbi_w_loc  dsm_iv_clinical_diagnosis  control_set  \\\n",
       "rnaseq_profile_id                                                          \n",
       "488395315                      0                No Dementia            3   \n",
       "496100277                      0                No Dementia           14   \n",
       "496100278                      2                No Dementia            2   \n",
       "496100279                      2                No Dementia            2   \n",
       "496100281                      0   Alzheimer's Disease Type            2   \n",
       "\n",
       "                          nincds_arda_diagnosis  ever_tbi_w_loc   race  \\\n",
       "rnaseq_profile_id                                                        \n",
       "488395315                           No Dementia               N  White   \n",
       "496100277                           No Dementia               N  White   \n",
       "496100278                           No Dementia               Y  White   \n",
       "496100279                           No Dementia               Y  White   \n",
       "496100281          Probable Alzheimer'S Disease               N  White   \n",
       "\n",
       "                       hispanic  act_demented  braak  nia_reagan  \n",
       "rnaseq_profile_id                                                 \n",
       "488395315          Not Hispanic   No Dementia      3           2  \n",
       "496100277          Not Hispanic   No Dementia      3           1  \n",
       "496100278          Not Hispanic   No Dementia      6           2  \n",
       "496100279          Not Hispanic   No Dementia      6           2  \n",
       "496100281          Not Hispanic      Dementia      1           1  \n",
       "\n",
       "[5 rows x 50310 columns]"
      ]
     },
     "execution_count": 10,
     "metadata": {},
     "output_type": "execute_result"
    }
   ],
   "source": [
    "# ispect the RNAseq dataframe\n",
    "merged_df.head()"
   ]
  },
  {
   "cell_type": "markdown",
   "id": "a7ee824e-2883-41c2-b5cc-2e1d35c391b6",
   "metadata": {},
   "source": [
    "## Gene Information"
   ]
  },
  {
   "cell_type": "code",
   "execution_count": 11,
   "id": "4f0d1651-e1ac-49ae-a113-374dc100ecee",
   "metadata": {},
   "outputs": [
    {
     "data": {
      "text/html": [
       "<div>\n",
       "<style scoped>\n",
       "    .dataframe tbody tr th:only-of-type {\n",
       "        vertical-align: middle;\n",
       "    }\n",
       "\n",
       "    .dataframe tbody tr th {\n",
       "        vertical-align: top;\n",
       "    }\n",
       "\n",
       "    .dataframe thead th {\n",
       "        text-align: right;\n",
       "    }\n",
       "</style>\n",
       "<table border=\"1\" class=\"dataframe\">\n",
       "  <thead>\n",
       "    <tr style=\"text-align: right;\">\n",
       "      <th></th>\n",
       "      <th>chromosome</th>\n",
       "      <th>gene_entrez_id</th>\n",
       "      <th>gene_symbol</th>\n",
       "      <th>gene_name</th>\n",
       "    </tr>\n",
       "    <tr>\n",
       "      <th>gene_id</th>\n",
       "      <th></th>\n",
       "      <th></th>\n",
       "      <th></th>\n",
       "      <th></th>\n",
       "    </tr>\n",
       "  </thead>\n",
       "  <tbody>\n",
       "    <tr>\n",
       "      <th>499304660</th>\n",
       "      <td>1</td>\n",
       "      <td>100287102</td>\n",
       "      <td>DDX11L1</td>\n",
       "      <td>DEAD/H (Asp-Glu-Ala-Asp/His) box helicase 11 l...</td>\n",
       "    </tr>\n",
       "    <tr>\n",
       "      <th>499304661</th>\n",
       "      <td>1</td>\n",
       "      <td>653635</td>\n",
       "      <td>WASH7P</td>\n",
       "      <td>WAS protein family homolog 7 pseudogene</td>\n",
       "    </tr>\n",
       "    <tr>\n",
       "      <th>499304662</th>\n",
       "      <td>1</td>\n",
       "      <td>102466751</td>\n",
       "      <td>MIR6859-1</td>\n",
       "      <td>microRNA 6859-1</td>\n",
       "    </tr>\n",
       "    <tr>\n",
       "      <th>499304663</th>\n",
       "      <td>1</td>\n",
       "      <td>100302278</td>\n",
       "      <td>MIR1302-2</td>\n",
       "      <td>microRNA 1302-2</td>\n",
       "    </tr>\n",
       "    <tr>\n",
       "      <th>499304664</th>\n",
       "      <td>1</td>\n",
       "      <td>645520</td>\n",
       "      <td>FAM138A</td>\n",
       "      <td>family with sequence similarity 138, member A</td>\n",
       "    </tr>\n",
       "    <tr>\n",
       "      <th>...</th>\n",
       "      <td>...</td>\n",
       "      <td>...</td>\n",
       "      <td>...</td>\n",
       "      <td>...</td>\n",
       "    </tr>\n",
       "    <tr>\n",
       "      <th>499355059</th>\n",
       "      <td>MT</td>\n",
       "      <td>4541</td>\n",
       "      <td>ND6</td>\n",
       "      <td>NADH dehydrogenase subunit 6</td>\n",
       "    </tr>\n",
       "    <tr>\n",
       "      <th>499355060</th>\n",
       "      <td>MT</td>\n",
       "      <td>4556</td>\n",
       "      <td>TRNE</td>\n",
       "      <td>tRNA-Glu</td>\n",
       "    </tr>\n",
       "    <tr>\n",
       "      <th>499355061</th>\n",
       "      <td>MT</td>\n",
       "      <td>4519</td>\n",
       "      <td>CYTB</td>\n",
       "      <td>cytochrome b</td>\n",
       "    </tr>\n",
       "    <tr>\n",
       "      <th>499355062</th>\n",
       "      <td>MT</td>\n",
       "      <td>4576</td>\n",
       "      <td>TRNT</td>\n",
       "      <td>tRNA-Thr</td>\n",
       "    </tr>\n",
       "    <tr>\n",
       "      <th>499355063</th>\n",
       "      <td>MT</td>\n",
       "      <td>4571</td>\n",
       "      <td>TRNP</td>\n",
       "      <td>tRNA-Pro</td>\n",
       "    </tr>\n",
       "  </tbody>\n",
       "</table>\n",
       "<p>50281 rows × 4 columns</p>\n",
       "</div>"
      ],
      "text/plain": [
       "          chromosome  gene_entrez_id gene_symbol  \\\n",
       "gene_id                                            \n",
       "499304660          1       100287102     DDX11L1   \n",
       "499304661          1          653635      WASH7P   \n",
       "499304662          1       102466751   MIR6859-1   \n",
       "499304663          1       100302278   MIR1302-2   \n",
       "499304664          1          645520     FAM138A   \n",
       "...              ...             ...         ...   \n",
       "499355059         MT            4541         ND6   \n",
       "499355060         MT            4556        TRNE   \n",
       "499355061         MT            4519        CYTB   \n",
       "499355062         MT            4576        TRNT   \n",
       "499355063         MT            4571        TRNP   \n",
       "\n",
       "                                                   gene_name  \n",
       "gene_id                                                       \n",
       "499304660  DEAD/H (Asp-Glu-Ala-Asp/His) box helicase 11 l...  \n",
       "499304661            WAS protein family homolog 7 pseudogene  \n",
       "499304662                                    microRNA 6859-1  \n",
       "499304663                                    microRNA 1302-2  \n",
       "499304664      family with sequence similarity 138, member A  \n",
       "...                                                      ...  \n",
       "499355059                       NADH dehydrogenase subunit 6  \n",
       "499355060                                           tRNA-Glu  \n",
       "499355061                                       cytochrome b  \n",
       "499355062                                           tRNA-Thr  \n",
       "499355063                                           tRNA-Pro  \n",
       "\n",
       "[50281 rows x 4 columns]"
      ]
     },
     "execution_count": 11,
     "metadata": {},
     "output_type": "execute_result"
    }
   ],
   "source": [
    "# gene information table\n",
    "rows_genes = pd.read_csv('../data/external/rows-genes.csv')\n",
    "rows_genes = rows_genes.set_index('gene_id')\n",
    "rows_genes.index = rows_genes.index.astype(int)\n",
    "rows_genes"
   ]
  },
  {
   "cell_type": "markdown",
   "id": "85d73958-86d2-4c7d-bc98-271f0d1b130d",
   "metadata": {},
   "source": [
    "# Data Preprocessing"
   ]
  },
  {
   "cell_type": "markdown",
   "id": "0d445fb0-753c-4c0d-9b56-67794cb621d5",
   "metadata": {},
   "source": [
    "The data was process and tables were merged on the notebook named \"data_import_transformation.ipynb\""
   ]
  },
  {
   "cell_type": "markdown",
   "id": "7c2459a0-c36d-4382-b6a3-47420ea9e85c",
   "metadata": {},
   "source": [
    "## Prepare data for model training"
   ]
  },
  {
   "cell_type": "code",
   "execution_count": 12,
   "id": "4a5ae9af-a85a-441f-96e3-e3abe1d1a394",
   "metadata": {},
   "outputs": [],
   "source": [
    "# # assign X and y by selecting colunmns containing the gene features and predicted value\n",
    "X = merged_df.iloc[:,:50281]\n",
    "y = merged_df['act_demented']"
   ]
  },
  {
   "cell_type": "markdown",
   "id": "92159669-3d67-49d4-b809-209e1018e5ba",
   "metadata": {},
   "source": [
    "## Split the Data"
   ]
  },
  {
   "cell_type": "code",
   "execution_count": 13,
   "id": "d11bce33-a533-4d32-9f74-7a59f16998ac",
   "metadata": {},
   "outputs": [],
   "source": [
    "# assign X and y by selecting colunmns containing the gene features and predicted value\n",
    "X = merged_df.iloc[:,:50281]\n",
    "y = merged_df['act_demented']"
   ]
  },
  {
   "cell_type": "code",
   "execution_count": 14,
   "id": "76e4e42c-2f8a-4b5a-b998-1397c37d2758",
   "metadata": {},
   "outputs": [],
   "source": [
    "# split the data into a training and testing sets\n",
    "X_train, X_test, y_train, y_test = train_test_split(X, y, test_size=0.2, random_state=42)"
   ]
  },
  {
   "cell_type": "markdown",
   "id": "b4f15b49-5f9e-445b-a5a0-ee7ffaf28dad",
   "metadata": {},
   "source": [
    "## Scale the Data"
   ]
  },
  {
   "cell_type": "code",
   "execution_count": 15,
   "id": "3c62fb98-1815-48ee-a169-cfb71c5c40aa",
   "metadata": {},
   "outputs": [],
   "source": [
    "# Standardize the data\n",
    "scaler = StandardScaler()\n",
    "\n",
    "# standarize training and test set\n",
    "X_train_scaled = scaler.fit_transform(X_train)\n",
    "X_test_scaled = scaler.transform(X_test)"
   ]
  },
  {
   "cell_type": "markdown",
   "id": "b5067f2a-7575-4522-8217-4376ab4dbb67",
   "metadata": {},
   "source": [
    "## Model Training"
   ]
  },
  {
   "cell_type": "code",
   "execution_count": 16,
   "id": "4fa2fa01-d0cd-4927-88cc-4e51c4d383c8",
   "metadata": {},
   "outputs": [
    {
     "data": {
      "text/plain": [
       "LogisticRegression(random_state=42)"
      ]
     },
     "execution_count": 16,
     "metadata": {},
     "output_type": "execute_result"
    }
   ],
   "source": [
    "# Create and train the logistic regression model\n",
    "logreg_model = LogisticRegression(random_state=42)\n",
    "logreg_model.fit(X_train_scaled, y_train)"
   ]
  },
  {
   "cell_type": "markdown",
   "id": "6bd1abda-0474-4360-bc9d-38d4ca269a02",
   "metadata": {},
   "source": [
    "## Model Evaluation"
   ]
  },
  {
   "cell_type": "code",
   "execution_count": 17,
   "id": "4bc7b108-2cb4-41f9-86ca-4399eab57b8c",
   "metadata": {},
   "outputs": [
    {
     "name": "stdout",
     "output_type": "stream",
     "text": [
      "Logistic regression: 0.79\n"
     ]
    }
   ],
   "source": [
    "pred_logreg = logreg_model.predict(X_test_scaled)\n",
    "logreg_score = logreg_model.score(X_test_scaled, y_test)\n",
    "print(\"Logistic regression: {:.2f}\".format(logreg_score))"
   ]
  },
  {
   "cell_type": "code",
   "execution_count": 18,
   "id": "6c7d108a-3389-4abf-bfe6-852c872bac40",
   "metadata": {},
   "outputs": [
    {
     "name": "stdout",
     "output_type": "stream",
     "text": [
      "                    Predicted Dementia  Predicted No Dementia\n",
      "Actual Dementia                     24                     11\n",
      "Actual No Dementia                   5                     36\n",
      "Classification Report:\n",
      "              precision    recall  f1-score   support\n",
      "\n",
      "    Dementia       0.83      0.69      0.75        35\n",
      " No Dementia       0.77      0.88      0.82        41\n",
      "\n",
      "    accuracy                           0.79        76\n",
      "   macro avg       0.80      0.78      0.78        76\n",
      "weighted avg       0.79      0.79      0.79        76\n",
      "\n"
     ]
    },
    {
     "data": {
      "text/html": [
       "\n",
       "<div id=\"altair-viz-854ece5804d04aa0ae68eb6117e3a902\"></div>\n",
       "<script type=\"text/javascript\">\n",
       "  var VEGA_DEBUG = (typeof VEGA_DEBUG == \"undefined\") ? {} : VEGA_DEBUG;\n",
       "  (function(spec, embedOpt){\n",
       "    let outputDiv = document.currentScript.previousElementSibling;\n",
       "    if (outputDiv.id !== \"altair-viz-854ece5804d04aa0ae68eb6117e3a902\") {\n",
       "      outputDiv = document.getElementById(\"altair-viz-854ece5804d04aa0ae68eb6117e3a902\");\n",
       "    }\n",
       "    const paths = {\n",
       "      \"vega\": \"https://cdn.jsdelivr.net/npm//vega@5?noext\",\n",
       "      \"vega-lib\": \"https://cdn.jsdelivr.net/npm//vega-lib?noext\",\n",
       "      \"vega-lite\": \"https://cdn.jsdelivr.net/npm//vega-lite@4.17.0?noext\",\n",
       "      \"vega-embed\": \"https://cdn.jsdelivr.net/npm//vega-embed@6?noext\",\n",
       "    };\n",
       "\n",
       "    function maybeLoadScript(lib, version) {\n",
       "      var key = `${lib.replace(\"-\", \"\")}_version`;\n",
       "      return (VEGA_DEBUG[key] == version) ?\n",
       "        Promise.resolve(paths[lib]) :\n",
       "        new Promise(function(resolve, reject) {\n",
       "          var s = document.createElement('script');\n",
       "          document.getElementsByTagName(\"head\")[0].appendChild(s);\n",
       "          s.async = true;\n",
       "          s.onload = () => {\n",
       "            VEGA_DEBUG[key] = version;\n",
       "            return resolve(paths[lib]);\n",
       "          };\n",
       "          s.onerror = () => reject(`Error loading script: ${paths[lib]}`);\n",
       "          s.src = paths[lib];\n",
       "        });\n",
       "    }\n",
       "\n",
       "    function showError(err) {\n",
       "      outputDiv.innerHTML = `<div class=\"error\" style=\"color:red;\">${err}</div>`;\n",
       "      throw err;\n",
       "    }\n",
       "\n",
       "    function displayChart(vegaEmbed) {\n",
       "      vegaEmbed(outputDiv, spec, embedOpt)\n",
       "        .catch(err => showError(`Javascript Error: ${err.message}<br>This usually means there's a typo in your chart specification. See the javascript console for the full traceback.`));\n",
       "    }\n",
       "\n",
       "    if(typeof define === \"function\" && define.amd) {\n",
       "      requirejs.config({paths});\n",
       "      require([\"vega-embed\"], displayChart, err => showError(`Error loading script: ${err.message}`));\n",
       "    } else {\n",
       "      maybeLoadScript(\"vega\", \"5\")\n",
       "        .then(() => maybeLoadScript(\"vega-lite\", \"4.17.0\"))\n",
       "        .then(() => maybeLoadScript(\"vega-embed\", \"6\"))\n",
       "        .catch(showError)\n",
       "        .then(() => displayChart(vegaEmbed));\n",
       "    }\n",
       "  })({\"config\": {\"view\": {\"continuousWidth\": 400, \"continuousHeight\": 300}, \"axis\": {\"labelAngle\": 0, \"labelFontSize\": 12, \"title\": null}, \"legend\": {\"cornerRadius\": 10, \"direction\": \"horizontal\", \"fillColor\": \"#f5f5f5\", \"labelColor\": \"gray\", \"labelFont\": \"Arial\", \"labelFontSize\": 12, \"legendX\": 650, \"legendY\": 0, \"orient\": \"none\", \"padding\": 10, \"strokeColor\": \"white\", \"title\": null}}, \"layer\": [{\"mark\": \"rect\", \"encoding\": {\"color\": {\"field\": \"value\", \"legend\": null, \"scale\": {\"scheme\": \"blues\"}, \"type\": \"quantitative\"}, \"tooltip\": [{\"field\": \"value\", \"type\": \"nominal\"}], \"x\": {\"field\": \"variable\", \"type\": \"ordinal\"}, \"y\": {\"field\": \"index\", \"type\": \"ordinal\"}}, \"height\": 300, \"title\": \"Confusion Matrix\", \"width\": 400}, {\"mark\": {\"type\": \"text\", \"baseline\": \"middle\", \"fontSize\": 16}, \"encoding\": {\"text\": {\"field\": \"value\", \"type\": \"quantitative\"}, \"x\": {\"field\": \"variable\", \"type\": \"ordinal\"}, \"y\": {\"field\": \"index\", \"type\": \"ordinal\"}}}], \"data\": {\"name\": \"data-39d0cd66d00015cefc08bb307b18d1fd\"}, \"$schema\": \"https://vega.github.io/schema/vega-lite/v4.17.0.json\", \"datasets\": {\"data-39d0cd66d00015cefc08bb307b18d1fd\": [{\"index\": \"Actual Dementia\", \"variable\": \"Predicted Dementia\", \"value\": 24}, {\"index\": \"Actual No Dementia\", \"variable\": \"Predicted Dementia\", \"value\": 5}, {\"index\": \"Actual Dementia\", \"variable\": \"Predicted No Dementia\", \"value\": 11}, {\"index\": \"Actual No Dementia\", \"variable\": \"Predicted No Dementia\", \"value\": 36}]}}, {\"mode\": \"vega-lite\"});\n",
       "</script>"
      ],
      "text/plain": [
       "alt.LayerChart(...)"
      ]
     },
     "execution_count": 18,
     "metadata": {},
     "output_type": "execute_result"
    }
   ],
   "source": [
    "conf_matrix = confusion_matrix(y_test, pred_logreg)\n",
    "conf_df = pd.DataFrame(conf_matrix, index=['Actual Dementia', 'Actual No Dementia'],\n",
    "                       columns=['Predicted Dementia', 'Predicted No Dementia'])\n",
    "\n",
    "print(conf_df)\n",
    "\n",
    "# Print a classification report\n",
    "print(\"Classification Report:\")\n",
    "print(classification_report(y_test, pred_logreg))\n",
    "\n",
    "altair_conf_table(conf_df)\n"
   ]
  },
  {
   "cell_type": "code",
   "execution_count": 21,
   "id": "4c9f1a30",
   "metadata": {},
   "outputs": [],
   "source": [
    "\n",
    "def combine_classification_rept(y_test, y_pred):\n",
    "    \"\"\"\n",
    "    Input: y_test, y_pred parameters\n",
    "    ---------\n",
    "    Returns: dataframe of classification report\n",
    "    \n",
    "    \"\"\"\n",
    "    rept = classification_report(y_test, y_pred, output_dict=True)\n",
    "    df_cls_rept = pd.DataFrame(rept).T\n",
    "    df_cls_rept = df_cls_rept.round(2)\n",
    "    \n",
    "    #get key rows\n",
    "    df_cls_rpt2 = df_cls_rept.iloc[:2,:]\n",
    "    #df_cls_rept = df_cls_rept.sort_values(by=['f1-score'], ascending=False)\n",
    "    return df_cls_rpt2"
   ]
  },
  {
   "cell_type": "code",
   "execution_count": 22,
   "id": "85e289a5",
   "metadata": {},
   "outputs": [
    {
     "data": {
      "text/html": [
       "<div>\n",
       "<style scoped>\n",
       "    .dataframe tbody tr th:only-of-type {\n",
       "        vertical-align: middle;\n",
       "    }\n",
       "\n",
       "    .dataframe tbody tr th {\n",
       "        vertical-align: top;\n",
       "    }\n",
       "\n",
       "    .dataframe thead th {\n",
       "        text-align: right;\n",
       "    }\n",
       "</style>\n",
       "<table border=\"1\" class=\"dataframe\">\n",
       "  <thead>\n",
       "    <tr style=\"text-align: right;\">\n",
       "      <th></th>\n",
       "      <th>model</th>\n",
       "      <th>precision</th>\n",
       "      <th>recall</th>\n",
       "      <th>f1-score</th>\n",
       "      <th>support</th>\n",
       "    </tr>\n",
       "  </thead>\n",
       "  <tbody>\n",
       "    <tr>\n",
       "      <th>Dementia</th>\n",
       "      <td>Logistical Regression - Default Parameters</td>\n",
       "      <td>0.83</td>\n",
       "      <td>0.69</td>\n",
       "      <td>0.75</td>\n",
       "      <td>35.0</td>\n",
       "    </tr>\n",
       "    <tr>\n",
       "      <th>No Dementia</th>\n",
       "      <td>Logistical Regression - Default Parameters</td>\n",
       "      <td>0.77</td>\n",
       "      <td>0.88</td>\n",
       "      <td>0.82</td>\n",
       "      <td>41.0</td>\n",
       "    </tr>\n",
       "  </tbody>\n",
       "</table>\n",
       "</div>"
      ],
      "text/plain": [
       "                                                  model  precision  recall  \\\n",
       "Dementia     Logistical Regression - Default Parameters       0.83    0.69   \n",
       "No Dementia  Logistical Regression - Default Parameters       0.77    0.88   \n",
       "\n",
       "             f1-score  support  \n",
       "Dementia         0.75     35.0  \n",
       "No Dementia      0.82     41.0  "
      ]
     },
     "execution_count": 22,
     "metadata": {},
     "output_type": "execute_result"
    }
   ],
   "source": [
    "#create table for lr w/o tuning\n",
    "df_lr1 = combine_classification_rept(y_test, pred_logreg)\n",
    "df_lr1['model'] = 'Logistical Regression - Default Parameters'\n",
    "#df2 = df1.iloc[:2,:]\n",
    "first_col = df_lr1.pop('model') \n",
    "df_lr1.insert(0, 'model', first_col) \n",
    "df_lr1"
   ]
  },
  {
   "cell_type": "markdown",
   "id": "9403578d-c643-487a-996c-96843d8631a8",
   "metadata": {},
   "source": [
    "### Regularization Strength (C)"
   ]
  },
  {
   "cell_type": "code",
   "execution_count": 24,
   "id": "61ca5163-5ae3-48f8-8053-a4744c916040",
   "metadata": {},
   "outputs": [
    {
     "name": "stdout",
     "output_type": "stream",
     "text": [
      "Best C value: 0.001\n",
      "Accuracy on test set with best C: 0.7631578947368421\n"
     ]
    }
   ],
   "source": [
    "from sklearn.model_selection import GridSearchCV\n",
    "# Define the logistic regression model\n",
    "logreg_model = LogisticRegression()\n",
    "\n",
    "# Define the hyperparameter grid for C\n",
    "param_grid = {'C': [0.001, 0.01, 0.1, 1, 10, 100, 1000]}\n",
    "\n",
    "# Perform grid search with 5-fold cross-validation\n",
    "grid_search = GridSearchCV(logreg_model, param_grid, cv=5, scoring='precision')\n",
    "grid_search.fit(X_train_scaled, y_train)\n",
    "\n",
    "# Print the best hyperparameter value\n",
    "best_C = grid_search.best_params_['C']\n",
    "print(f\"Best C value: {best_C}\")\n",
    "\n",
    "# Evaluate the model with the best hyperparameter on the test set\n",
    "best_model = grid_search.best_estimator_\n",
    "test_accuracy = best_model.score(X_test_scaled, y_test)\n",
    "print(f\"Accuracy on test set with best C: {test_accuracy}\")"
   ]
  },
  {
   "cell_type": "code",
   "execution_count": 25,
   "id": "9eb84968-287b-4106-bdf6-557d2632d0d1",
   "metadata": {},
   "outputs": [
    {
     "name": "stdout",
     "output_type": "stream",
     "text": [
      "                    Predicted Dementia  Predicted No Dementia\n",
      "Actual Dementia                     21                     14\n",
      "Actual No Dementia                   4                     37\n",
      "                index               variable  value\n",
      "0     Actual Dementia     Predicted Dementia     21\n",
      "1  Actual No Dementia     Predicted Dementia      4\n",
      "2     Actual Dementia  Predicted No Dementia     14\n",
      "3  Actual No Dementia  Predicted No Dementia     37\n",
      "Classification Report:\n",
      "              precision    recall  f1-score   support\n",
      "\n",
      "    Dementia       0.84      0.60      0.70        35\n",
      " No Dementia       0.73      0.90      0.80        41\n",
      "\n",
      "    accuracy                           0.76        76\n",
      "   macro avg       0.78      0.75      0.75        76\n",
      "weighted avg       0.78      0.76      0.76        76\n",
      "\n"
     ]
    },
    {
     "data": {
      "text/html": [
       "\n",
       "<div id=\"altair-viz-34e201e175394a5595ade1cd1393822b\"></div>\n",
       "<script type=\"text/javascript\">\n",
       "  var VEGA_DEBUG = (typeof VEGA_DEBUG == \"undefined\") ? {} : VEGA_DEBUG;\n",
       "  (function(spec, embedOpt){\n",
       "    let outputDiv = document.currentScript.previousElementSibling;\n",
       "    if (outputDiv.id !== \"altair-viz-34e201e175394a5595ade1cd1393822b\") {\n",
       "      outputDiv = document.getElementById(\"altair-viz-34e201e175394a5595ade1cd1393822b\");\n",
       "    }\n",
       "    const paths = {\n",
       "      \"vega\": \"https://cdn.jsdelivr.net/npm//vega@5?noext\",\n",
       "      \"vega-lib\": \"https://cdn.jsdelivr.net/npm//vega-lib?noext\",\n",
       "      \"vega-lite\": \"https://cdn.jsdelivr.net/npm//vega-lite@4.17.0?noext\",\n",
       "      \"vega-embed\": \"https://cdn.jsdelivr.net/npm//vega-embed@6?noext\",\n",
       "    };\n",
       "\n",
       "    function maybeLoadScript(lib, version) {\n",
       "      var key = `${lib.replace(\"-\", \"\")}_version`;\n",
       "      return (VEGA_DEBUG[key] == version) ?\n",
       "        Promise.resolve(paths[lib]) :\n",
       "        new Promise(function(resolve, reject) {\n",
       "          var s = document.createElement('script');\n",
       "          document.getElementsByTagName(\"head\")[0].appendChild(s);\n",
       "          s.async = true;\n",
       "          s.onload = () => {\n",
       "            VEGA_DEBUG[key] = version;\n",
       "            return resolve(paths[lib]);\n",
       "          };\n",
       "          s.onerror = () => reject(`Error loading script: ${paths[lib]}`);\n",
       "          s.src = paths[lib];\n",
       "        });\n",
       "    }\n",
       "\n",
       "    function showError(err) {\n",
       "      outputDiv.innerHTML = `<div class=\"error\" style=\"color:red;\">${err}</div>`;\n",
       "      throw err;\n",
       "    }\n",
       "\n",
       "    function displayChart(vegaEmbed) {\n",
       "      vegaEmbed(outputDiv, spec, embedOpt)\n",
       "        .catch(err => showError(`Javascript Error: ${err.message}<br>This usually means there's a typo in your chart specification. See the javascript console for the full traceback.`));\n",
       "    }\n",
       "\n",
       "    if(typeof define === \"function\" && define.amd) {\n",
       "      requirejs.config({paths});\n",
       "      require([\"vega-embed\"], displayChart, err => showError(`Error loading script: ${err.message}`));\n",
       "    } else {\n",
       "      maybeLoadScript(\"vega\", \"5\")\n",
       "        .then(() => maybeLoadScript(\"vega-lite\", \"4.17.0\"))\n",
       "        .then(() => maybeLoadScript(\"vega-embed\", \"6\"))\n",
       "        .catch(showError)\n",
       "        .then(() => displayChart(vegaEmbed));\n",
       "    }\n",
       "  })({\"config\": {\"view\": {\"continuousWidth\": 400, \"continuousHeight\": 300}, \"axis\": {\"labelAngle\": 0, \"labelFontSize\": 12, \"title\": null}, \"legend\": {\"cornerRadius\": 10, \"direction\": \"horizontal\", \"fillColor\": \"#f5f5f5\", \"labelColor\": \"gray\", \"labelFont\": \"Arial\", \"labelFontSize\": 12, \"legendX\": 650, \"legendY\": 0, \"orient\": \"none\", \"padding\": 10, \"strokeColor\": \"white\", \"title\": null}}, \"layer\": [{\"mark\": \"rect\", \"encoding\": {\"color\": {\"field\": \"value\", \"legend\": null, \"scale\": {\"scheme\": \"blues\"}, \"type\": \"quantitative\"}, \"tooltip\": [{\"field\": \"value\", \"type\": \"nominal\"}], \"x\": {\"field\": \"variable\", \"type\": \"ordinal\"}, \"y\": {\"field\": \"index\", \"type\": \"ordinal\"}}, \"height\": 300, \"title\": \"Confusion Matrix\", \"width\": 400}, {\"mark\": {\"type\": \"text\", \"baseline\": \"middle\", \"fontSize\": 16}, \"encoding\": {\"text\": {\"field\": \"value\", \"type\": \"quantitative\"}, \"x\": {\"field\": \"variable\", \"type\": \"ordinal\"}, \"y\": {\"field\": \"index\", \"type\": \"ordinal\"}}}], \"data\": {\"name\": \"data-1a91f583b41ab149efb74797a1f0053d\"}, \"$schema\": \"https://vega.github.io/schema/vega-lite/v4.17.0.json\", \"datasets\": {\"data-1a91f583b41ab149efb74797a1f0053d\": [{\"index\": \"Actual Dementia\", \"variable\": \"Predicted Dementia\", \"value\": 21}, {\"index\": \"Actual No Dementia\", \"variable\": \"Predicted Dementia\", \"value\": 4}, {\"index\": \"Actual Dementia\", \"variable\": \"Predicted No Dementia\", \"value\": 14}, {\"index\": \"Actual No Dementia\", \"variable\": \"Predicted No Dementia\", \"value\": 37}]}}, {\"mode\": \"vega-lite\"});\n",
       "</script>"
      ],
      "text/plain": [
       "alt.LayerChart(...)"
      ]
     },
     "execution_count": 25,
     "metadata": {},
     "output_type": "execute_result"
    }
   ],
   "source": [
    "best_model_pred = best_model.predict(X_test_scaled)\n",
    "best_model_score = best_model.score(X_test_scaled, y_test)\n",
    "\n",
    "conf_matrix = confusion_matrix(y_test, best_model_pred)\n",
    "conf_df = pd.DataFrame(conf_matrix, index=['Actual Dementia', 'Actual No Dementia'],\n",
    "                       columns=['Predicted Dementia', 'Predicted No Dementia'])\n",
    "\n",
    "print(conf_df)\n",
    "\n",
    "conf_df_i_long = pd.melt(conf_df.reset_index(), id_vars='index')\n",
    "\n",
    "print(conf_df_i_long)\n",
    "\n",
    "plt.style.use('ggplot')\n",
    "\n",
    "# Print a classification report\n",
    "print(\"Classification Report:\")\n",
    "print(classification_report(y_test, best_model_pred))\n",
    "\n",
    "altair_conf_table(conf_df)\n"
   ]
  },
  {
   "cell_type": "code",
   "execution_count": 26,
   "id": "e07ca145",
   "metadata": {},
   "outputs": [
    {
     "data": {
      "text/html": [
       "<div>\n",
       "<style scoped>\n",
       "    .dataframe tbody tr th:only-of-type {\n",
       "        vertical-align: middle;\n",
       "    }\n",
       "\n",
       "    .dataframe tbody tr th {\n",
       "        vertical-align: top;\n",
       "    }\n",
       "\n",
       "    .dataframe thead th {\n",
       "        text-align: right;\n",
       "    }\n",
       "</style>\n",
       "<table border=\"1\" class=\"dataframe\">\n",
       "  <thead>\n",
       "    <tr style=\"text-align: right;\">\n",
       "      <th></th>\n",
       "      <th>model</th>\n",
       "      <th>precision</th>\n",
       "      <th>recall</th>\n",
       "      <th>f1-score</th>\n",
       "      <th>support</th>\n",
       "    </tr>\n",
       "  </thead>\n",
       "  <tbody>\n",
       "    <tr>\n",
       "      <th>Dementia</th>\n",
       "      <td>Logistical Regression - best C parameter</td>\n",
       "      <td>0.84</td>\n",
       "      <td>0.6</td>\n",
       "      <td>0.7</td>\n",
       "      <td>35.0</td>\n",
       "    </tr>\n",
       "    <tr>\n",
       "      <th>No Dementia</th>\n",
       "      <td>Logistical Regression - best C parameter</td>\n",
       "      <td>0.73</td>\n",
       "      <td>0.9</td>\n",
       "      <td>0.8</td>\n",
       "      <td>41.0</td>\n",
       "    </tr>\n",
       "  </tbody>\n",
       "</table>\n",
       "</div>"
      ],
      "text/plain": [
       "                                                model  precision  recall  \\\n",
       "Dementia     Logistical Regression - best C parameter       0.84     0.6   \n",
       "No Dementia  Logistical Regression - best C parameter       0.73     0.9   \n",
       "\n",
       "             f1-score  support  \n",
       "Dementia          0.7     35.0  \n",
       "No Dementia       0.8     41.0  "
      ]
     },
     "execution_count": 26,
     "metadata": {},
     "output_type": "execute_result"
    }
   ],
   "source": [
    "#create table for lr\n",
    "df_lr2 = combine_classification_rept(y_test, best_model_pred)\n",
    "df_lr2['model'] = 'Logistical Regression - best C parameter'\n",
    "first_col = df_lr2.pop('model') \n",
    "df_lr2.insert(0, 'model', first_col) \n",
    "df_lr2"
   ]
  },
  {
   "cell_type": "markdown",
   "id": "3b817916-fbc0-4234-a317-d04b2ef7eb79",
   "metadata": {},
   "source": [
    "### Feature Selection"
   ]
  },
  {
   "cell_type": "code",
   "execution_count": 27,
   "id": "fa745115-6f97-4f91-8de8-1b6d716b63a9",
   "metadata": {},
   "outputs": [],
   "source": [
    "model = best_model"
   ]
  },
  {
   "cell_type": "code",
   "execution_count": 28,
   "id": "a6722f2a-7bda-4577-826e-430d49b1117c",
   "metadata": {},
   "outputs": [],
   "source": [
    "feature_importance = model.coef_[0]"
   ]
  },
  {
   "cell_type": "code",
   "execution_count": 29,
   "id": "b0339a95-9907-4af9-af52-826cadd9969f",
   "metadata": {},
   "outputs": [],
   "source": [
    "feature_names = X.columns\n",
    "feature_importance_dict = dict(zip(feature_names, feature_importance))"
   ]
  },
  {
   "cell_type": "code",
   "execution_count": 30,
   "id": "7a4a85ef-ba44-48c5-ae9c-50385ae34de2",
   "metadata": {},
   "outputs": [
    {
     "data": {
      "text/html": [
       "<div>\n",
       "<style scoped>\n",
       "    .dataframe tbody tr th:only-of-type {\n",
       "        vertical-align: middle;\n",
       "    }\n",
       "\n",
       "    .dataframe tbody tr th {\n",
       "        vertical-align: top;\n",
       "    }\n",
       "\n",
       "    .dataframe thead th {\n",
       "        text-align: right;\n",
       "    }\n",
       "</style>\n",
       "<table border=\"1\" class=\"dataframe\">\n",
       "  <thead>\n",
       "    <tr style=\"text-align: right;\">\n",
       "      <th></th>\n",
       "      <th>Feature</th>\n",
       "      <th>Importance</th>\n",
       "    </tr>\n",
       "  </thead>\n",
       "  <tbody>\n",
       "    <tr>\n",
       "      <th>0</th>\n",
       "      <td>499304660</td>\n",
       "      <td>-0.001249</td>\n",
       "    </tr>\n",
       "    <tr>\n",
       "      <th>1</th>\n",
       "      <td>499304661</td>\n",
       "      <td>-0.000334</td>\n",
       "    </tr>\n",
       "    <tr>\n",
       "      <th>2</th>\n",
       "      <td>499304662</td>\n",
       "      <td>0.000349</td>\n",
       "    </tr>\n",
       "    <tr>\n",
       "      <th>3</th>\n",
       "      <td>499304663</td>\n",
       "      <td>0.001220</td>\n",
       "    </tr>\n",
       "    <tr>\n",
       "      <th>4</th>\n",
       "      <td>499304664</td>\n",
       "      <td>-0.002135</td>\n",
       "    </tr>\n",
       "    <tr>\n",
       "      <th>...</th>\n",
       "      <td>...</td>\n",
       "      <td>...</td>\n",
       "    </tr>\n",
       "    <tr>\n",
       "      <th>50276</th>\n",
       "      <td>499355059</td>\n",
       "      <td>0.000841</td>\n",
       "    </tr>\n",
       "    <tr>\n",
       "      <th>50277</th>\n",
       "      <td>499355060</td>\n",
       "      <td>-0.001161</td>\n",
       "    </tr>\n",
       "    <tr>\n",
       "      <th>50278</th>\n",
       "      <td>499355061</td>\n",
       "      <td>0.001798</td>\n",
       "    </tr>\n",
       "    <tr>\n",
       "      <th>50279</th>\n",
       "      <td>499355062</td>\n",
       "      <td>-0.001029</td>\n",
       "    </tr>\n",
       "    <tr>\n",
       "      <th>50280</th>\n",
       "      <td>499355063</td>\n",
       "      <td>0.001866</td>\n",
       "    </tr>\n",
       "  </tbody>\n",
       "</table>\n",
       "<p>50281 rows × 2 columns</p>\n",
       "</div>"
      ],
      "text/plain": [
       "         Feature  Importance\n",
       "0      499304660   -0.001249\n",
       "1      499304661   -0.000334\n",
       "2      499304662    0.000349\n",
       "3      499304663    0.001220\n",
       "4      499304664   -0.002135\n",
       "...          ...         ...\n",
       "50276  499355059    0.000841\n",
       "50277  499355060   -0.001161\n",
       "50278  499355061    0.001798\n",
       "50279  499355062   -0.001029\n",
       "50280  499355063    0.001866\n",
       "\n",
       "[50281 rows x 2 columns]"
      ]
     },
     "execution_count": 30,
     "metadata": {},
     "output_type": "execute_result"
    }
   ],
   "source": [
    "# Create a DataFrame or Series with feature names and their importance scores\n",
    "feature_importance_df = pd.DataFrame(list(feature_importance_dict.items()), columns=['Feature', 'Importance'])\n",
    "feature_importance_df"
   ]
  },
  {
   "cell_type": "code",
   "execution_count": 31,
   "id": "f74c21ae-4c1b-4d23-b3b7-76aa8109d16b",
   "metadata": {},
   "outputs": [
    {
     "name": "stdout",
     "output_type": "stream",
     "text": [
      "           Importance\n",
      "gene_id              \n",
      "499304660   -0.001249\n",
      "499304661   -0.000334\n",
      "499304662    0.000349\n",
      "499304663    0.001220\n",
      "499304664   -0.002135\n",
      "...               ...\n",
      "499355059    0.000841\n",
      "499355060   -0.001161\n",
      "499355061    0.001798\n",
      "499355062   -0.001029\n",
      "499355063    0.001866\n",
      "\n",
      "[50281 rows x 1 columns]\n"
     ]
    }
   ],
   "source": [
    "# Set the 'Feature' column as the index\n",
    "feature_importance_df.set_index('Feature', inplace=True)\n",
    "feature_importance_df.index.name = 'gene_id'\n",
    "feature_importance_df.index = feature_importance_df.index.astype(int)\n",
    "\n",
    "# Display the feature importance DataFrame\n",
    "print(feature_importance_df)"
   ]
  },
  {
   "cell_type": "code",
   "execution_count": 32,
   "id": "99ccc644-8e43-410a-a4d0-fc32c9f9b5e0",
   "metadata": {},
   "outputs": [],
   "source": [
    "rows_genes = pd.merge(rows_genes, feature_importance_df, left_index=True, right_index=True)"
   ]
  },
  {
   "cell_type": "code",
   "execution_count": 33,
   "id": "1d6a591a-4568-48e8-b9ee-6cef252cd13d",
   "metadata": {},
   "outputs": [
    {
     "data": {
      "text/html": [
       "<div>\n",
       "<style scoped>\n",
       "    .dataframe tbody tr th:only-of-type {\n",
       "        vertical-align: middle;\n",
       "    }\n",
       "\n",
       "    .dataframe tbody tr th {\n",
       "        vertical-align: top;\n",
       "    }\n",
       "\n",
       "    .dataframe thead th {\n",
       "        text-align: right;\n",
       "    }\n",
       "</style>\n",
       "<table border=\"1\" class=\"dataframe\">\n",
       "  <thead>\n",
       "    <tr style=\"text-align: right;\">\n",
       "      <th></th>\n",
       "      <th>chromosome</th>\n",
       "      <th>gene_entrez_id</th>\n",
       "      <th>gene_symbol</th>\n",
       "      <th>gene_name</th>\n",
       "      <th>Importance</th>\n",
       "    </tr>\n",
       "    <tr>\n",
       "      <th>gene_id</th>\n",
       "      <th></th>\n",
       "      <th></th>\n",
       "      <th></th>\n",
       "      <th></th>\n",
       "      <th></th>\n",
       "    </tr>\n",
       "  </thead>\n",
       "  <tbody>\n",
       "    <tr>\n",
       "      <th>499304660</th>\n",
       "      <td>1</td>\n",
       "      <td>100287102</td>\n",
       "      <td>DDX11L1</td>\n",
       "      <td>DEAD/H (Asp-Glu-Ala-Asp/His) box helicase 11 l...</td>\n",
       "      <td>-0.001249</td>\n",
       "    </tr>\n",
       "    <tr>\n",
       "      <th>499304661</th>\n",
       "      <td>1</td>\n",
       "      <td>653635</td>\n",
       "      <td>WASH7P</td>\n",
       "      <td>WAS protein family homolog 7 pseudogene</td>\n",
       "      <td>-0.000334</td>\n",
       "    </tr>\n",
       "    <tr>\n",
       "      <th>499304662</th>\n",
       "      <td>1</td>\n",
       "      <td>102466751</td>\n",
       "      <td>MIR6859-1</td>\n",
       "      <td>microRNA 6859-1</td>\n",
       "      <td>0.000349</td>\n",
       "    </tr>\n",
       "    <tr>\n",
       "      <th>499304663</th>\n",
       "      <td>1</td>\n",
       "      <td>100302278</td>\n",
       "      <td>MIR1302-2</td>\n",
       "      <td>microRNA 1302-2</td>\n",
       "      <td>0.001220</td>\n",
       "    </tr>\n",
       "    <tr>\n",
       "      <th>499304664</th>\n",
       "      <td>1</td>\n",
       "      <td>645520</td>\n",
       "      <td>FAM138A</td>\n",
       "      <td>family with sequence similarity 138, member A</td>\n",
       "      <td>-0.002135</td>\n",
       "    </tr>\n",
       "    <tr>\n",
       "      <th>...</th>\n",
       "      <td>...</td>\n",
       "      <td>...</td>\n",
       "      <td>...</td>\n",
       "      <td>...</td>\n",
       "      <td>...</td>\n",
       "    </tr>\n",
       "    <tr>\n",
       "      <th>499355059</th>\n",
       "      <td>MT</td>\n",
       "      <td>4541</td>\n",
       "      <td>ND6</td>\n",
       "      <td>NADH dehydrogenase subunit 6</td>\n",
       "      <td>0.000841</td>\n",
       "    </tr>\n",
       "    <tr>\n",
       "      <th>499355060</th>\n",
       "      <td>MT</td>\n",
       "      <td>4556</td>\n",
       "      <td>TRNE</td>\n",
       "      <td>tRNA-Glu</td>\n",
       "      <td>-0.001161</td>\n",
       "    </tr>\n",
       "    <tr>\n",
       "      <th>499355061</th>\n",
       "      <td>MT</td>\n",
       "      <td>4519</td>\n",
       "      <td>CYTB</td>\n",
       "      <td>cytochrome b</td>\n",
       "      <td>0.001798</td>\n",
       "    </tr>\n",
       "    <tr>\n",
       "      <th>499355062</th>\n",
       "      <td>MT</td>\n",
       "      <td>4576</td>\n",
       "      <td>TRNT</td>\n",
       "      <td>tRNA-Thr</td>\n",
       "      <td>-0.001029</td>\n",
       "    </tr>\n",
       "    <tr>\n",
       "      <th>499355063</th>\n",
       "      <td>MT</td>\n",
       "      <td>4571</td>\n",
       "      <td>TRNP</td>\n",
       "      <td>tRNA-Pro</td>\n",
       "      <td>0.001866</td>\n",
       "    </tr>\n",
       "  </tbody>\n",
       "</table>\n",
       "<p>50281 rows × 5 columns</p>\n",
       "</div>"
      ],
      "text/plain": [
       "          chromosome  gene_entrez_id gene_symbol  \\\n",
       "gene_id                                            \n",
       "499304660          1       100287102     DDX11L1   \n",
       "499304661          1          653635      WASH7P   \n",
       "499304662          1       102466751   MIR6859-1   \n",
       "499304663          1       100302278   MIR1302-2   \n",
       "499304664          1          645520     FAM138A   \n",
       "...              ...             ...         ...   \n",
       "499355059         MT            4541         ND6   \n",
       "499355060         MT            4556        TRNE   \n",
       "499355061         MT            4519        CYTB   \n",
       "499355062         MT            4576        TRNT   \n",
       "499355063         MT            4571        TRNP   \n",
       "\n",
       "                                                   gene_name  Importance  \n",
       "gene_id                                                                   \n",
       "499304660  DEAD/H (Asp-Glu-Ala-Asp/His) box helicase 11 l...   -0.001249  \n",
       "499304661            WAS protein family homolog 7 pseudogene   -0.000334  \n",
       "499304662                                    microRNA 6859-1    0.000349  \n",
       "499304663                                    microRNA 1302-2    0.001220  \n",
       "499304664      family with sequence similarity 138, member A   -0.002135  \n",
       "...                                                      ...         ...  \n",
       "499355059                       NADH dehydrogenase subunit 6    0.000841  \n",
       "499355060                                           tRNA-Glu   -0.001161  \n",
       "499355061                                       cytochrome b    0.001798  \n",
       "499355062                                           tRNA-Thr   -0.001029  \n",
       "499355063                                           tRNA-Pro    0.001866  \n",
       "\n",
       "[50281 rows x 5 columns]"
      ]
     },
     "execution_count": 33,
     "metadata": {},
     "output_type": "execute_result"
    }
   ],
   "source": [
    "rows_genes"
   ]
  },
  {
   "cell_type": "code",
   "execution_count": 34,
   "id": "b5f0940a-8c27-48d7-a087-618604f9e0fb",
   "metadata": {},
   "outputs": [],
   "source": [
    "# Export complet set of genes\n",
    "# rows_genes.to_csv(parent_directory+'/results/tables/all_genes_table.csv')\n",
    "rows_genes.to_csv('../results/tables/all_genes_table.csv')"
   ]
  },
  {
   "cell_type": "code",
   "execution_count": 35,
   "id": "7bffa98a-4343-4ab7-86c6-197e2b4b7b90",
   "metadata": {},
   "outputs": [
    {
     "data": {
      "text/html": [
       "<div>\n",
       "<style scoped>\n",
       "    .dataframe tbody tr th:only-of-type {\n",
       "        vertical-align: middle;\n",
       "    }\n",
       "\n",
       "    .dataframe tbody tr th {\n",
       "        vertical-align: top;\n",
       "    }\n",
       "\n",
       "    .dataframe thead th {\n",
       "        text-align: right;\n",
       "    }\n",
       "</style>\n",
       "<table border=\"1\" class=\"dataframe\">\n",
       "  <thead>\n",
       "    <tr style=\"text-align: right;\">\n",
       "      <th></th>\n",
       "      <th>Importance</th>\n",
       "    </tr>\n",
       "    <tr>\n",
       "      <th>gene_id</th>\n",
       "      <th></th>\n",
       "    </tr>\n",
       "  </thead>\n",
       "  <tbody>\n",
       "    <tr>\n",
       "      <th>499328351</th>\n",
       "      <td>0.006306</td>\n",
       "    </tr>\n",
       "    <tr>\n",
       "      <th>499342498</th>\n",
       "      <td>0.005048</td>\n",
       "    </tr>\n",
       "    <tr>\n",
       "      <th>499336276</th>\n",
       "      <td>0.004684</td>\n",
       "    </tr>\n",
       "    <tr>\n",
       "      <th>499305157</th>\n",
       "      <td>0.004535</td>\n",
       "    </tr>\n",
       "    <tr>\n",
       "      <th>499351898</th>\n",
       "      <td>0.004525</td>\n",
       "    </tr>\n",
       "    <tr>\n",
       "      <th>...</th>\n",
       "      <td>...</td>\n",
       "    </tr>\n",
       "    <tr>\n",
       "      <th>499309559</th>\n",
       "      <td>-0.004572</td>\n",
       "    </tr>\n",
       "    <tr>\n",
       "      <th>499329196</th>\n",
       "      <td>-0.004594</td>\n",
       "    </tr>\n",
       "    <tr>\n",
       "      <th>499313799</th>\n",
       "      <td>-0.004743</td>\n",
       "    </tr>\n",
       "    <tr>\n",
       "      <th>499310793</th>\n",
       "      <td>-0.004811</td>\n",
       "    </tr>\n",
       "    <tr>\n",
       "      <th>499351284</th>\n",
       "      <td>-0.004816</td>\n",
       "    </tr>\n",
       "  </tbody>\n",
       "</table>\n",
       "<p>50281 rows × 1 columns</p>\n",
       "</div>"
      ],
      "text/plain": [
       "           Importance\n",
       "gene_id              \n",
       "499328351    0.006306\n",
       "499342498    0.005048\n",
       "499336276    0.004684\n",
       "499305157    0.004535\n",
       "499351898    0.004525\n",
       "...               ...\n",
       "499309559   -0.004572\n",
       "499329196   -0.004594\n",
       "499313799   -0.004743\n",
       "499310793   -0.004811\n",
       "499351284   -0.004816\n",
       "\n",
       "[50281 rows x 1 columns]"
      ]
     },
     "execution_count": 35,
     "metadata": {},
     "output_type": "execute_result"
    }
   ],
   "source": [
    "# Select features\n",
    "feature_importance_df = feature_importance_df.sort_values(by = 'Importance', ascending = False)\n",
    "feature_importance_df"
   ]
  },
  {
   "cell_type": "code",
   "execution_count": 36,
   "id": "190ec50e-b868-4cce-ac77-48a6f856768b",
   "metadata": {},
   "outputs": [
    {
     "data": {
      "image/png": "[encoded data removed]",
      "text/plain": [
       "<Figure size 720x432 with 1 Axes>"
      ]
     },
     "metadata": {
      "needs_background": "light"
     },
     "output_type": "display_data"
    }
   ],
   "source": [
    "# Plotting the histogram\n",
    "plt.figure(figsize=(10, 6))\n",
    "plt.hist(feature_importance_df['Importance'], bins=20, color='skyblue', edgecolor='black')\n",
    "plt.title('Importance Histogram')\n",
    "plt.xlabel('Importance Values')\n",
    "plt.ylabel('Frequency')\n",
    "plt.grid(axis='y', linestyle='--', alpha=0.7)\n",
    "plt.show()"
   ]
  },
  {
   "cell_type": "markdown",
   "id": "ac42b91a-2631-4d58-a9e4-09563acadfcd",
   "metadata": {},
   "source": [
    "#### Feature Importance"
   ]
  },
  {
   "cell_type": "markdown",
   "id": "92886092-f6ba-425f-94b6-df63d6e1d576",
   "metadata": {},
   "source": [
    "Removing irrelevant or highly correlated features"
   ]
  },
  {
   "cell_type": "code",
   "execution_count": 51,
   "id": "5f02f7ad-3606-4177-8230-a83355b6e95b",
   "metadata": {},
   "outputs": [],
   "source": [
    "from sklearn.feature_selection import SelectFromModel\n",
    "\n",
    "# set the number of features\n",
    "max_features = 300\n",
    "selector = SelectFromModel(model, threshold=-np.inf, max_features=max_features)"
   ]
  },
  {
   "cell_type": "code",
   "execution_count": 52,
   "id": "62bd311c-8c66-4bb7-b341-b2cb85fdebff",
   "metadata": {},
   "outputs": [],
   "source": [
    "# how many columns at thies point"
   ]
  },
  {
   "cell_type": "code",
   "execution_count": 53,
   "id": "0729a72d-060c-4da7-959b-52029f3bd84d",
   "metadata": {},
   "outputs": [
    {
     "data": {
      "text/plain": [
       "(301, 50281)"
      ]
     },
     "execution_count": 53,
     "metadata": {},
     "output_type": "execute_result"
    }
   ],
   "source": [
    "X_train_scaled.shape"
   ]
  },
  {
   "cell_type": "code",
   "execution_count": 54,
   "id": "355d02c4-088c-4480-a1b6-d9ae92483f46",
   "metadata": {},
   "outputs": [
    {
     "data": {
      "text/plain": [
       "SelectFromModel(estimator=LogisticRegression(C=0.001), max_features=300,\n",
       "                threshold=-inf)"
      ]
     },
     "execution_count": 54,
     "metadata": {},
     "output_type": "execute_result"
    }
   ],
   "source": [
    "selector.fit(X_train_scaled, y_train)"
   ]
  },
  {
   "cell_type": "code",
   "execution_count": 55,
   "id": "fb494bc6-4954-4f88-816f-f98cb1afdbe7",
   "metadata": {},
   "outputs": [],
   "source": [
    "# Get the boolean mask of selected features\n",
    "feature_mask = selector.get_support()"
   ]
  },
  {
   "cell_type": "code",
   "execution_count": 56,
   "id": "01d6b596-85bb-4d01-85c5-74b6254636a6",
   "metadata": {},
   "outputs": [],
   "source": [
    "# Use boolean indexing to select the indexes\n",
    "selected_indexes = feature_names[feature_mask]"
   ]
  },
  {
   "cell_type": "code",
   "execution_count": 57,
   "id": "040de8fe-9536-46eb-96f8-7c9090dc64b1",
   "metadata": {},
   "outputs": [
    {
     "data": {
      "text/plain": [
       "Index(['499304666', '499304686', '499304790', '499304938', '499305087',\n",
       "       '499305157', '499305555', '499306333', '499306336', '499306513',\n",
       "       ...\n",
       "       '499353447', '499353576', '499353582', '499353971', '499354083',\n",
       "       '499354217', '499354438', '499354812', '499354821', '499354840'],\n",
       "      dtype='object', length=300)"
      ]
     },
     "execution_count": 57,
     "metadata": {},
     "output_type": "execute_result"
    }
   ],
   "source": [
    "selected_indexes"
   ]
  },
  {
   "cell_type": "code",
   "execution_count": 58,
   "id": "bac77bea-b421-4a4f-8df0-53cda6b65011",
   "metadata": {},
   "outputs": [],
   "source": [
    "X_train_selected = selector.transform(X_train_scaled)\n",
    "X_test_selected = selector.transform(X_test_scaled)"
   ]
  },
  {
   "cell_type": "code",
   "execution_count": 59,
   "id": "2e67ab76-49fc-49bf-8b88-d8387e3ea1da",
   "metadata": {},
   "outputs": [
    {
     "data": {
      "text/plain": [
       "LogisticRegression(C=0.001)"
      ]
     },
     "execution_count": 59,
     "metadata": {},
     "output_type": "execute_result"
    }
   ],
   "source": [
    "model.fit(X_train_selected, y_train)"
   ]
  },
  {
   "cell_type": "code",
   "execution_count": 60,
   "id": "741266a3-c694-4ee3-8a9c-a6df6e3c83cd",
   "metadata": {},
   "outputs": [
    {
     "name": "stdout",
     "output_type": "stream",
     "text": [
      "CPU times: user 21 µs, sys: 12 µs, total: 33 µs\n",
      "Wall time: 36 µs\n"
     ]
    }
   ],
   "source": [
    "%%time\n",
    "# Perform RFE with cross-validation\n",
    "\n",
    "# Specify the positive class label\n",
    "positive_class_label = 'Dementia'\n",
    "\n",
    "# Create a scorer for precision with the specified positive label\n",
    "precision_scorer = make_scorer(precision_score, pos_label=positive_class_label)\n",
    "cv = StratifiedKFold(n_splits=5)\n",
    "\n",
    "# Use the precision_scorer in RFECV\n",
    "rfe = RFECV(estimator=model, step=1, cv=cv, scoring=precision_scorer)"
   ]
  },
  {
   "cell_type": "code",
   "execution_count": 61,
   "id": "bdb9365e-b9cb-4118-aa14-883da97949d8",
   "metadata": {},
   "outputs": [
    {
     "name": "stdout",
     "output_type": "stream",
     "text": [
      "CPU times: user 7.07 s, sys: 5.36 s, total: 12.4 s\n",
      "Wall time: 6.34 s\n"
     ]
    },
    {
     "data": {
      "text/plain": [
       "RFECV(cv=StratifiedKFold(n_splits=5, random_state=None, shuffle=False),\n",
       "      estimator=LogisticRegression(C=0.001),\n",
       "      scoring=make_scorer(precision_score, pos_label=Dementia))"
      ]
     },
     "execution_count": 61,
     "metadata": {},
     "output_type": "execute_result"
    }
   ],
   "source": [
    "%%time\n",
    "rfe.fit(X_train_selected, y_train)"
   ]
  },
  {
   "cell_type": "code",
   "execution_count": 62,
   "id": "46a906c0-0193-41e8-a7a8-f7e1737795d5",
   "metadata": {},
   "outputs": [],
   "source": [
    "# Get the optimal number of features\n",
    "optimal_num_features = rfe.n_features_"
   ]
  },
  {
   "cell_type": "code",
   "execution_count": 63,
   "id": "a05c6116-4cc3-4b8a-8e38-a19b4a1137e6",
   "metadata": {},
   "outputs": [
    {
     "data": {
      "text/plain": [
       "283"
      ]
     },
     "execution_count": 63,
     "metadata": {},
     "output_type": "execute_result"
    }
   ],
   "source": [
    "optimal_num_features"
   ]
  },
  {
   "cell_type": "code",
   "execution_count": 64,
   "id": "5e0270cf-156e-45ee-8d59-7c0e7522428a",
   "metadata": {},
   "outputs": [
    {
     "data": {
      "text/plain": [
       "300"
      ]
     },
     "execution_count": 64,
     "metadata": {},
     "output_type": "execute_result"
    }
   ],
   "source": [
    "len(rfe.support_)"
   ]
  },
  {
   "cell_type": "code",
   "execution_count": 65,
   "id": "d2c33705-fdaa-4bed-9a00-d180831c7796",
   "metadata": {},
   "outputs": [],
   "source": [
    "optimal_features_mask = rfe.support_"
   ]
  },
  {
   "cell_type": "code",
   "execution_count": 66,
   "id": "10d6df2a-70d1-4f13-986b-03bdb2be4a4f",
   "metadata": {},
   "outputs": [],
   "source": [
    "optimal_features = selected_indexes[optimal_features_mask]"
   ]
  },
  {
   "cell_type": "code",
   "execution_count": 67,
   "id": "c5d5e36b-9239-4047-9240-caf5a91f4c41",
   "metadata": {},
   "outputs": [
    {
     "data": {
      "text/plain": [
       "Index(['499304666', '499304790', '499304938', '499305087', '499305157',\n",
       "       '499305555', '499306333', '499306336', '499306513', '499306797',\n",
       "       ...\n",
       "       '499353230', '499353447', '499353576', '499353582', '499353971',\n",
       "       '499354083', '499354217', '499354812', '499354821', '499354840'],\n",
       "      dtype='object', length=283)"
      ]
     },
     "execution_count": 67,
     "metadata": {},
     "output_type": "execute_result"
    }
   ],
   "source": [
    "# Get the list of selected features\n",
    "optimal_features"
   ]
  },
  {
   "cell_type": "code",
   "execution_count": 68,
   "id": "9f64066a-d85a-40c4-aa95-a7bd36f77cda",
   "metadata": {},
   "outputs": [],
   "source": [
    " # Save the array to a file\n",
    "np.save('../results/plots/selected_features.npy', optimal_features)"
   ]
  },
  {
   "cell_type": "code",
   "execution_count": 69,
   "id": "6d3ea1e1-dac2-4ba0-b2f0-014114a1af83",
   "metadata": {},
   "outputs": [],
   "source": [
    "# Create a DataFrame to store the data\n",
    "results_df = pd.DataFrame({\n",
    "    'Number_of_Features': range(1, len(rfe.grid_scores_) + 1),\n",
    "    'Cross_Validated_Score': rfe.grid_scores_\n",
    "})"
   ]
  },
  {
   "cell_type": "code",
   "execution_count": 70,
   "id": "a6bd7a24-c4d9-418e-b358-c9d532551807",
   "metadata": {},
   "outputs": [
    {
     "data": {
      "text/html": [
       "<div>\n",
       "<style scoped>\n",
       "    .dataframe tbody tr th:only-of-type {\n",
       "        vertical-align: middle;\n",
       "    }\n",
       "\n",
       "    .dataframe tbody tr th {\n",
       "        vertical-align: top;\n",
       "    }\n",
       "\n",
       "    .dataframe thead th {\n",
       "        text-align: right;\n",
       "    }\n",
       "</style>\n",
       "<table border=\"1\" class=\"dataframe\">\n",
       "  <thead>\n",
       "    <tr style=\"text-align: right;\">\n",
       "      <th></th>\n",
       "      <th>Number_of_Features</th>\n",
       "      <th>Cross_Validated_Score</th>\n",
       "    </tr>\n",
       "  </thead>\n",
       "  <tbody>\n",
       "    <tr>\n",
       "      <th>0</th>\n",
       "      <td>1</td>\n",
       "      <td>0.300000</td>\n",
       "    </tr>\n",
       "    <tr>\n",
       "      <th>1</th>\n",
       "      <td>2</td>\n",
       "      <td>0.783333</td>\n",
       "    </tr>\n",
       "    <tr>\n",
       "      <th>2</th>\n",
       "      <td>3</td>\n",
       "      <td>0.660714</td>\n",
       "    </tr>\n",
       "    <tr>\n",
       "      <th>3</th>\n",
       "      <td>4</td>\n",
       "      <td>0.683333</td>\n",
       "    </tr>\n",
       "    <tr>\n",
       "      <th>4</th>\n",
       "      <td>5</td>\n",
       "      <td>0.816429</td>\n",
       "    </tr>\n",
       "    <tr>\n",
       "      <th>...</th>\n",
       "      <td>...</td>\n",
       "      <td>...</td>\n",
       "    </tr>\n",
       "    <tr>\n",
       "      <th>295</th>\n",
       "      <td>296</td>\n",
       "      <td>1.000000</td>\n",
       "    </tr>\n",
       "    <tr>\n",
       "      <th>296</th>\n",
       "      <td>297</td>\n",
       "      <td>1.000000</td>\n",
       "    </tr>\n",
       "    <tr>\n",
       "      <th>297</th>\n",
       "      <td>298</td>\n",
       "      <td>1.000000</td>\n",
       "    </tr>\n",
       "    <tr>\n",
       "      <th>298</th>\n",
       "      <td>299</td>\n",
       "      <td>1.000000</td>\n",
       "    </tr>\n",
       "    <tr>\n",
       "      <th>299</th>\n",
       "      <td>300</td>\n",
       "      <td>1.000000</td>\n",
       "    </tr>\n",
       "  </tbody>\n",
       "</table>\n",
       "<p>300 rows × 2 columns</p>\n",
       "</div>"
      ],
      "text/plain": [
       "     Number_of_Features  Cross_Validated_Score\n",
       "0                     1               0.300000\n",
       "1                     2               0.783333\n",
       "2                     3               0.660714\n",
       "3                     4               0.683333\n",
       "4                     5               0.816429\n",
       "..                  ...                    ...\n",
       "295                 296               1.000000\n",
       "296                 297               1.000000\n",
       "297                 298               1.000000\n",
       "298                 299               1.000000\n",
       "299                 300               1.000000\n",
       "\n",
       "[300 rows x 2 columns]"
      ]
     },
     "execution_count": 70,
     "metadata": {},
     "output_type": "execute_result"
    }
   ],
   "source": [
    "results_df"
   ]
  },
  {
   "cell_type": "code",
   "execution_count": 71,
   "id": "4d3b131c-1644-46f5-a54e-c65b0b9cb7bb",
   "metadata": {},
   "outputs": [],
   "source": [
    "# Save feature importance externally\n",
    "results_df.to_csv('../results/plots/rfe_cv_results.csv')"
   ]
  },
  {
   "cell_type": "code",
   "execution_count": 72,
   "id": "b41f4ce7-a317-4264-831b-c2c4714953d7",
   "metadata": {},
   "outputs": [
    {
     "name": "stdout",
     "output_type": "stream",
     "text": [
      "Optimal Number of Features: 283\n"
     ]
    }
   ],
   "source": [
    "# Print the recommendations\n",
    "print(f\"Optimal Number of Features: {optimal_num_features}\")\n",
    "# print(f\"Selected Features: {list(selected_features)}\")"
   ]
  },
  {
   "cell_type": "markdown",
   "id": "32b60030-6950-4c7f-a65d-c24dd08a2594",
   "metadata": {},
   "source": [
    "#### Plot RFE from external file"
   ]
  },
  {
   "cell_type": "code",
   "execution_count": 73,
   "id": "6416d44a-7dbe-43a2-a9c1-e14d2861323a",
   "metadata": {},
   "outputs": [],
   "source": [
    "results_df_ext = pd.read_csv('../results/plots/rfe_cv_results.csv')"
   ]
  },
  {
   "cell_type": "code",
   "execution_count": 74,
   "id": "9a0f6556-fbb7-448a-b461-ec8e930c6976",
   "metadata": {},
   "outputs": [
    {
     "data": {
      "text/html": [
       "<div>\n",
       "<style scoped>\n",
       "    .dataframe tbody tr th:only-of-type {\n",
       "        vertical-align: middle;\n",
       "    }\n",
       "\n",
       "    .dataframe tbody tr th {\n",
       "        vertical-align: top;\n",
       "    }\n",
       "\n",
       "    .dataframe thead th {\n",
       "        text-align: right;\n",
       "    }\n",
       "</style>\n",
       "<table border=\"1\" class=\"dataframe\">\n",
       "  <thead>\n",
       "    <tr style=\"text-align: right;\">\n",
       "      <th></th>\n",
       "      <th>Unnamed: 0</th>\n",
       "      <th>Number_of_Features</th>\n",
       "      <th>Cross_Validated_Score</th>\n",
       "    </tr>\n",
       "  </thead>\n",
       "  <tbody>\n",
       "    <tr>\n",
       "      <th>0</th>\n",
       "      <td>0</td>\n",
       "      <td>1</td>\n",
       "      <td>0.300000</td>\n",
       "    </tr>\n",
       "    <tr>\n",
       "      <th>1</th>\n",
       "      <td>1</td>\n",
       "      <td>2</td>\n",
       "      <td>0.783333</td>\n",
       "    </tr>\n",
       "    <tr>\n",
       "      <th>2</th>\n",
       "      <td>2</td>\n",
       "      <td>3</td>\n",
       "      <td>0.660714</td>\n",
       "    </tr>\n",
       "    <tr>\n",
       "      <th>3</th>\n",
       "      <td>3</td>\n",
       "      <td>4</td>\n",
       "      <td>0.683333</td>\n",
       "    </tr>\n",
       "    <tr>\n",
       "      <th>4</th>\n",
       "      <td>4</td>\n",
       "      <td>5</td>\n",
       "      <td>0.816429</td>\n",
       "    </tr>\n",
       "  </tbody>\n",
       "</table>\n",
       "</div>"
      ],
      "text/plain": [
       "   Unnamed: 0  Number_of_Features  Cross_Validated_Score\n",
       "0           0                   1               0.300000\n",
       "1           1                   2               0.783333\n",
       "2           2                   3               0.660714\n",
       "3           3                   4               0.683333\n",
       "4           4                   5               0.816429"
      ]
     },
     "execution_count": 74,
     "metadata": {},
     "output_type": "execute_result"
    }
   ],
   "source": [
    "results_df_ext.head()"
   ]
  },
  {
   "cell_type": "markdown",
   "id": "5e5f3f02-f61d-4bcf-be97-101cb0abedeb",
   "metadata": {},
   "source": [
    "\n",
    "__Recursive Feature Elimination with Cross-Validation__  \n",
    "The plot (RFE-CV) shows the relationship between the number of selected features and the cross-validated score (accuracy in this case). Here's how to interpret the plot:\n",
    "\n",
    "* X-axis (Number of Features Selected):  \n",
    "Each point on the x-axis represents the number of features selected during the RFE process. It starts from 1 and goes up to the total number of features in your dataset.  \n",
    "* Y-axis (Cross-Validated Score):  \n",
    "The y-axis represents the cross-validated score (accuracy in this case) corresponding to the number of features selected. The higher the y-value, the better the model's performance.  \n",
    "\n",
    "* Plot Shape:  \n",
    "The elbow or plateau in the plot is the point where adding more features doesn't significantly improve the cross-validated score. We want to find a balance between the number of features and the model's performance.  \n"
   ]
  },
  {
   "cell_type": "code",
   "execution_count": 89,
   "id": "6bb076ee-6989-4a97-bf6d-0d7e6ed32db7",
   "metadata": {},
   "outputs": [
    {
     "data": {
      "text/html": [
       "\n",
       "<div id=\"altair-viz-740c07b5e19d4553978f978c478c410c\"></div>\n",
       "<script type=\"text/javascript\">\n",
       "  var VEGA_DEBUG = (typeof VEGA_DEBUG == \"undefined\") ? {} : VEGA_DEBUG;\n",
       "  (function(spec, embedOpt){\n",
       "    let outputDiv = document.currentScript.previousElementSibling;\n",
       "    if (outputDiv.id !== \"altair-viz-740c07b5e19d4553978f978c478c410c\") {\n",
       "      outputDiv = document.getElementById(\"altair-viz-740c07b5e19d4553978f978c478c410c\");\n",
       "    }\n",
       "    const paths = {\n",
       "      \"vega\": \"https://cdn.jsdelivr.net/npm//vega@5?noext\",\n",
       "      \"vega-lib\": \"https://cdn.jsdelivr.net/npm//vega-lib?noext\",\n",
       "      \"vega-lite\": \"https://cdn.jsdelivr.net/npm//vega-lite@4.17.0?noext\",\n",
       "      \"vega-embed\": \"https://cdn.jsdelivr.net/npm//vega-embed@6?noext\",\n",
       "    };\n",
       "\n",
       "    function maybeLoadScript(lib, version) {\n",
       "      var key = `${lib.replace(\"-\", \"\")}_version`;\n",
       "      return (VEGA_DEBUG[key] == version) ?\n",
       "        Promise.resolve(paths[lib]) :\n",
       "        new Promise(function(resolve, reject) {\n",
       "          var s = document.createElement('script');\n",
       "          document.getElementsByTagName(\"head\")[0].appendChild(s);\n",
       "          s.async = true;\n",
       "          s.onload = () => {\n",
       "            VEGA_DEBUG[key] = version;\n",
       "            return resolve(paths[lib]);\n",
       "          };\n",
       "          s.onerror = () => reject(`Error loading script: ${paths[lib]}`);\n",
       "          s.src = paths[lib];\n",
       "        });\n",
       "    }\n",
       "\n",
       "    function showError(err) {\n",
       "      outputDiv.innerHTML = `<div class=\"error\" style=\"color:red;\">${err}</div>`;\n",
       "      throw err;\n",
       "    }\n",
       "\n",
       "    function displayChart(vegaEmbed) {\n",
       "      vegaEmbed(outputDiv, spec, embedOpt)\n",
       "        .catch(err => showError(`Javascript Error: ${err.message}<br>This usually means there's a typo in your chart specification. See the javascript console for the full traceback.`));\n",
       "    }\n",
       "\n",
       "    if(typeof define === \"function\" && define.amd) {\n",
       "      requirejs.config({paths});\n",
       "      require([\"vega-embed\"], displayChart, err => showError(`Error loading script: ${err.message}`));\n",
       "    } else {\n",
       "      maybeLoadScript(\"vega\", \"5\")\n",
       "        .then(() => maybeLoadScript(\"vega-lite\", \"4.17.0\"))\n",
       "        .then(() => maybeLoadScript(\"vega-embed\", \"6\"))\n",
       "        .catch(showError)\n",
       "        .then(() => displayChart(vegaEmbed));\n",
       "    }\n",
       "  })({\"usermeta\": {\"embedOptions\": {\"theme\": \"fivethirtyeight\"}}, \"config\": {\"view\": {\"continuousWidth\": 400, \"continuousHeight\": 300}}, \"layer\": [{\"data\": {\"name\": \"data-cf83224980b9fdce24109ef290872fef\"}, \"mark\": {\"type\": \"line\", \"point\": true}, \"encoding\": {\"tooltip\": [{\"field\": \"Number_of_Features\", \"type\": \"ordinal\"}, {\"field\": \"Cross_Validated_Score\", \"type\": \"quantitative\"}], \"x\": {\"axis\": {\"domain\": false, \"grid\": true, \"labelAlign\": \"right\", \"labelPadding\": 0, \"labels\": true, \"tickMinStep\": 100, \"ticks\": true, \"title\": \"Number of Features\", \"values\": [0, 100, 200, 300]}, \"field\": \"Number_of_Features\", \"type\": \"ordinal\"}, \"y\": {\"axis\": {\"title\": \"Cross Validation Score\"}, \"field\": \"Cross_Validated_Score\", \"type\": \"quantitative\"}}, \"title\": \"Recursive Feature Elimination with Cross-Validation (RFE-CV)\", \"width\": 600}, {\"data\": {\"name\": \"data-cab9256e5f4e9dc38d9e619ee3fb870e\"}, \"mark\": {\"type\": \"rule\", \"color\": \"red\", \"strokeWidth\": 2}, \"encoding\": {\"x\": {\"field\": \"x\", \"type\": \"ordinal\"}}}], \"$schema\": \"https://vega.github.io/schema/vega-lite/v4.17.0.json\", \"datasets\": {\"data-cf83224980b9fdce24109ef290872fef\": [{\"Unnamed: 0\": 0, \"Number_of_Features\": 1, \"Cross_Validated_Score\": 0.3}, {\"Unnamed: 0\": 1, \"Number_of_Features\": 2, \"Cross_Validated_Score\": 0.7833333333333333}, {\"Unnamed: 0\": 2, \"Number_of_Features\": 3, \"Cross_Validated_Score\": 0.6607142857142857}, {\"Unnamed: 0\": 3, \"Number_of_Features\": 4, \"Cross_Validated_Score\": 0.6833333333333333}, {\"Unnamed: 0\": 4, \"Number_of_Features\": 5, \"Cross_Validated_Score\": 0.8164285714285715}, {\"Unnamed: 0\": 5, \"Number_of_Features\": 6, \"Cross_Validated_Score\": 0.7264102564102564}, {\"Unnamed: 0\": 6, \"Number_of_Features\": 7, \"Cross_Validated_Score\": 0.7966666666666666}, {\"Unnamed: 0\": 7, \"Number_of_Features\": 8, \"Cross_Validated_Score\": 0.718916083916084}, {\"Unnamed: 0\": 8, \"Number_of_Features\": 9, \"Cross_Validated_Score\": 0.706965811965812}, {\"Unnamed: 0\": 9, \"Number_of_Features\": 10, \"Cross_Validated_Score\": 0.7158613445378152}, {\"Unnamed: 0\": 10, \"Number_of_Features\": 11, \"Cross_Validated_Score\": 0.6982142857142858}, {\"Unnamed: 0\": 11, \"Number_of_Features\": 12, \"Cross_Validated_Score\": 0.6806926406926406}, {\"Unnamed: 0\": 12, \"Number_of_Features\": 13, \"Cross_Validated_Score\": 0.6833823529411764}, {\"Unnamed: 0\": 13, \"Number_of_Features\": 14, \"Cross_Validated_Score\": 0.6795670995670996}, {\"Unnamed: 0\": 14, \"Number_of_Features\": 15, \"Cross_Validated_Score\": 0.7095603089720737}, {\"Unnamed: 0\": 15, \"Number_of_Features\": 16, \"Cross_Validated_Score\": 0.6957791778225215}, {\"Unnamed: 0\": 16, \"Number_of_Features\": 17, \"Cross_Validated_Score\": 0.7461601307189543}, {\"Unnamed: 0\": 17, \"Number_of_Features\": 18, \"Cross_Validated_Score\": 0.7586589880707528}, {\"Unnamed: 0\": 18, \"Number_of_Features\": 19, \"Cross_Validated_Score\": 0.723751535702}, {\"Unnamed: 0\": 19, \"Number_of_Features\": 20, \"Cross_Validated_Score\": 0.7470212484453971}, {\"Unnamed: 0\": 20, \"Number_of_Features\": 21, \"Cross_Validated_Score\": 0.7291731075941602}, {\"Unnamed: 0\": 21, \"Number_of_Features\": 22, \"Cross_Validated_Score\": 0.7491228070175439}, {\"Unnamed: 0\": 22, \"Number_of_Features\": 23, \"Cross_Validated_Score\": 0.7301206636500754}, {\"Unnamed: 0\": 23, \"Number_of_Features\": 24, \"Cross_Validated_Score\": 0.7643032329988853}, {\"Unnamed: 0\": 24, \"Number_of_Features\": 25, \"Cross_Validated_Score\": 0.7191798418972333}, {\"Unnamed: 0\": 25, \"Number_of_Features\": 26, \"Cross_Validated_Score\": 0.7584615384615384}, {\"Unnamed: 0\": 26, \"Number_of_Features\": 27, \"Cross_Validated_Score\": 0.7850915750915751}, {\"Unnamed: 0\": 27, \"Number_of_Features\": 28, \"Cross_Validated_Score\": 0.754988344988345}, {\"Unnamed: 0\": 28, \"Number_of_Features\": 29, \"Cross_Validated_Score\": 0.7955064935064934}, {\"Unnamed: 0\": 29, \"Number_of_Features\": 30, \"Cross_Validated_Score\": 0.7891936707793485}, {\"Unnamed: 0\": 30, \"Number_of_Features\": 31, \"Cross_Validated_Score\": 0.8066137566137567}, {\"Unnamed: 0\": 31, \"Number_of_Features\": 32, \"Cross_Validated_Score\": 0.8083697478991596}, {\"Unnamed: 0\": 32, \"Number_of_Features\": 33, \"Cross_Validated_Score\": 0.8075931911226029}, {\"Unnamed: 0\": 33, \"Number_of_Features\": 34, \"Cross_Validated_Score\": 0.8241758241758241}, {\"Unnamed: 0\": 34, \"Number_of_Features\": 35, \"Cross_Validated_Score\": 0.8381091617933724}, {\"Unnamed: 0\": 35, \"Number_of_Features\": 36, \"Cross_Validated_Score\": 0.8481792717086835}, {\"Unnamed: 0\": 36, \"Number_of_Features\": 37, \"Cross_Validated_Score\": 0.8347456877487837}, {\"Unnamed: 0\": 37, \"Number_of_Features\": 38, \"Cross_Validated_Score\": 0.8559259259259259}, {\"Unnamed: 0\": 38, \"Number_of_Features\": 39, \"Cross_Validated_Score\": 0.8642881714089145}, {\"Unnamed: 0\": 39, \"Number_of_Features\": 40, \"Cross_Validated_Score\": 0.8715336134453782}, {\"Unnamed: 0\": 40, \"Number_of_Features\": 41, \"Cross_Validated_Score\": 0.8690987933634993}, {\"Unnamed: 0\": 41, \"Number_of_Features\": 42, \"Cross_Validated_Score\": 0.8705446623093682}, {\"Unnamed: 0\": 42, \"Number_of_Features\": 43, \"Cross_Validated_Score\": 0.8767873303167422}, {\"Unnamed: 0\": 43, \"Number_of_Features\": 44, \"Cross_Validated_Score\": 0.8686663554310613}, {\"Unnamed: 0\": 44, \"Number_of_Features\": 45, \"Cross_Validated_Score\": 0.8422466422466423}, {\"Unnamed: 0\": 45, \"Number_of_Features\": 46, \"Cross_Validated_Score\": 0.8315355233002292}, {\"Unnamed: 0\": 46, \"Number_of_Features\": 47, \"Cross_Validated_Score\": 0.8315355233002292}, {\"Unnamed: 0\": 47, \"Number_of_Features\": 48, \"Cross_Validated_Score\": 0.8343392999833161}, {\"Unnamed: 0\": 48, \"Number_of_Features\": 49, \"Cross_Validated_Score\": 0.8109476099739791}, {\"Unnamed: 0\": 49, \"Number_of_Features\": 50, \"Cross_Validated_Score\": 0.8338087612540479}, {\"Unnamed: 0\": 50, \"Number_of_Features\": 51, \"Cross_Validated_Score\": 0.828838612368024}, {\"Unnamed: 0\": 51, \"Number_of_Features\": 52, \"Cross_Validated_Score\": 0.8313275582465292}, {\"Unnamed: 0\": 52, \"Number_of_Features\": 53, \"Cross_Validated_Score\": 0.8323391812865497}, {\"Unnamed: 0\": 53, \"Number_of_Features\": 54, \"Cross_Validated_Score\": 0.8290241733365672}, {\"Unnamed: 0\": 54, \"Number_of_Features\": 55, \"Cross_Validated_Score\": 0.8635725677830942}, {\"Unnamed: 0\": 55, \"Number_of_Features\": 56, \"Cross_Validated_Score\": 0.8647765496152593}, {\"Unnamed: 0\": 56, \"Number_of_Features\": 57, \"Cross_Validated_Score\": 0.8398761009105836}, {\"Unnamed: 0\": 57, \"Number_of_Features\": 58, \"Cross_Validated_Score\": 0.8422305764411027}, {\"Unnamed: 0\": 58, \"Number_of_Features\": 59, \"Cross_Validated_Score\": 0.835287356321839}, {\"Unnamed: 0\": 59, \"Number_of_Features\": 60, \"Cross_Validated_Score\": 0.8436856247201074}, {\"Unnamed: 0\": 60, \"Number_of_Features\": 61, \"Cross_Validated_Score\": 0.8612315270935961}, {\"Unnamed: 0\": 61, \"Number_of_Features\": 62, \"Cross_Validated_Score\": 0.8686591478696741}, {\"Unnamed: 0\": 62, \"Number_of_Features\": 63, \"Cross_Validated_Score\": 0.836060606060606}, {\"Unnamed: 0\": 63, \"Number_of_Features\": 64, \"Cross_Validated_Score\": 0.8444782803403493}, {\"Unnamed: 0\": 64, \"Number_of_Features\": 65, \"Cross_Validated_Score\": 0.842157557584844}, {\"Unnamed: 0\": 65, \"Number_of_Features\": 66, \"Cross_Validated_Score\": 0.8668253968253967}, {\"Unnamed: 0\": 66, \"Number_of_Features\": 67, \"Cross_Validated_Score\": 0.8632823437905108}, {\"Unnamed: 0\": 67, \"Number_of_Features\": 68, \"Cross_Validated_Score\": 0.8800506096158269}, {\"Unnamed: 0\": 68, \"Number_of_Features\": 69, \"Cross_Validated_Score\": 0.8879169076537498}, {\"Unnamed: 0\": 69, \"Number_of_Features\": 70, \"Cross_Validated_Score\": 0.8876747424115845}, {\"Unnamed: 0\": 70, \"Number_of_Features\": 71, \"Cross_Validated_Score\": 0.8868253968253967}, {\"Unnamed: 0\": 71, \"Number_of_Features\": 72, \"Cross_Validated_Score\": 0.8675974025974025}, {\"Unnamed: 0\": 72, \"Number_of_Features\": 73, \"Cross_Validated_Score\": 0.8675180375180375}, {\"Unnamed: 0\": 73, \"Number_of_Features\": 74, \"Cross_Validated_Score\": 0.8902272019919077}, {\"Unnamed: 0\": 74, \"Number_of_Features\": 75, \"Cross_Validated_Score\": 0.8773363891010948}, {\"Unnamed: 0\": 75, \"Number_of_Features\": 76, \"Cross_Validated_Score\": 0.8984371184371185}, {\"Unnamed: 0\": 76, \"Number_of_Features\": 77, \"Cross_Validated_Score\": 0.8858730158730157}, {\"Unnamed: 0\": 77, \"Number_of_Features\": 78, \"Cross_Validated_Score\": 0.9124366471734892}, {\"Unnamed: 0\": 78, \"Number_of_Features\": 79, \"Cross_Validated_Score\": 0.884481658692185}, {\"Unnamed: 0\": 79, \"Number_of_Features\": 80, \"Cross_Validated_Score\": 0.9078661616161616}, {\"Unnamed: 0\": 80, \"Number_of_Features\": 81, \"Cross_Validated_Score\": 0.9028604118993137}, {\"Unnamed: 0\": 81, \"Number_of_Features\": 82, \"Cross_Validated_Score\": 0.9105555555555556}, {\"Unnamed: 0\": 82, \"Number_of_Features\": 83, \"Cross_Validated_Score\": 0.9088150042625746}, {\"Unnamed: 0\": 83, \"Number_of_Features\": 84, \"Cross_Validated_Score\": 0.9173636677901652}, {\"Unnamed: 0\": 84, \"Number_of_Features\": 85, \"Cross_Validated_Score\": 0.915291489593549}, {\"Unnamed: 0\": 85, \"Number_of_Features\": 86, \"Cross_Validated_Score\": 0.9168030270578996}, {\"Unnamed: 0\": 86, \"Number_of_Features\": 87, \"Cross_Validated_Score\": 0.9168546365914788}, {\"Unnamed: 0\": 87, \"Number_of_Features\": 88, \"Cross_Validated_Score\": 0.9244633322436526}, {\"Unnamed: 0\": 88, \"Number_of_Features\": 89, \"Cross_Validated_Score\": 0.9345134575569356}, {\"Unnamed: 0\": 89, \"Number_of_Features\": 90, \"Cross_Validated_Score\": 0.9254658385093169}, {\"Unnamed: 0\": 90, \"Number_of_Features\": 91, \"Cross_Validated_Score\": 0.9226118326118328}, {\"Unnamed: 0\": 91, \"Number_of_Features\": 92, \"Cross_Validated_Score\": 0.9135642135642136}, {\"Unnamed: 0\": 92, \"Number_of_Features\": 93, \"Cross_Validated_Score\": 0.9076118326118326}, {\"Unnamed: 0\": 93, \"Number_of_Features\": 94, \"Cross_Validated_Score\": 0.9152205282640063}, {\"Unnamed: 0\": 94, \"Number_of_Features\": 95, \"Cross_Validated_Score\": 0.9073308270676692}, {\"Unnamed: 0\": 95, \"Number_of_Features\": 96, \"Cross_Validated_Score\": 0.9088571428571428}, {\"Unnamed: 0\": 96, \"Number_of_Features\": 97, \"Cross_Validated_Score\": 0.90919662793347}, {\"Unnamed: 0\": 97, \"Number_of_Features\": 98, \"Cross_Validated_Score\": 0.9098423645320196}, {\"Unnamed: 0\": 98, \"Number_of_Features\": 99, \"Cross_Validated_Score\": 0.9261904761904762}, {\"Unnamed: 0\": 99, \"Number_of_Features\": 100, \"Cross_Validated_Score\": 0.9241614906832298}, {\"Unnamed: 0\": 100, \"Number_of_Features\": 101, \"Cross_Validated_Score\": 0.9173333333333332}, {\"Unnamed: 0\": 101, \"Number_of_Features\": 102, \"Cross_Validated_Score\": 0.9082751322751322}, {\"Unnamed: 0\": 102, \"Number_of_Features\": 103, \"Cross_Validated_Score\": 0.9145262145262146}, {\"Unnamed: 0\": 103, \"Number_of_Features\": 104, \"Cross_Validated_Score\": 0.9106320346320343}, {\"Unnamed: 0\": 104, \"Number_of_Features\": 105, \"Cross_Validated_Score\": 0.9207081653978204}, {\"Unnamed: 0\": 105, \"Number_of_Features\": 106, \"Cross_Validated_Score\": 0.9292467532467532}, {\"Unnamed: 0\": 106, \"Number_of_Features\": 107, \"Cross_Validated_Score\": 0.9292467532467532}, {\"Unnamed: 0\": 107, \"Number_of_Features\": 108, \"Cross_Validated_Score\": 0.9201558441558442}, {\"Unnamed: 0\": 108, \"Number_of_Features\": 109, \"Cross_Validated_Score\": 0.91927526496492}, {\"Unnamed: 0\": 109, \"Number_of_Features\": 110, \"Cross_Validated_Score\": 0.9201410658307212}, {\"Unnamed: 0\": 110, \"Number_of_Features\": 111, \"Cross_Validated_Score\": 0.9201410658307212}, {\"Unnamed: 0\": 111, \"Number_of_Features\": 112, \"Cross_Validated_Score\": 0.9211410658307212}, {\"Unnamed: 0\": 112, \"Number_of_Features\": 113, \"Cross_Validated_Score\": 0.9297369297369296}, {\"Unnamed: 0\": 113, \"Number_of_Features\": 114, \"Cross_Validated_Score\": 0.9201558441558442}, {\"Unnamed: 0\": 114, \"Number_of_Features\": 115, \"Cross_Validated_Score\": 0.9142445141065833}, {\"Unnamed: 0\": 115, \"Number_of_Features\": 116, \"Cross_Validated_Score\": 0.923802541544477}, {\"Unnamed: 0\": 116, \"Number_of_Features\": 117, \"Cross_Validated_Score\": 0.9154645027716556}, {\"Unnamed: 0\": 117, \"Number_of_Features\": 118, \"Cross_Validated_Score\": 0.9154645027716556}, {\"Unnamed: 0\": 118, \"Number_of_Features\": 119, \"Cross_Validated_Score\": 0.9217225672877848}, {\"Unnamed: 0\": 119, \"Number_of_Features\": 120, \"Cross_Validated_Score\": 0.9279130434782608}, {\"Unnamed: 0\": 120, \"Number_of_Features\": 121, \"Cross_Validated_Score\": 0.9265217391304348}, {\"Unnamed: 0\": 121, \"Number_of_Features\": 122, \"Cross_Validated_Score\": 0.9279130434782608}, {\"Unnamed: 0\": 122, \"Number_of_Features\": 123, \"Cross_Validated_Score\": 0.9299090909090908}, {\"Unnamed: 0\": 123, \"Number_of_Features\": 124, \"Cross_Validated_Score\": 0.9312784345154612}, {\"Unnamed: 0\": 124, \"Number_of_Features\": 125, \"Cross_Validated_Score\": 0.9317113349483616}, {\"Unnamed: 0\": 125, \"Number_of_Features\": 126, \"Cross_Validated_Score\": 0.9408022440392706}, {\"Unnamed: 0\": 126, \"Number_of_Features\": 127, \"Cross_Validated_Score\": 0.9333333333333332}, {\"Unnamed: 0\": 127, \"Number_of_Features\": 128, \"Cross_Validated_Score\": 0.9341935483870968}, {\"Unnamed: 0\": 128, \"Number_of_Features\": 129, \"Cross_Validated_Score\": 0.9237732585320244}, {\"Unnamed: 0\": 129, \"Number_of_Features\": 130, \"Cross_Validated_Score\": 0.936115987460815}, {\"Unnamed: 0\": 130, \"Number_of_Features\": 131, \"Cross_Validated_Score\": 0.936115987460815}, {\"Unnamed: 0\": 131, \"Number_of_Features\": 132, \"Cross_Validated_Score\": 0.9365112443778112}, {\"Unnamed: 0\": 132, \"Number_of_Features\": 133, \"Cross_Validated_Score\": 0.9309495091164096}, {\"Unnamed: 0\": 133, \"Number_of_Features\": 134, \"Cross_Validated_Score\": 0.9448445777111444}, {\"Unnamed: 0\": 134, \"Number_of_Features\": 135, \"Cross_Validated_Score\": 0.9454599623265292}, {\"Unnamed: 0\": 135, \"Number_of_Features\": 136, \"Cross_Validated_Score\": 0.9448445777111444}, {\"Unnamed: 0\": 136, \"Number_of_Features\": 137, \"Cross_Validated_Score\": 0.9472828424497428}, {\"Unnamed: 0\": 137, \"Number_of_Features\": 138, \"Cross_Validated_Score\": 0.9446376811594204}, {\"Unnamed: 0\": 138, \"Number_of_Features\": 139, \"Cross_Validated_Score\": 0.9539743589743588}, {\"Unnamed: 0\": 139, \"Number_of_Features\": 140, \"Cross_Validated_Score\": 0.97}, {\"Unnamed: 0\": 140, \"Number_of_Features\": 141, \"Cross_Validated_Score\": 0.97}, {\"Unnamed: 0\": 141, \"Number_of_Features\": 142, \"Cross_Validated_Score\": 0.963978494623656}, {\"Unnamed: 0\": 142, \"Number_of_Features\": 143, \"Cross_Validated_Score\": 0.9556410256410256}, {\"Unnamed: 0\": 143, \"Number_of_Features\": 144, \"Cross_Validated_Score\": 0.9633333333333332}, {\"Unnamed: 0\": 144, \"Number_of_Features\": 145, \"Cross_Validated_Score\": 0.97}, {\"Unnamed: 0\": 145, \"Number_of_Features\": 146, \"Cross_Validated_Score\": 0.9695402298850574}, {\"Unnamed: 0\": 146, \"Number_of_Features\": 147, \"Cross_Validated_Score\": 0.9633333333333332}, {\"Unnamed: 0\": 147, \"Number_of_Features\": 148, \"Cross_Validated_Score\": 0.9695402298850574}, {\"Unnamed: 0\": 148, \"Number_of_Features\": 149, \"Cross_Validated_Score\": 0.9706666666666668}, {\"Unnamed: 0\": 149, \"Number_of_Features\": 150, \"Cross_Validated_Score\": 0.97}, {\"Unnamed: 0\": 150, \"Number_of_Features\": 151, \"Cross_Validated_Score\": 0.9706666666666668}, {\"Unnamed: 0\": 151, \"Number_of_Features\": 152, \"Cross_Validated_Score\": 0.9706666666666668}, {\"Unnamed: 0\": 152, \"Number_of_Features\": 153, \"Cross_Validated_Score\": 0.9723118279569892}, {\"Unnamed: 0\": 153, \"Number_of_Features\": 154, \"Cross_Validated_Score\": 0.9786666666666668}, {\"Unnamed: 0\": 154, \"Number_of_Features\": 155, \"Cross_Validated_Score\": 0.9783333333333332}, {\"Unnamed: 0\": 155, \"Number_of_Features\": 156, \"Cross_Validated_Score\": 0.9790967741935483}, {\"Unnamed: 0\": 156, \"Number_of_Features\": 157, \"Cross_Validated_Score\": 0.9790967741935483}, {\"Unnamed: 0\": 157, \"Number_of_Features\": 158, \"Cross_Validated_Score\": 0.9790967741935483}, {\"Unnamed: 0\": 158, \"Number_of_Features\": 159, \"Cross_Validated_Score\": 0.9790967741935483}, {\"Unnamed: 0\": 159, \"Number_of_Features\": 160, \"Cross_Validated_Score\": 0.9790967741935483}, {\"Unnamed: 0\": 160, \"Number_of_Features\": 161, \"Cross_Validated_Score\": 0.9790967741935483}, {\"Unnamed: 0\": 161, \"Number_of_Features\": 162, \"Cross_Validated_Score\": 0.9790967741935483}, {\"Unnamed: 0\": 162, \"Number_of_Features\": 163, \"Cross_Validated_Score\": 0.9790967741935483}, {\"Unnamed: 0\": 163, \"Number_of_Features\": 164, \"Cross_Validated_Score\": 0.9714044665012408}, {\"Unnamed: 0\": 164, \"Number_of_Features\": 165, \"Cross_Validated_Score\": 0.9714044665012408}, {\"Unnamed: 0\": 165, \"Number_of_Features\": 166, \"Cross_Validated_Score\": 0.971712158808933}, {\"Unnamed: 0\": 166, \"Number_of_Features\": 167, \"Cross_Validated_Score\": 0.971712158808933}, {\"Unnamed: 0\": 167, \"Number_of_Features\": 168, \"Cross_Validated_Score\": 0.9719970590938332}, {\"Unnamed: 0\": 168, \"Number_of_Features\": 169, \"Cross_Validated_Score\": 0.9719970590938332}, {\"Unnamed: 0\": 169, \"Number_of_Features\": 170, \"Cross_Validated_Score\": 0.9719970590938332}, {\"Unnamed: 0\": 170, \"Number_of_Features\": 171, \"Cross_Validated_Score\": 0.964589651686426}, {\"Unnamed: 0\": 171, \"Number_of_Features\": 172, \"Cross_Validated_Score\": 0.9651187522155265}, {\"Unnamed: 0\": 172, \"Number_of_Features\": 173, \"Cross_Validated_Score\": 0.9651187522155265}, {\"Unnamed: 0\": 173, \"Number_of_Features\": 174, \"Cross_Validated_Score\": 0.9651187522155265}, {\"Unnamed: 0\": 174, \"Number_of_Features\": 175, \"Cross_Validated_Score\": 0.964589651686426}, {\"Unnamed: 0\": 175, \"Number_of_Features\": 176, \"Cross_Validated_Score\": 0.9656113630529648}, {\"Unnamed: 0\": 176, \"Number_of_Features\": 177, \"Cross_Validated_Score\": 0.971712158808933}, {\"Unnamed: 0\": 177, \"Number_of_Features\": 178, \"Cross_Validated_Score\": 0.9648745519713262}, {\"Unnamed: 0\": 178, \"Number_of_Features\": 179, \"Cross_Validated_Score\": 0.9648745519713262}, {\"Unnamed: 0\": 179, \"Number_of_Features\": 180, \"Cross_Validated_Score\": 0.9648745519713262}, {\"Unnamed: 0\": 180, \"Number_of_Features\": 181, \"Cross_Validated_Score\": 0.9645693016660758}, {\"Unnamed: 0\": 181, \"Number_of_Features\": 182, \"Cross_Validated_Score\": 0.971712158808933}, {\"Unnamed: 0\": 182, \"Number_of_Features\": 183, \"Cross_Validated_Score\": 0.9656682027649768}, {\"Unnamed: 0\": 183, \"Number_of_Features\": 184, \"Cross_Validated_Score\": 0.9656682027649768}, {\"Unnamed: 0\": 184, \"Number_of_Features\": 185, \"Cross_Validated_Score\": 0.9656682027649768}, {\"Unnamed: 0\": 185, \"Number_of_Features\": 186, \"Cross_Validated_Score\": 0.9656682027649768}, {\"Unnamed: 0\": 186, \"Number_of_Features\": 187, \"Cross_Validated_Score\": 0.9661608136024152}, {\"Unnamed: 0\": 187, \"Number_of_Features\": 188, \"Cross_Validated_Score\": 0.9656682027649768}, {\"Unnamed: 0\": 188, \"Number_of_Features\": 189, \"Cross_Validated_Score\": 0.972811059907834}, {\"Unnamed: 0\": 189, \"Number_of_Features\": 190, \"Cross_Validated_Score\": 0.972811059907834}, {\"Unnamed: 0\": 190, \"Number_of_Features\": 191, \"Cross_Validated_Score\": 0.972811059907834}, {\"Unnamed: 0\": 191, \"Number_of_Features\": 192, \"Cross_Validated_Score\": 0.9733036707452726}, {\"Unnamed: 0\": 192, \"Number_of_Features\": 193, \"Cross_Validated_Score\": 0.9733036707452726}, {\"Unnamed: 0\": 193, \"Number_of_Features\": 194, \"Cross_Validated_Score\": 0.9799539170506912}, {\"Unnamed: 0\": 194, \"Number_of_Features\": 195, \"Cross_Validated_Score\": 0.9799539170506912}, {\"Unnamed: 0\": 195, \"Number_of_Features\": 196, \"Cross_Validated_Score\": 0.9727928150620032}, {\"Unnamed: 0\": 196, \"Number_of_Features\": 197, \"Cross_Validated_Score\": 0.9727928150620032}, {\"Unnamed: 0\": 197, \"Number_of_Features\": 198, \"Cross_Validated_Score\": 0.9727928150620032}, {\"Unnamed: 0\": 198, \"Number_of_Features\": 199, \"Cross_Validated_Score\": 0.9727928150620032}, {\"Unnamed: 0\": 199, \"Number_of_Features\": 200, \"Cross_Validated_Score\": 0.9727928150620032}, {\"Unnamed: 0\": 200, \"Number_of_Features\": 201, \"Cross_Validated_Score\": 0.9727928150620032}, {\"Unnamed: 0\": 201, \"Number_of_Features\": 202, \"Cross_Validated_Score\": 0.9727928150620032}, {\"Unnamed: 0\": 202, \"Number_of_Features\": 203, \"Cross_Validated_Score\": 0.9799539170506912}, {\"Unnamed: 0\": 203, \"Number_of_Features\": 204, \"Cross_Validated_Score\": 0.9799539170506912}, {\"Unnamed: 0\": 204, \"Number_of_Features\": 205, \"Cross_Validated_Score\": 0.9799539170506912}, {\"Unnamed: 0\": 205, \"Number_of_Features\": 206, \"Cross_Validated_Score\": 0.9802002224694104}, {\"Unnamed: 0\": 206, \"Number_of_Features\": 207, \"Cross_Validated_Score\": 0.9802002224694104}, {\"Unnamed: 0\": 207, \"Number_of_Features\": 208, \"Cross_Validated_Score\": 0.9802002224694104}, {\"Unnamed: 0\": 208, \"Number_of_Features\": 209, \"Cross_Validated_Score\": 0.9802002224694104}, {\"Unnamed: 0\": 209, \"Number_of_Features\": 210, \"Cross_Validated_Score\": 0.9870967741935484}, {\"Unnamed: 0\": 210, \"Number_of_Features\": 211, \"Cross_Validated_Score\": 0.9799539170506912}, {\"Unnamed: 0\": 211, \"Number_of_Features\": 212, \"Cross_Validated_Score\": 0.9799539170506912}, {\"Unnamed: 0\": 212, \"Number_of_Features\": 213, \"Cross_Validated_Score\": 0.9802002224694104}, {\"Unnamed: 0\": 213, \"Number_of_Features\": 214, \"Cross_Validated_Score\": 0.9733036707452726}, {\"Unnamed: 0\": 214, \"Number_of_Features\": 215, \"Cross_Validated_Score\": 0.9737634408602152}, {\"Unnamed: 0\": 215, \"Number_of_Features\": 216, \"Cross_Validated_Score\": 0.9737634408602152}, {\"Unnamed: 0\": 216, \"Number_of_Features\": 217, \"Cross_Validated_Score\": 0.9802002224694104}, {\"Unnamed: 0\": 217, \"Number_of_Features\": 218, \"Cross_Validated_Score\": 0.9870967741935484}, {\"Unnamed: 0\": 218, \"Number_of_Features\": 219, \"Cross_Validated_Score\": 0.9870967741935484}, {\"Unnamed: 0\": 219, \"Number_of_Features\": 220, \"Cross_Validated_Score\": 0.9802002224694104}, {\"Unnamed: 0\": 220, \"Number_of_Features\": 221, \"Cross_Validated_Score\": 0.9870967741935484}, {\"Unnamed: 0\": 221, \"Number_of_Features\": 222, \"Cross_Validated_Score\": 0.9802002224694104}, {\"Unnamed: 0\": 222, \"Number_of_Features\": 223, \"Cross_Validated_Score\": 0.9802002224694104}, {\"Unnamed: 0\": 223, \"Number_of_Features\": 224, \"Cross_Validated_Score\": 0.9802002224694104}, {\"Unnamed: 0\": 224, \"Number_of_Features\": 225, \"Cross_Validated_Score\": 0.9802002224694104}, {\"Unnamed: 0\": 225, \"Number_of_Features\": 226, \"Cross_Validated_Score\": 0.9802002224694104}, {\"Unnamed: 0\": 226, \"Number_of_Features\": 227, \"Cross_Validated_Score\": 0.9802002224694104}, {\"Unnamed: 0\": 227, \"Number_of_Features\": 228, \"Cross_Validated_Score\": 0.9802002224694104}, {\"Unnamed: 0\": 228, \"Number_of_Features\": 229, \"Cross_Validated_Score\": 0.9735335558027438}, {\"Unnamed: 0\": 229, \"Number_of_Features\": 230, \"Cross_Validated_Score\": 0.9735335558027438}, {\"Unnamed: 0\": 230, \"Number_of_Features\": 231, \"Cross_Validated_Score\": 0.9735335558027438}, {\"Unnamed: 0\": 231, \"Number_of_Features\": 232, \"Cross_Validated_Score\": 0.9802002224694104}, {\"Unnamed: 0\": 232, \"Number_of_Features\": 233, \"Cross_Validated_Score\": 0.9802002224694104}, {\"Unnamed: 0\": 233, \"Number_of_Features\": 234, \"Cross_Validated_Score\": 0.9802002224694104}, {\"Unnamed: 0\": 234, \"Number_of_Features\": 235, \"Cross_Validated_Score\": 0.9802002224694104}, {\"Unnamed: 0\": 235, \"Number_of_Features\": 236, \"Cross_Validated_Score\": 0.9802002224694104}, {\"Unnamed: 0\": 236, \"Number_of_Features\": 237, \"Cross_Validated_Score\": 0.9802002224694104}, {\"Unnamed: 0\": 237, \"Number_of_Features\": 238, \"Cross_Validated_Score\": 0.9802002224694104}, {\"Unnamed: 0\": 238, \"Number_of_Features\": 239, \"Cross_Validated_Score\": 0.9802002224694104}, {\"Unnamed: 0\": 239, \"Number_of_Features\": 240, \"Cross_Validated_Score\": 0.9802002224694104}, {\"Unnamed: 0\": 240, \"Number_of_Features\": 241, \"Cross_Validated_Score\": 0.9864367816091956}, {\"Unnamed: 0\": 241, \"Number_of_Features\": 242, \"Cross_Validated_Score\": 0.9864367816091956}, {\"Unnamed: 0\": 242, \"Number_of_Features\": 243, \"Cross_Validated_Score\": 0.9864367816091956}, {\"Unnamed: 0\": 243, \"Number_of_Features\": 244, \"Cross_Validated_Score\": 0.9864367816091956}, {\"Unnamed: 0\": 244, \"Number_of_Features\": 245, \"Cross_Validated_Score\": 0.9864367816091956}, {\"Unnamed: 0\": 245, \"Number_of_Features\": 246, \"Cross_Validated_Score\": 0.9864367816091956}, {\"Unnamed: 0\": 246, \"Number_of_Features\": 247, \"Cross_Validated_Score\": 0.9864367816091956}, {\"Unnamed: 0\": 247, \"Number_of_Features\": 248, \"Cross_Validated_Score\": 0.9864367816091956}, {\"Unnamed: 0\": 248, \"Number_of_Features\": 249, \"Cross_Validated_Score\": 0.9864367816091956}, {\"Unnamed: 0\": 249, \"Number_of_Features\": 250, \"Cross_Validated_Score\": 0.9864367816091956}, {\"Unnamed: 0\": 250, \"Number_of_Features\": 251, \"Cross_Validated_Score\": 0.9864367816091956}, {\"Unnamed: 0\": 251, \"Number_of_Features\": 252, \"Cross_Validated_Score\": 0.9864367816091956}, {\"Unnamed: 0\": 252, \"Number_of_Features\": 253, \"Cross_Validated_Score\": 0.9864367816091956}, {\"Unnamed: 0\": 253, \"Number_of_Features\": 254, \"Cross_Validated_Score\": 0.9864367816091956}, {\"Unnamed: 0\": 254, \"Number_of_Features\": 255, \"Cross_Validated_Score\": 0.9864367816091956}, {\"Unnamed: 0\": 255, \"Number_of_Features\": 256, \"Cross_Validated_Score\": 0.9864367816091956}, {\"Unnamed: 0\": 256, \"Number_of_Features\": 257, \"Cross_Validated_Score\": 0.9864367816091956}, {\"Unnamed: 0\": 257, \"Number_of_Features\": 258, \"Cross_Validated_Score\": 0.9864367816091956}, {\"Unnamed: 0\": 258, \"Number_of_Features\": 259, \"Cross_Validated_Score\": 0.9864367816091956}, {\"Unnamed: 0\": 259, \"Number_of_Features\": 260, \"Cross_Validated_Score\": 0.9864367816091956}, {\"Unnamed: 0\": 260, \"Number_of_Features\": 261, \"Cross_Validated_Score\": 0.9864367816091956}, {\"Unnamed: 0\": 261, \"Number_of_Features\": 262, \"Cross_Validated_Score\": 0.9864367816091956}, {\"Unnamed: 0\": 262, \"Number_of_Features\": 263, \"Cross_Validated_Score\": 0.9864367816091956}, {\"Unnamed: 0\": 263, \"Number_of_Features\": 264, \"Cross_Validated_Score\": 0.9864367816091956}, {\"Unnamed: 0\": 264, \"Number_of_Features\": 265, \"Cross_Validated_Score\": 0.9864367816091956}, {\"Unnamed: 0\": 265, \"Number_of_Features\": 266, \"Cross_Validated_Score\": 0.9864367816091956}, {\"Unnamed: 0\": 266, \"Number_of_Features\": 267, \"Cross_Validated_Score\": 0.9864367816091956}, {\"Unnamed: 0\": 267, \"Number_of_Features\": 268, \"Cross_Validated_Score\": 0.9864367816091956}, {\"Unnamed: 0\": 268, \"Number_of_Features\": 269, \"Cross_Validated_Score\": 0.9864367816091956}, {\"Unnamed: 0\": 269, \"Number_of_Features\": 270, \"Cross_Validated_Score\": 0.993103448275862}, {\"Unnamed: 0\": 270, \"Number_of_Features\": 271, \"Cross_Validated_Score\": 0.993103448275862}, {\"Unnamed: 0\": 271, \"Number_of_Features\": 272, \"Cross_Validated_Score\": 0.993103448275862}, {\"Unnamed: 0\": 272, \"Number_of_Features\": 273, \"Cross_Validated_Score\": 0.993103448275862}, {\"Unnamed: 0\": 273, \"Number_of_Features\": 274, \"Cross_Validated_Score\": 0.993103448275862}, {\"Unnamed: 0\": 274, \"Number_of_Features\": 275, \"Cross_Validated_Score\": 0.993103448275862}, {\"Unnamed: 0\": 275, \"Number_of_Features\": 276, \"Cross_Validated_Score\": 0.993103448275862}, {\"Unnamed: 0\": 276, \"Number_of_Features\": 277, \"Cross_Validated_Score\": 0.993103448275862}, {\"Unnamed: 0\": 277, \"Number_of_Features\": 278, \"Cross_Validated_Score\": 0.993103448275862}, {\"Unnamed: 0\": 278, \"Number_of_Features\": 279, \"Cross_Validated_Score\": 0.993103448275862}, {\"Unnamed: 0\": 279, \"Number_of_Features\": 280, \"Cross_Validated_Score\": 0.993103448275862}, {\"Unnamed: 0\": 280, \"Number_of_Features\": 281, \"Cross_Validated_Score\": 0.993103448275862}, {\"Unnamed: 0\": 281, \"Number_of_Features\": 282, \"Cross_Validated_Score\": 0.993103448275862}, {\"Unnamed: 0\": 282, \"Number_of_Features\": 283, \"Cross_Validated_Score\": 1.0}, {\"Unnamed: 0\": 283, \"Number_of_Features\": 284, \"Cross_Validated_Score\": 1.0}, {\"Unnamed: 0\": 284, \"Number_of_Features\": 285, \"Cross_Validated_Score\": 1.0}, {\"Unnamed: 0\": 285, \"Number_of_Features\": 286, \"Cross_Validated_Score\": 1.0}, {\"Unnamed: 0\": 286, \"Number_of_Features\": 287, \"Cross_Validated_Score\": 1.0}, {\"Unnamed: 0\": 287, \"Number_of_Features\": 288, \"Cross_Validated_Score\": 1.0}, {\"Unnamed: 0\": 288, \"Number_of_Features\": 289, \"Cross_Validated_Score\": 1.0}, {\"Unnamed: 0\": 289, \"Number_of_Features\": 290, \"Cross_Validated_Score\": 1.0}, {\"Unnamed: 0\": 290, \"Number_of_Features\": 291, \"Cross_Validated_Score\": 1.0}, {\"Unnamed: 0\": 291, \"Number_of_Features\": 292, \"Cross_Validated_Score\": 1.0}, {\"Unnamed: 0\": 292, \"Number_of_Features\": 293, \"Cross_Validated_Score\": 1.0}, {\"Unnamed: 0\": 293, \"Number_of_Features\": 294, \"Cross_Validated_Score\": 1.0}, {\"Unnamed: 0\": 294, \"Number_of_Features\": 295, \"Cross_Validated_Score\": 1.0}, {\"Unnamed: 0\": 295, \"Number_of_Features\": 296, \"Cross_Validated_Score\": 1.0}, {\"Unnamed: 0\": 296, \"Number_of_Features\": 297, \"Cross_Validated_Score\": 1.0}, {\"Unnamed: 0\": 297, \"Number_of_Features\": 298, \"Cross_Validated_Score\": 1.0}, {\"Unnamed: 0\": 298, \"Number_of_Features\": 299, \"Cross_Validated_Score\": 1.0}, {\"Unnamed: 0\": 299, \"Number_of_Features\": 300, \"Cross_Validated_Score\": 1.0}], \"data-cab9256e5f4e9dc38d9e619ee3fb870e\": [{\"x\": 283}]}}, {\"mode\": \"vega-lite\"});\n",
       "</script>"
      ],
      "text/plain": [
       "alt.LayerChart(...)"
      ]
     },
     "execution_count": 89,
     "metadata": {},
     "output_type": "execute_result"
    }
   ],
   "source": [
    "\n",
    "alt.themes.enable(\"fivethirtyeight\")\n",
    "\n",
    "# Create Altair chart with attribute syntax\n",
    "chart = alt.Chart(data=results_df_ext, width=600).mark_line(point=True)\n",
    "\n",
    "chart = chart.encode(\n",
    "    x=alt.X('Number_of_Features:O', \n",
    "            axis=alt.Axis(ticks=True, labels=True, \n",
    "                          values=list(range(0, max_features+1, 100)), \n",
    "                          title='Number of Features',\n",
    "                          grid=True,  # Show gridlines\n",
    "                          domain=False,  # Hide x-axis line\n",
    "                          labelAlign='right',  # Align labels to the right for better readability\n",
    "                          labelPadding=0,  # Add padding to labels\n",
    "                          tickMinStep=100)  # Set the interval between ticks\n",
    "           ),\n",
    "    y=alt.Y('Cross_Validated_Score:Q',\n",
    "           axis=alt.Axis(title='Cross Validation Score')),\n",
    "    tooltip=['Number_of_Features:O', 'Cross_Validated_Score:Q']\n",
    ")\n",
    "\n",
    "chart = chart.properties(\n",
    "    title='Recursive Feature Elimination with Cross-Validation (RFE-CV)'  # Add the title here\n",
    ")\n",
    "\n",
    "# Add a vertical red line to represent optimal_num_features\n",
    "red_line = alt.Chart(pd.DataFrame({'x': [optimal_num_features]})).mark_rule(color='red', strokeWidth=2).encode(x='x:O')\n",
    "\n",
    "# Combine the main chart and the red line\n",
    "combined_chart = chart + red_line\n",
    "\n",
    "# Show the chart\n",
    "combined_chart"
   ]
  },
  {
   "cell_type": "markdown",
   "id": "48a26d8f-dd2d-44e8-83ed-cff86c42a40d",
   "metadata": {},
   "source": [
    "#### Most important features"
   ]
  },
  {
   "cell_type": "code",
   "execution_count": 76,
   "id": "919fc8b3-0611-4469-beae-15fa07955934",
   "metadata": {},
   "outputs": [],
   "source": [
    "# read selected features\n",
    "optimal_features = np.load('../results/plots/selected_features.npy' , allow_pickle=True)"
   ]
  },
  {
   "cell_type": "code",
   "execution_count": 77,
   "id": "60cef191-9819-4328-8fe2-e37209baea82",
   "metadata": {},
   "outputs": [],
   "source": [
    "# convert index key to integers for feature matching\n",
    "optimal_features = optimal_features.astype(int)"
   ]
  },
  {
   "cell_type": "code",
   "execution_count": 78,
   "id": "761c88db-65cb-4ccd-8d64-136a46488f51",
   "metadata": {},
   "outputs": [],
   "source": [
    "# merge selected features with gene information data\n",
    "selected_rows = rows_genes [rows_genes .index.isin(optimal_features)]"
   ]
  },
  {
   "cell_type": "code",
   "execution_count": 79,
   "id": "35f91225-2671-496f-bbac-cf4a92a60f4b",
   "metadata": {},
   "outputs": [
    {
     "data": {
      "text/html": [
       "<div>\n",
       "<style scoped>\n",
       "    .dataframe tbody tr th:only-of-type {\n",
       "        vertical-align: middle;\n",
       "    }\n",
       "\n",
       "    .dataframe tbody tr th {\n",
       "        vertical-align: top;\n",
       "    }\n",
       "\n",
       "    .dataframe thead th {\n",
       "        text-align: right;\n",
       "    }\n",
       "</style>\n",
       "<table border=\"1\" class=\"dataframe\">\n",
       "  <thead>\n",
       "    <tr style=\"text-align: right;\">\n",
       "      <th></th>\n",
       "      <th>chromosome</th>\n",
       "      <th>gene_entrez_id</th>\n",
       "      <th>gene_symbol</th>\n",
       "      <th>gene_name</th>\n",
       "      <th>Importance</th>\n",
       "    </tr>\n",
       "    <tr>\n",
       "      <th>gene_id</th>\n",
       "      <th></th>\n",
       "      <th></th>\n",
       "      <th></th>\n",
       "      <th></th>\n",
       "      <th></th>\n",
       "    </tr>\n",
       "  </thead>\n",
       "  <tbody>\n",
       "    <tr>\n",
       "      <th>499304666</th>\n",
       "      <td>1</td>\n",
       "      <td>79504</td>\n",
       "      <td>OR4G4P</td>\n",
       "      <td>olfactory receptor, family 4, subfamily G, mem...</td>\n",
       "      <td>-0.003320</td>\n",
       "    </tr>\n",
       "    <tr>\n",
       "      <th>499304790</th>\n",
       "      <td>1</td>\n",
       "      <td>105378595</td>\n",
       "      <td>LOC105378595</td>\n",
       "      <td>uncharacterized LOC105378595</td>\n",
       "      <td>-0.003877</td>\n",
       "    </tr>\n",
       "    <tr>\n",
       "      <th>499304938</th>\n",
       "      <td>1</td>\n",
       "      <td>105376717</td>\n",
       "      <td>LOC105376717</td>\n",
       "      <td>uncharacterized LOC105376717</td>\n",
       "      <td>-0.003229</td>\n",
       "    </tr>\n",
       "    <tr>\n",
       "      <th>499305087</th>\n",
       "      <td>1</td>\n",
       "      <td>388595</td>\n",
       "      <td>TMEM82</td>\n",
       "      <td>transmembrane protein 82</td>\n",
       "      <td>-0.003488</td>\n",
       "    </tr>\n",
       "    <tr>\n",
       "      <th>499305157</th>\n",
       "      <td>1</td>\n",
       "      <td>81569</td>\n",
       "      <td>ACTL8</td>\n",
       "      <td>actin-like 8</td>\n",
       "      <td>0.004535</td>\n",
       "    </tr>\n",
       "    <tr>\n",
       "      <th>...</th>\n",
       "      <td>...</td>\n",
       "      <td>...</td>\n",
       "      <td>...</td>\n",
       "      <td>...</td>\n",
       "      <td>...</td>\n",
       "    </tr>\n",
       "    <tr>\n",
       "      <th>499354083</th>\n",
       "      <td>X</td>\n",
       "      <td>100873564</td>\n",
       "      <td>RNA5SP513</td>\n",
       "      <td>RNA, 5S ribosomal pseudogene 513</td>\n",
       "      <td>0.003188</td>\n",
       "    </tr>\n",
       "    <tr>\n",
       "      <th>499354217</th>\n",
       "      <td>X</td>\n",
       "      <td>55511</td>\n",
       "      <td>SAGE1</td>\n",
       "      <td>sarcoma antigen 1</td>\n",
       "      <td>-0.003649</td>\n",
       "    </tr>\n",
       "    <tr>\n",
       "      <th>499354812</th>\n",
       "      <td>Y</td>\n",
       "      <td>387362</td>\n",
       "      <td>USP9YP1</td>\n",
       "      <td>ubiquitin specific peptidase 9, Y-linked pseud...</td>\n",
       "      <td>0.003178</td>\n",
       "    </tr>\n",
       "    <tr>\n",
       "      <th>499354821</th>\n",
       "      <td>Y</td>\n",
       "      <td>387363</td>\n",
       "      <td>USP9YP2</td>\n",
       "      <td>ubiquitin specific peptidase 9, Y-linked pseud...</td>\n",
       "      <td>0.003178</td>\n",
       "    </tr>\n",
       "    <tr>\n",
       "      <th>499354840</th>\n",
       "      <td>Y</td>\n",
       "      <td>100419729</td>\n",
       "      <td>ZNF884P</td>\n",
       "      <td>zinc finger protein 884, pseudogene</td>\n",
       "      <td>0.003785</td>\n",
       "    </tr>\n",
       "  </tbody>\n",
       "</table>\n",
       "<p>283 rows × 5 columns</p>\n",
       "</div>"
      ],
      "text/plain": [
       "          chromosome  gene_entrez_id   gene_symbol  \\\n",
       "gene_id                                              \n",
       "499304666          1           79504        OR4G4P   \n",
       "499304790          1       105378595  LOC105378595   \n",
       "499304938          1       105376717  LOC105376717   \n",
       "499305087          1          388595        TMEM82   \n",
       "499305157          1           81569         ACTL8   \n",
       "...              ...             ...           ...   \n",
       "499354083          X       100873564     RNA5SP513   \n",
       "499354217          X           55511         SAGE1   \n",
       "499354812          Y          387362       USP9YP1   \n",
       "499354821          Y          387363       USP9YP2   \n",
       "499354840          Y       100419729       ZNF884P   \n",
       "\n",
       "                                                   gene_name  Importance  \n",
       "gene_id                                                                   \n",
       "499304666  olfactory receptor, family 4, subfamily G, mem...   -0.003320  \n",
       "499304790                       uncharacterized LOC105378595   -0.003877  \n",
       "499304938                       uncharacterized LOC105376717   -0.003229  \n",
       "499305087                           transmembrane protein 82   -0.003488  \n",
       "499305157                                       actin-like 8    0.004535  \n",
       "...                                                      ...         ...  \n",
       "499354083                   RNA, 5S ribosomal pseudogene 513    0.003188  \n",
       "499354217                                  sarcoma antigen 1   -0.003649  \n",
       "499354812  ubiquitin specific peptidase 9, Y-linked pseud...    0.003178  \n",
       "499354821  ubiquitin specific peptidase 9, Y-linked pseud...    0.003178  \n",
       "499354840                zinc finger protein 884, pseudogene    0.003785  \n",
       "\n",
       "[283 rows x 5 columns]"
      ]
     },
     "execution_count": 79,
     "metadata": {},
     "output_type": "execute_result"
    }
   ],
   "source": [
    "# inspect selected gene rows/features\n",
    "selected_rows"
   ]
  },
  {
   "cell_type": "code",
   "execution_count": 80,
   "id": "352d598c-b77b-4a74-8e96-6f24f1c62a55",
   "metadata": {},
   "outputs": [],
   "source": [
    "# Export selected genes table\n",
    "selected_rows.to_csv('../results/tables/selected_genes.csv')"
   ]
  },
  {
   "cell_type": "markdown",
   "id": "2ee73a16-cc1f-4686-962c-424d419d2489",
   "metadata": {},
   "source": [
    "## Model performace with reduced selcted features"
   ]
  },
  {
   "cell_type": "markdown",
   "id": "0c3dbc2b-a639-409a-b952-208b1faed71a",
   "metadata": {},
   "source": [
    "Let's compare how a model trained with all features performs when conpared with a model that was only trained with the selected features based on RFS"
   ]
  },
  {
   "cell_type": "code",
   "execution_count": 81,
   "id": "75803082-6216-4c57-9734-eb7c074ae08b",
   "metadata": {},
   "outputs": [],
   "source": [
    "X_train_prime = X_train[optimal_features.astype(str)]\n",
    "X_test_prime = X_test[optimal_features.astype(str)]"
   ]
  },
  {
   "cell_type": "code",
   "execution_count": 82,
   "id": "9c66e904-bd72-4aa1-8e6a-47499677b484",
   "metadata": {},
   "outputs": [],
   "source": [
    "# Standardize the data\n",
    "scaler = StandardScaler()\n",
    "\n",
    "# standarize training and test set\n",
    "X_train_i_scaled = scaler.fit_transform(X_train_prime)\n",
    "X_test_i_scaled = scaler.transform(X_test_prime)"
   ]
  },
  {
   "cell_type": "code",
   "execution_count": 83,
   "id": "ea573e46-0144-4a68-9620-00e9931451d7",
   "metadata": {},
   "outputs": [],
   "source": [
    "# Create and train the logistic regression model\n",
    "logreg_model_i = LogisticRegression(random_state=42 ,C=0.001 )"
   ]
  },
  {
   "cell_type": "code",
   "execution_count": 84,
   "id": "4d30d86e-5e17-403d-b307-852cb2b179ce",
   "metadata": {},
   "outputs": [
    {
     "name": "stdout",
     "output_type": "stream",
     "text": [
      "Logistic regression: 0.78\n"
     ]
    }
   ],
   "source": [
    "logreg_model_i.fit(X_train_i_scaled, y_train)\n",
    "\n",
    "pred_logreg_i = logreg_model_i.predict(X_test_i_scaled)\n",
    "logreg_score_i = logreg_model_i.score(X_test_i_scaled, y_test)\n",
    "print(\"Logistic regression: {:.2f}\".format(logreg_score_i))"
   ]
  },
  {
   "cell_type": "code",
   "execution_count": 85,
   "id": "7285e2dd-a813-44b0-a4e0-997b9f98b56c",
   "metadata": {},
   "outputs": [
    {
     "name": "stdout",
     "output_type": "stream",
     "text": [
      "                    Predicted Dementia  Predicted No Dementia\n",
      "Actual Dementia                     23                     12\n",
      "Actual No Dementia                   5                     36\n",
      "Classification Report:\n",
      "              precision    recall  f1-score   support\n",
      "\n",
      "    Dementia       0.82      0.66      0.73        35\n",
      " No Dementia       0.75      0.88      0.81        41\n",
      "\n",
      "    accuracy                           0.78        76\n",
      "   macro avg       0.79      0.77      0.77        76\n",
      "weighted avg       0.78      0.78      0.77        76\n",
      "\n"
     ]
    },
    {
     "data": {
      "text/html": [
       "\n",
       "<div id=\"altair-viz-82bbf2a23e2c47a1ab27c953375bfc46\"></div>\n",
       "<script type=\"text/javascript\">\n",
       "  var VEGA_DEBUG = (typeof VEGA_DEBUG == \"undefined\") ? {} : VEGA_DEBUG;\n",
       "  (function(spec, embedOpt){\n",
       "    let outputDiv = document.currentScript.previousElementSibling;\n",
       "    if (outputDiv.id !== \"altair-viz-82bbf2a23e2c47a1ab27c953375bfc46\") {\n",
       "      outputDiv = document.getElementById(\"altair-viz-82bbf2a23e2c47a1ab27c953375bfc46\");\n",
       "    }\n",
       "    const paths = {\n",
       "      \"vega\": \"https://cdn.jsdelivr.net/npm//vega@5?noext\",\n",
       "      \"vega-lib\": \"https://cdn.jsdelivr.net/npm//vega-lib?noext\",\n",
       "      \"vega-lite\": \"https://cdn.jsdelivr.net/npm//vega-lite@4.17.0?noext\",\n",
       "      \"vega-embed\": \"https://cdn.jsdelivr.net/npm//vega-embed@6?noext\",\n",
       "    };\n",
       "\n",
       "    function maybeLoadScript(lib, version) {\n",
       "      var key = `${lib.replace(\"-\", \"\")}_version`;\n",
       "      return (VEGA_DEBUG[key] == version) ?\n",
       "        Promise.resolve(paths[lib]) :\n",
       "        new Promise(function(resolve, reject) {\n",
       "          var s = document.createElement('script');\n",
       "          document.getElementsByTagName(\"head\")[0].appendChild(s);\n",
       "          s.async = true;\n",
       "          s.onload = () => {\n",
       "            VEGA_DEBUG[key] = version;\n",
       "            return resolve(paths[lib]);\n",
       "          };\n",
       "          s.onerror = () => reject(`Error loading script: ${paths[lib]}`);\n",
       "          s.src = paths[lib];\n",
       "        });\n",
       "    }\n",
       "\n",
       "    function showError(err) {\n",
       "      outputDiv.innerHTML = `<div class=\"error\" style=\"color:red;\">${err}</div>`;\n",
       "      throw err;\n",
       "    }\n",
       "\n",
       "    function displayChart(vegaEmbed) {\n",
       "      vegaEmbed(outputDiv, spec, embedOpt)\n",
       "        .catch(err => showError(`Javascript Error: ${err.message}<br>This usually means there's a typo in your chart specification. See the javascript console for the full traceback.`));\n",
       "    }\n",
       "\n",
       "    if(typeof define === \"function\" && define.amd) {\n",
       "      requirejs.config({paths});\n",
       "      require([\"vega-embed\"], displayChart, err => showError(`Error loading script: ${err.message}`));\n",
       "    } else {\n",
       "      maybeLoadScript(\"vega\", \"5\")\n",
       "        .then(() => maybeLoadScript(\"vega-lite\", \"4.17.0\"))\n",
       "        .then(() => maybeLoadScript(\"vega-embed\", \"6\"))\n",
       "        .catch(showError)\n",
       "        .then(() => displayChart(vegaEmbed));\n",
       "    }\n",
       "  })({\"config\": {\"view\": {\"continuousWidth\": 400, \"continuousHeight\": 300}, \"axis\": {\"labelAngle\": 0, \"labelFontSize\": 12, \"title\": null}, \"legend\": {\"cornerRadius\": 10, \"direction\": \"horizontal\", \"fillColor\": \"#f5f5f5\", \"labelColor\": \"gray\", \"labelFont\": \"Arial\", \"labelFontSize\": 12, \"legendX\": 650, \"legendY\": 0, \"orient\": \"none\", \"padding\": 10, \"strokeColor\": \"white\", \"title\": null}}, \"layer\": [{\"mark\": \"rect\", \"encoding\": {\"color\": {\"field\": \"value\", \"legend\": null, \"scale\": {\"scheme\": \"blues\"}, \"type\": \"quantitative\"}, \"tooltip\": [{\"field\": \"value\", \"type\": \"nominal\"}], \"x\": {\"field\": \"variable\", \"type\": \"ordinal\"}, \"y\": {\"field\": \"index\", \"type\": \"ordinal\"}}, \"height\": 300, \"title\": \"Confusion Matrix\", \"width\": 400}, {\"mark\": {\"type\": \"text\", \"baseline\": \"middle\", \"fontSize\": 16}, \"encoding\": {\"text\": {\"field\": \"value\", \"type\": \"quantitative\"}, \"x\": {\"field\": \"variable\", \"type\": \"ordinal\"}, \"y\": {\"field\": \"index\", \"type\": \"ordinal\"}}}], \"data\": {\"name\": \"data-ab7bcf97eeb48f10ab218ea2339c90a7\"}, \"$schema\": \"https://vega.github.io/schema/vega-lite/v4.17.0.json\", \"datasets\": {\"data-ab7bcf97eeb48f10ab218ea2339c90a7\": [{\"index\": \"Actual Dementia\", \"variable\": \"Predicted Dementia\", \"value\": 23}, {\"index\": \"Actual No Dementia\", \"variable\": \"Predicted Dementia\", \"value\": 5}, {\"index\": \"Actual Dementia\", \"variable\": \"Predicted No Dementia\", \"value\": 12}, {\"index\": \"Actual No Dementia\", \"variable\": \"Predicted No Dementia\", \"value\": 36}]}}, {\"mode\": \"vega-lite\"});\n",
       "</script>"
      ],
      "text/plain": [
       "alt.LayerChart(...)"
      ]
     },
     "execution_count": 85,
     "metadata": {},
     "output_type": "execute_result"
    }
   ],
   "source": [
    "conf_matrix_i = confusion_matrix(y_test, pred_logreg_i)\n",
    "conf_df_i = pd.DataFrame(conf_matrix_i, index=['Actual Dementia', 'Actual No Dementia'],\n",
    "                       columns=['Predicted Dementia', 'Predicted No Dementia'])\n",
    "\n",
    "print(conf_df_i)\n",
    "\n",
    "# Print a classification report\n",
    "print(\"Classification Report:\")\n",
    "print(classification_report(y_test, pred_logreg_i))\n",
    "\n",
    "alt.themes.enable(\"default\")\n",
    "altair_conf_table(conf_df_i)\n"
   ]
  },
  {
   "cell_type": "code",
   "execution_count": 86,
   "id": "3d9a2e1c",
   "metadata": {},
   "outputs": [
    {
     "data": {
      "text/html": [
       "<div>\n",
       "<style scoped>\n",
       "    .dataframe tbody tr th:only-of-type {\n",
       "        vertical-align: middle;\n",
       "    }\n",
       "\n",
       "    .dataframe tbody tr th {\n",
       "        vertical-align: top;\n",
       "    }\n",
       "\n",
       "    .dataframe thead th {\n",
       "        text-align: right;\n",
       "    }\n",
       "</style>\n",
       "<table border=\"1\" class=\"dataframe\">\n",
       "  <thead>\n",
       "    <tr style=\"text-align: right;\">\n",
       "      <th></th>\n",
       "      <th>model</th>\n",
       "      <th>precision</th>\n",
       "      <th>recall</th>\n",
       "      <th>f1-score</th>\n",
       "      <th>support</th>\n",
       "    </tr>\n",
       "  </thead>\n",
       "  <tbody>\n",
       "    <tr>\n",
       "      <th>Dementia</th>\n",
       "      <td>Logistical regression - reduced features</td>\n",
       "      <td>0.82</td>\n",
       "      <td>0.66</td>\n",
       "      <td>0.73</td>\n",
       "      <td>35.0</td>\n",
       "    </tr>\n",
       "    <tr>\n",
       "      <th>No Dementia</th>\n",
       "      <td>Logistical regression - reduced features</td>\n",
       "      <td>0.75</td>\n",
       "      <td>0.88</td>\n",
       "      <td>0.81</td>\n",
       "      <td>41.0</td>\n",
       "    </tr>\n",
       "  </tbody>\n",
       "</table>\n",
       "</div>"
      ],
      "text/plain": [
       "                                                model  precision  recall  \\\n",
       "Dementia     Logistical regression - reduced features       0.82    0.66   \n",
       "No Dementia  Logistical regression - reduced features       0.75    0.88   \n",
       "\n",
       "             f1-score  support  \n",
       "Dementia         0.73     35.0  \n",
       "No Dementia      0.81     41.0  "
      ]
     },
     "execution_count": 86,
     "metadata": {},
     "output_type": "execute_result"
    }
   ],
   "source": [
    "#create table for lr\n",
    "df_lr3 = combine_classification_rept(y_test, pred_logreg_i)\n",
    "df_lr3['model'] = \"Logistical regression - reduced features\"\n",
    "#df2 = df1.iloc[:2,:]\n",
    "first_col = df_lr3.pop('model') \n",
    "df_lr3.insert(0, 'model', first_col) \n",
    "df_lr3"
   ]
  },
  {
   "cell_type": "code",
   "execution_count": 87,
   "id": "294a7769",
   "metadata": {},
   "outputs": [
    {
     "data": {
      "text/html": [
       "<div>\n",
       "<style scoped>\n",
       "    .dataframe tbody tr th:only-of-type {\n",
       "        vertical-align: middle;\n",
       "    }\n",
       "\n",
       "    .dataframe tbody tr th {\n",
       "        vertical-align: top;\n",
       "    }\n",
       "\n",
       "    .dataframe thead th {\n",
       "        text-align: right;\n",
       "    }\n",
       "</style>\n",
       "<table border=\"1\" class=\"dataframe\">\n",
       "  <thead>\n",
       "    <tr style=\"text-align: right;\">\n",
       "      <th></th>\n",
       "      <th>model</th>\n",
       "      <th>precision</th>\n",
       "      <th>recall</th>\n",
       "      <th>f1-score</th>\n",
       "      <th>support</th>\n",
       "    </tr>\n",
       "  </thead>\n",
       "  <tbody>\n",
       "    <tr>\n",
       "      <th>Dementia</th>\n",
       "      <td>Logistical Regression - Default Parameters</td>\n",
       "      <td>0.83</td>\n",
       "      <td>0.69</td>\n",
       "      <td>0.75</td>\n",
       "      <td>35.0</td>\n",
       "    </tr>\n",
       "    <tr>\n",
       "      <th>No Dementia</th>\n",
       "      <td>Logistical Regression - Default Parameters</td>\n",
       "      <td>0.77</td>\n",
       "      <td>0.88</td>\n",
       "      <td>0.82</td>\n",
       "      <td>41.0</td>\n",
       "    </tr>\n",
       "    <tr>\n",
       "      <th>Dementia</th>\n",
       "      <td>Logistical Regression - best C parameter</td>\n",
       "      <td>0.84</td>\n",
       "      <td>0.60</td>\n",
       "      <td>0.70</td>\n",
       "      <td>35.0</td>\n",
       "    </tr>\n",
       "    <tr>\n",
       "      <th>No Dementia</th>\n",
       "      <td>Logistical Regression - best C parameter</td>\n",
       "      <td>0.73</td>\n",
       "      <td>0.90</td>\n",
       "      <td>0.80</td>\n",
       "      <td>41.0</td>\n",
       "    </tr>\n",
       "    <tr>\n",
       "      <th>Dementia</th>\n",
       "      <td>Logistical regression - reduced features</td>\n",
       "      <td>0.82</td>\n",
       "      <td>0.66</td>\n",
       "      <td>0.73</td>\n",
       "      <td>35.0</td>\n",
       "    </tr>\n",
       "    <tr>\n",
       "      <th>No Dementia</th>\n",
       "      <td>Logistical regression - reduced features</td>\n",
       "      <td>0.75</td>\n",
       "      <td>0.88</td>\n",
       "      <td>0.81</td>\n",
       "      <td>41.0</td>\n",
       "    </tr>\n",
       "  </tbody>\n",
       "</table>\n",
       "</div>"
      ],
      "text/plain": [
       "                                                  model  precision  recall  \\\n",
       "Dementia     Logistical Regression - Default Parameters       0.83    0.69   \n",
       "No Dementia  Logistical Regression - Default Parameters       0.77    0.88   \n",
       "Dementia       Logistical Regression - best C parameter       0.84    0.60   \n",
       "No Dementia    Logistical Regression - best C parameter       0.73    0.90   \n",
       "Dementia       Logistical regression - reduced features       0.82    0.66   \n",
       "No Dementia    Logistical regression - reduced features       0.75    0.88   \n",
       "\n",
       "             f1-score  support  \n",
       "Dementia         0.75     35.0  \n",
       "No Dementia      0.82     41.0  \n",
       "Dementia         0.70     35.0  \n",
       "No Dementia      0.80     41.0  \n",
       "Dementia         0.73     35.0  \n",
       "No Dementia      0.81     41.0  "
      ]
     },
     "execution_count": 87,
     "metadata": {},
     "output_type": "execute_result"
    }
   ],
   "source": [
    "df_combined =pd.concat([df_lr1,df_lr2,df_lr3])\n",
    "df_combined"
   ]
  },
  {
   "cell_type": "markdown",
   "id": "07907a61-ba33-4f0c-aecd-ab9f566074bd",
   "metadata": {},
   "source": [
    "### Solver"
   ]
  },
  {
   "cell_type": "code",
   "execution_count": 88,
   "id": "3e306671-3ab1-4832-93f3-3eaba46538a2",
   "metadata": {},
   "outputs": [],
   "source": [
    "# ### Solver\n",
    "\n",
    "# Define the solvers you want to compare\n",
    "solvers = ['liblinear', 'newton-cg', 'lbfgs', 'sag', 'saga']\n",
    "\n",
    "# Initialize an empty dictionary to store the mean cross-validation scores for each solver\n",
    "mean_scores = {}\n",
    "\n",
    "# Loop through each solver and calculate the mean cross-validation score\n",
    "for solver in solvers:\n",
    "    model = LogisticRegression(random_state=42,C=0.001,solver=solver)\n",
    "                               \n",
    "    scores = cross_val_score(model, X, y, cv=5, scoring='accuracy')  # You can use other scoring metrics as well\n",
    "    mean_scores[solver] = np.mean(scores)"
   ]
  },
  {
   "cell_type": "code",
   "execution_count": 90,
   "id": "4750dea9-d941-44ee-9d57-81349a9fe5b8",
   "metadata": {},
   "outputs": [
    {
     "name": "stdout",
     "output_type": "stream",
     "text": [
      "liblinear: 0.5202456140350877\n",
      "newton-cg: 0.5175789473684211\n",
      "lbfgs: 0.6366666666666666\n",
      "sag: 0.5544912280701755\n",
      "saga: 0.5439298245614036\n",
      "Best Solver: lbfgs\n"
     ]
    }
   ],
   "source": [
    "# Print mean scores for each solver\n",
    "for solver, mean_score in mean_scores.items():\n",
    "    print(f'{solver}: {mean_score}')\n",
    "\n",
    "# Choose the solver with the highest mean score\n",
    "best_solver = max(mean_scores, key=mean_scores.get)\n",
    "print(f'Best Solver: {best_solver}')"
   ]
  },
  {
   "cell_type": "markdown",
   "id": "ed707943-24a8-4155-b00c-046e0f068d16",
   "metadata": {},
   "source": [
    "# Model"
   ]
  },
  {
   "cell_type": "code",
   "execution_count": 91,
   "id": "7eaef445-3e4f-41d7-a869-2c37545d724a",
   "metadata": {},
   "outputs": [],
   "source": [
    "logreg_model = LogisticRegression(random_state=42 ,C=0.001, solver='lbfgs' )"
   ]
  },
  {
   "cell_type": "code",
   "execution_count": 92,
   "id": "e15fa797-c53c-483e-a7c4-887ed72fbb31",
   "metadata": {},
   "outputs": [
    {
     "data": {
      "text/plain": [
       "LogisticRegression(C=0.001, random_state=42)"
      ]
     },
     "execution_count": 92,
     "metadata": {},
     "output_type": "execute_result"
    }
   ],
   "source": [
    "logreg_model.fit(X_train_i_scaled, y_train)"
   ]
  },
  {
   "cell_type": "markdown",
   "id": "fdafdab7-56db-4b9b-82a2-152c937f570e",
   "metadata": {},
   "source": [
    "## Overfitting"
   ]
  },
  {
   "cell_type": "markdown",
   "id": "0e17778a-2e12-4462-966e-b087f61c7393",
   "metadata": {},
   "source": [
    "When working with an small data set we need to awared that we do not ovorfit ther model. In such a case the model may learn the noise in the data rather than the actual patterns on the data. In order to check for overfitting we used cross-validation to det4ermone the model's performance on multiple train-test splits. If the model consistently performs well across different subsets of the data, it's a positive sign that the model's performance is not dependent on a specific random split of the data."
   ]
  },
  {
   "cell_type": "code",
   "execution_count": 93,
   "id": "bf557b0a-98b4-4ab6-8ee1-bc8e8d1454cf",
   "metadata": {},
   "outputs": [],
   "source": [
    "# Define the logistic regression model with chosen parameters\n",
    "logreg_model = LogisticRegression(random_state=42, C=0.001, solver='lbfgs',\n",
    "                                  max_iter=1000)"
   ]
  },
  {
   "cell_type": "code",
   "execution_count": 94,
   "id": "760fdbe9-23b2-44b2-8dc2-704cd6b8b9b3",
   "metadata": {},
   "outputs": [],
   "source": [
    "# Create a pipeline with standard scaling (if applicable) and the model\n",
    "model_pipeline = make_pipeline(StandardScaler(), logreg_model)"
   ]
  },
  {
   "cell_type": "code",
   "execution_count": 95,
   "id": "a8d20e69-9054-4547-9852-1627f5b0ed7b",
   "metadata": {},
   "outputs": [],
   "source": [
    "# Cross-validation strategy\n",
    "cv = StratifiedKFold(n_splits=12, shuffle=True, random_state=42)"
   ]
  },
  {
   "cell_type": "code",
   "execution_count": 96,
   "id": "0d5d4527-9622-45e9-88e2-6b2398bf9a3e",
   "metadata": {},
   "outputs": [],
   "source": [
    "# Filter out FutureWarnings\n",
    "warnings.simplefilter(action='ignore', category=FutureWarning)"
   ]
  },
  {
   "cell_type": "code",
   "execution_count": 97,
   "id": "dd33528b-df63-45ad-a798-67f9f6e9d229",
   "metadata": {},
   "outputs": [
    {
     "name": "stderr",
     "output_type": "stream",
     "text": [
      "/sw/pkgs/arc/python3.9-anaconda/2021.11/lib/python3.9/site-packages/sklearn/utils/validation.py:571: FutureWarning: is_sparse is deprecated and will be removed in a future version. Check `isinstance(dtype, pd.SparseDtype)` instead.\n",
      "  array.dtypes.apply(is_sparse).any()):\n",
      "/sw/pkgs/arc/python3.9-anaconda/2021.11/lib/python3.9/site-packages/sklearn/utils/validation.py:571: FutureWarning: is_sparse is deprecated and will be removed in a future version. Check `isinstance(dtype, pd.SparseDtype)` instead.\n",
      "  array.dtypes.apply(is_sparse).any()):\n",
      "/sw/pkgs/arc/python3.9-anaconda/2021.11/lib/python3.9/site-packages/sklearn/utils/validation.py:571: FutureWarning: is_sparse is deprecated and will be removed in a future version. Check `isinstance(dtype, pd.SparseDtype)` instead.\n",
      "  array.dtypes.apply(is_sparse).any()):\n",
      "/sw/pkgs/arc/python3.9-anaconda/2021.11/lib/python3.9/site-packages/sklearn/utils/validation.py:571: FutureWarning: is_sparse is deprecated and will be removed in a future version. Check `isinstance(dtype, pd.SparseDtype)` instead.\n",
      "  array.dtypes.apply(is_sparse).any()):\n",
      "/sw/pkgs/arc/python3.9-anaconda/2021.11/lib/python3.9/site-packages/sklearn/utils/validation.py:571: FutureWarning: is_sparse is deprecated and will be removed in a future version. Check `isinstance(dtype, pd.SparseDtype)` instead.\n",
      "  array.dtypes.apply(is_sparse).any()):\n",
      "/sw/pkgs/arc/python3.9-anaconda/2021.11/lib/python3.9/site-packages/sklearn/utils/validation.py:571: FutureWarning: is_sparse is deprecated and will be removed in a future version. Check `isinstance(dtype, pd.SparseDtype)` instead.\n",
      "  array.dtypes.apply(is_sparse).any()):\n",
      "/sw/pkgs/arc/python3.9-anaconda/2021.11/lib/python3.9/site-packages/sklearn/utils/validation.py:571: FutureWarning: is_sparse is deprecated and will be removed in a future version. Check `isinstance(dtype, pd.SparseDtype)` instead.\n",
      "  array.dtypes.apply(is_sparse).any()):\n",
      "/sw/pkgs/arc/python3.9-anaconda/2021.11/lib/python3.9/site-packages/sklearn/utils/validation.py:571: FutureWarning: is_sparse is deprecated and will be removed in a future version. Check `isinstance(dtype, pd.SparseDtype)` instead.\n",
      "  array.dtypes.apply(is_sparse).any()):\n",
      "/sw/pkgs/arc/python3.9-anaconda/2021.11/lib/python3.9/site-packages/sklearn/utils/validation.py:571: FutureWarning: is_sparse is deprecated and will be removed in a future version. Check `isinstance(dtype, pd.SparseDtype)` instead.\n",
      "  array.dtypes.apply(is_sparse).any()):\n",
      "/sw/pkgs/arc/python3.9-anaconda/2021.11/lib/python3.9/site-packages/sklearn/utils/validation.py:571: FutureWarning: is_sparse is deprecated and will be removed in a future version. Check `isinstance(dtype, pd.SparseDtype)` instead.\n",
      "  array.dtypes.apply(is_sparse).any()):\n",
      "/sw/pkgs/arc/python3.9-anaconda/2021.11/lib/python3.9/site-packages/sklearn/utils/validation.py:571: FutureWarning: is_sparse is deprecated and will be removed in a future version. Check `isinstance(dtype, pd.SparseDtype)` instead.\n",
      "  array.dtypes.apply(is_sparse).any()):\n",
      "/sw/pkgs/arc/python3.9-anaconda/2021.11/lib/python3.9/site-packages/sklearn/utils/validation.py:571: FutureWarning: is_sparse is deprecated and will be removed in a future version. Check `isinstance(dtype, pd.SparseDtype)` instead.\n",
      "  array.dtypes.apply(is_sparse).any()):\n",
      "/sw/pkgs/arc/python3.9-anaconda/2021.11/lib/python3.9/site-packages/sklearn/utils/validation.py:571: FutureWarning: is_sparse is deprecated and will be removed in a future version. Check `isinstance(dtype, pd.SparseDtype)` instead.\n",
      "  array.dtypes.apply(is_sparse).any()):\n",
      "/sw/pkgs/arc/python3.9-anaconda/2021.11/lib/python3.9/site-packages/sklearn/utils/validation.py:571: FutureWarning: is_sparse is deprecated and will be removed in a future version. Check `isinstance(dtype, pd.SparseDtype)` instead.\n",
      "  array.dtypes.apply(is_sparse).any()):\n",
      "/sw/pkgs/arc/python3.9-anaconda/2021.11/lib/python3.9/site-packages/sklearn/utils/validation.py:571: FutureWarning: is_sparse is deprecated and will be removed in a future version. Check `isinstance(dtype, pd.SparseDtype)` instead.\n",
      "  array.dtypes.apply(is_sparse).any()):\n",
      "/sw/pkgs/arc/python3.9-anaconda/2021.11/lib/python3.9/site-packages/sklearn/utils/validation.py:571: FutureWarning: is_sparse is deprecated and will be removed in a future version. Check `isinstance(dtype, pd.SparseDtype)` instead.\n",
      "  array.dtypes.apply(is_sparse).any()):\n",
      "/sw/pkgs/arc/python3.9-anaconda/2021.11/lib/python3.9/site-packages/sklearn/utils/validation.py:571: FutureWarning: is_sparse is deprecated and will be removed in a future version. Check `isinstance(dtype, pd.SparseDtype)` instead.\n",
      "  array.dtypes.apply(is_sparse).any()):\n",
      "/sw/pkgs/arc/python3.9-anaconda/2021.11/lib/python3.9/site-packages/sklearn/utils/validation.py:571: FutureWarning: is_sparse is deprecated and will be removed in a future version. Check `isinstance(dtype, pd.SparseDtype)` instead.\n",
      "  array.dtypes.apply(is_sparse).any()):\n",
      "/sw/pkgs/arc/python3.9-anaconda/2021.11/lib/python3.9/site-packages/sklearn/utils/validation.py:571: FutureWarning: is_sparse is deprecated and will be removed in a future version. Check `isinstance(dtype, pd.SparseDtype)` instead.\n",
      "  array.dtypes.apply(is_sparse).any()):\n",
      "/sw/pkgs/arc/python3.9-anaconda/2021.11/lib/python3.9/site-packages/sklearn/utils/validation.py:571: FutureWarning: is_sparse is deprecated and will be removed in a future version. Check `isinstance(dtype, pd.SparseDtype)` instead.\n",
      "  array.dtypes.apply(is_sparse).any()):\n",
      "/sw/pkgs/arc/python3.9-anaconda/2021.11/lib/python3.9/site-packages/sklearn/utils/validation.py:571: FutureWarning: is_sparse is deprecated and will be removed in a future version. Check `isinstance(dtype, pd.SparseDtype)` instead.\n",
      "  array.dtypes.apply(is_sparse).any()):\n",
      "/sw/pkgs/arc/python3.9-anaconda/2021.11/lib/python3.9/site-packages/sklearn/utils/validation.py:571: FutureWarning: is_sparse is deprecated and will be removed in a future version. Check `isinstance(dtype, pd.SparseDtype)` instead.\n",
      "  array.dtypes.apply(is_sparse).any()):\n",
      "/sw/pkgs/arc/python3.9-anaconda/2021.11/lib/python3.9/site-packages/sklearn/utils/validation.py:571: FutureWarning: is_sparse is deprecated and will be removed in a future version. Check `isinstance(dtype, pd.SparseDtype)` instead.\n",
      "  array.dtypes.apply(is_sparse).any()):\n",
      "/sw/pkgs/arc/python3.9-anaconda/2021.11/lib/python3.9/site-packages/sklearn/utils/validation.py:571: FutureWarning: is_sparse is deprecated and will be removed in a future version. Check `isinstance(dtype, pd.SparseDtype)` instead.\n",
      "  array.dtypes.apply(is_sparse).any()):\n",
      "/sw/pkgs/arc/python3.9-anaconda/2021.11/lib/python3.9/site-packages/sklearn/utils/validation.py:571: FutureWarning: is_sparse is deprecated and will be removed in a future version. Check `isinstance(dtype, pd.SparseDtype)` instead.\n",
      "  array.dtypes.apply(is_sparse).any()):\n",
      "/sw/pkgs/arc/python3.9-anaconda/2021.11/lib/python3.9/site-packages/sklearn/utils/validation.py:571: FutureWarning: is_sparse is deprecated and will be removed in a future version. Check `isinstance(dtype, pd.SparseDtype)` instead.\n",
      "  array.dtypes.apply(is_sparse).any()):\n",
      "/sw/pkgs/arc/python3.9-anaconda/2021.11/lib/python3.9/site-packages/sklearn/utils/validation.py:571: FutureWarning: is_sparse is deprecated and will be removed in a future version. Check `isinstance(dtype, pd.SparseDtype)` instead.\n",
      "  array.dtypes.apply(is_sparse).any()):\n",
      "/sw/pkgs/arc/python3.9-anaconda/2021.11/lib/python3.9/site-packages/sklearn/utils/validation.py:571: FutureWarning: is_sparse is deprecated and will be removed in a future version. Check `isinstance(dtype, pd.SparseDtype)` instead.\n",
      "  array.dtypes.apply(is_sparse).any()):\n",
      "/sw/pkgs/arc/python3.9-anaconda/2021.11/lib/python3.9/site-packages/sklearn/utils/validation.py:571: FutureWarning: is_sparse is deprecated and will be removed in a future version. Check `isinstance(dtype, pd.SparseDtype)` instead.\n",
      "  array.dtypes.apply(is_sparse).any()):\n",
      "/sw/pkgs/arc/python3.9-anaconda/2021.11/lib/python3.9/site-packages/sklearn/utils/validation.py:571: FutureWarning: is_sparse is deprecated and will be removed in a future version. Check `isinstance(dtype, pd.SparseDtype)` instead.\n",
      "  array.dtypes.apply(is_sparse).any()):\n",
      "/sw/pkgs/arc/python3.9-anaconda/2021.11/lib/python3.9/site-packages/sklearn/utils/validation.py:571: FutureWarning: is_sparse is deprecated and will be removed in a future version. Check `isinstance(dtype, pd.SparseDtype)` instead.\n",
      "  array.dtypes.apply(is_sparse).any()):\n",
      "/sw/pkgs/arc/python3.9-anaconda/2021.11/lib/python3.9/site-packages/sklearn/utils/validation.py:571: FutureWarning: is_sparse is deprecated and will be removed in a future version. Check `isinstance(dtype, pd.SparseDtype)` instead.\n",
      "  array.dtypes.apply(is_sparse).any()):\n",
      "/sw/pkgs/arc/python3.9-anaconda/2021.11/lib/python3.9/site-packages/sklearn/utils/validation.py:571: FutureWarning: is_sparse is deprecated and will be removed in a future version. Check `isinstance(dtype, pd.SparseDtype)` instead.\n",
      "  array.dtypes.apply(is_sparse).any()):\n",
      "/sw/pkgs/arc/python3.9-anaconda/2021.11/lib/python3.9/site-packages/sklearn/utils/validation.py:571: FutureWarning: is_sparse is deprecated and will be removed in a future version. Check `isinstance(dtype, pd.SparseDtype)` instead.\n",
      "  array.dtypes.apply(is_sparse).any()):\n",
      "/sw/pkgs/arc/python3.9-anaconda/2021.11/lib/python3.9/site-packages/sklearn/utils/validation.py:571: FutureWarning: is_sparse is deprecated and will be removed in a future version. Check `isinstance(dtype, pd.SparseDtype)` instead.\n",
      "  array.dtypes.apply(is_sparse).any()):\n",
      "/sw/pkgs/arc/python3.9-anaconda/2021.11/lib/python3.9/site-packages/sklearn/utils/validation.py:571: FutureWarning: is_sparse is deprecated and will be removed in a future version. Check `isinstance(dtype, pd.SparseDtype)` instead.\n",
      "  array.dtypes.apply(is_sparse).any()):\n",
      "/sw/pkgs/arc/python3.9-anaconda/2021.11/lib/python3.9/site-packages/sklearn/utils/validation.py:571: FutureWarning: is_sparse is deprecated and will be removed in a future version. Check `isinstance(dtype, pd.SparseDtype)` instead.\n",
      "  array.dtypes.apply(is_sparse).any()):\n",
      "/sw/pkgs/arc/python3.9-anaconda/2021.11/lib/python3.9/site-packages/sklearn/utils/validation.py:571: FutureWarning: is_sparse is deprecated and will be removed in a future version. Check `isinstance(dtype, pd.SparseDtype)` instead.\n",
      "  array.dtypes.apply(is_sparse).any()):\n",
      "/sw/pkgs/arc/python3.9-anaconda/2021.11/lib/python3.9/site-packages/sklearn/linear_model/_logistic.py:763: ConvergenceWarning: lbfgs failed to converge (status=1):\n",
      "STOP: TOTAL NO. of ITERATIONS REACHED LIMIT.\n",
      "\n",
      "Increase the number of iterations (max_iter) or scale the data as shown in:\n",
      "    https://scikit-learn.org/stable/modules/preprocessing.html\n",
      "Please also refer to the documentation for alternative solver options:\n",
      "    https://scikit-learn.org/stable/modules/linear_model.html#logistic-regression\n",
      "  n_iter_i = _check_optimize_result(\n",
      "/sw/pkgs/arc/python3.9-anaconda/2021.11/lib/python3.9/site-packages/sklearn/utils/validation.py:571: FutureWarning: is_sparse is deprecated and will be removed in a future version. Check `isinstance(dtype, pd.SparseDtype)` instead.\n",
      "  array.dtypes.apply(is_sparse).any()):\n",
      "/sw/pkgs/arc/python3.9-anaconda/2021.11/lib/python3.9/site-packages/sklearn/linear_model/_logistic.py:763: ConvergenceWarning: lbfgs failed to converge (status=1):\n",
      "STOP: TOTAL NO. of ITERATIONS REACHED LIMIT.\n",
      "\n",
      "Increase the number of iterations (max_iter) or scale the data as shown in:\n",
      "    https://scikit-learn.org/stable/modules/preprocessing.html\n",
      "Please also refer to the documentation for alternative solver options:\n",
      "    https://scikit-learn.org/stable/modules/linear_model.html#logistic-regression\n",
      "  n_iter_i = _check_optimize_result(\n",
      "/sw/pkgs/arc/python3.9-anaconda/2021.11/lib/python3.9/site-packages/sklearn/utils/validation.py:571: FutureWarning: is_sparse is deprecated and will be removed in a future version. Check `isinstance(dtype, pd.SparseDtype)` instead.\n",
      "  array.dtypes.apply(is_sparse).any()):\n",
      "/sw/pkgs/arc/python3.9-anaconda/2021.11/lib/python3.9/site-packages/sklearn/utils/validation.py:571: FutureWarning: is_sparse is deprecated and will be removed in a future version. Check `isinstance(dtype, pd.SparseDtype)` instead.\n",
      "  array.dtypes.apply(is_sparse).any()):\n",
      "/sw/pkgs/arc/python3.9-anaconda/2021.11/lib/python3.9/site-packages/sklearn/utils/validation.py:571: FutureWarning: is_sparse is deprecated and will be removed in a future version. Check `isinstance(dtype, pd.SparseDtype)` instead.\n",
      "  array.dtypes.apply(is_sparse).any()):\n",
      "/sw/pkgs/arc/python3.9-anaconda/2021.11/lib/python3.9/site-packages/sklearn/linear_model/_logistic.py:763: ConvergenceWarning: lbfgs failed to converge (status=1):\n",
      "STOP: TOTAL NO. of ITERATIONS REACHED LIMIT.\n",
      "\n",
      "Increase the number of iterations (max_iter) or scale the data as shown in:\n",
      "    https://scikit-learn.org/stable/modules/preprocessing.html\n",
      "Please also refer to the documentation for alternative solver options:\n",
      "    https://scikit-learn.org/stable/modules/linear_model.html#logistic-regression\n",
      "  n_iter_i = _check_optimize_result(\n",
      "/sw/pkgs/arc/python3.9-anaconda/2021.11/lib/python3.9/site-packages/sklearn/utils/validation.py:571: FutureWarning: is_sparse is deprecated and will be removed in a future version. Check `isinstance(dtype, pd.SparseDtype)` instead.\n",
      "  array.dtypes.apply(is_sparse).any()):\n",
      "/sw/pkgs/arc/python3.9-anaconda/2021.11/lib/python3.9/site-packages/sklearn/utils/validation.py:571: FutureWarning: is_sparse is deprecated and will be removed in a future version. Check `isinstance(dtype, pd.SparseDtype)` instead.\n",
      "  array.dtypes.apply(is_sparse).any()):\n",
      "/sw/pkgs/arc/python3.9-anaconda/2021.11/lib/python3.9/site-packages/sklearn/linear_model/_logistic.py:763: ConvergenceWarning: lbfgs failed to converge (status=1):\n",
      "STOP: TOTAL NO. of ITERATIONS REACHED LIMIT.\n",
      "\n",
      "Increase the number of iterations (max_iter) or scale the data as shown in:\n",
      "    https://scikit-learn.org/stable/modules/preprocessing.html\n",
      "Please also refer to the documentation for alternative solver options:\n",
      "    https://scikit-learn.org/stable/modules/linear_model.html#logistic-regression\n",
      "  n_iter_i = _check_optimize_result(\n",
      "/sw/pkgs/arc/python3.9-anaconda/2021.11/lib/python3.9/site-packages/sklearn/utils/validation.py:571: FutureWarning: is_sparse is deprecated and will be removed in a future version. Check `isinstance(dtype, pd.SparseDtype)` instead.\n",
      "  array.dtypes.apply(is_sparse).any()):\n",
      "/sw/pkgs/arc/python3.9-anaconda/2021.11/lib/python3.9/site-packages/sklearn/utils/validation.py:571: FutureWarning: is_sparse is deprecated and will be removed in a future version. Check `isinstance(dtype, pd.SparseDtype)` instead.\n",
      "  array.dtypes.apply(is_sparse).any()):\n",
      "/sw/pkgs/arc/python3.9-anaconda/2021.11/lib/python3.9/site-packages/sklearn/linear_model/_logistic.py:763: ConvergenceWarning: lbfgs failed to converge (status=1):\n",
      "STOP: TOTAL NO. of ITERATIONS REACHED LIMIT.\n",
      "\n",
      "Increase the number of iterations (max_iter) or scale the data as shown in:\n",
      "    https://scikit-learn.org/stable/modules/preprocessing.html\n",
      "Please also refer to the documentation for alternative solver options:\n",
      "    https://scikit-learn.org/stable/modules/linear_model.html#logistic-regression\n",
      "  n_iter_i = _check_optimize_result(\n",
      "/sw/pkgs/arc/python3.9-anaconda/2021.11/lib/python3.9/site-packages/sklearn/utils/validation.py:571: FutureWarning: is_sparse is deprecated and will be removed in a future version. Check `isinstance(dtype, pd.SparseDtype)` instead.\n",
      "  array.dtypes.apply(is_sparse).any()):\n",
      "/sw/pkgs/arc/python3.9-anaconda/2021.11/lib/python3.9/site-packages/sklearn/utils/validation.py:571: FutureWarning: is_sparse is deprecated and will be removed in a future version. Check `isinstance(dtype, pd.SparseDtype)` instead.\n",
      "  array.dtypes.apply(is_sparse).any()):\n",
      "/sw/pkgs/arc/python3.9-anaconda/2021.11/lib/python3.9/site-packages/sklearn/linear_model/_logistic.py:763: ConvergenceWarning: lbfgs failed to converge (status=1):\n",
      "STOP: TOTAL NO. of ITERATIONS REACHED LIMIT.\n",
      "\n",
      "Increase the number of iterations (max_iter) or scale the data as shown in:\n",
      "    https://scikit-learn.org/stable/modules/preprocessing.html\n",
      "Please also refer to the documentation for alternative solver options:\n",
      "    https://scikit-learn.org/stable/modules/linear_model.html#logistic-regression\n",
      "  n_iter_i = _check_optimize_result(\n",
      "/sw/pkgs/arc/python3.9-anaconda/2021.11/lib/python3.9/site-packages/sklearn/utils/validation.py:571: FutureWarning: is_sparse is deprecated and will be removed in a future version. Check `isinstance(dtype, pd.SparseDtype)` instead.\n",
      "  array.dtypes.apply(is_sparse).any()):\n",
      "/sw/pkgs/arc/python3.9-anaconda/2021.11/lib/python3.9/site-packages/sklearn/utils/validation.py:571: FutureWarning: is_sparse is deprecated and will be removed in a future version. Check `isinstance(dtype, pd.SparseDtype)` instead.\n",
      "  array.dtypes.apply(is_sparse).any()):\n",
      "/sw/pkgs/arc/python3.9-anaconda/2021.11/lib/python3.9/site-packages/sklearn/linear_model/_logistic.py:763: ConvergenceWarning: lbfgs failed to converge (status=1):\n",
      "STOP: TOTAL NO. of ITERATIONS REACHED LIMIT.\n",
      "\n",
      "Increase the number of iterations (max_iter) or scale the data as shown in:\n",
      "    https://scikit-learn.org/stable/modules/preprocessing.html\n",
      "Please also refer to the documentation for alternative solver options:\n",
      "    https://scikit-learn.org/stable/modules/linear_model.html#logistic-regression\n",
      "  n_iter_i = _check_optimize_result(\n",
      "/sw/pkgs/arc/python3.9-anaconda/2021.11/lib/python3.9/site-packages/sklearn/utils/validation.py:571: FutureWarning: is_sparse is deprecated and will be removed in a future version. Check `isinstance(dtype, pd.SparseDtype)` instead.\n",
      "  array.dtypes.apply(is_sparse).any()):\n",
      "/sw/pkgs/arc/python3.9-anaconda/2021.11/lib/python3.9/site-packages/sklearn/utils/validation.py:571: FutureWarning: is_sparse is deprecated and will be removed in a future version. Check `isinstance(dtype, pd.SparseDtype)` instead.\n",
      "  array.dtypes.apply(is_sparse).any()):\n",
      "/sw/pkgs/arc/python3.9-anaconda/2021.11/lib/python3.9/site-packages/sklearn/linear_model/_logistic.py:763: ConvergenceWarning: lbfgs failed to converge (status=1):\n",
      "STOP: TOTAL NO. of ITERATIONS REACHED LIMIT.\n",
      "\n",
      "Increase the number of iterations (max_iter) or scale the data as shown in:\n",
      "    https://scikit-learn.org/stable/modules/preprocessing.html\n",
      "Please also refer to the documentation for alternative solver options:\n",
      "    https://scikit-learn.org/stable/modules/linear_model.html#logistic-regression\n",
      "  n_iter_i = _check_optimize_result(\n",
      "/sw/pkgs/arc/python3.9-anaconda/2021.11/lib/python3.9/site-packages/sklearn/utils/validation.py:571: FutureWarning: is_sparse is deprecated and will be removed in a future version. Check `isinstance(dtype, pd.SparseDtype)` instead.\n",
      "  array.dtypes.apply(is_sparse).any()):\n",
      "/sw/pkgs/arc/python3.9-anaconda/2021.11/lib/python3.9/site-packages/sklearn/utils/validation.py:571: FutureWarning: is_sparse is deprecated and will be removed in a future version. Check `isinstance(dtype, pd.SparseDtype)` instead.\n",
      "  array.dtypes.apply(is_sparse).any()):\n",
      "/sw/pkgs/arc/python3.9-anaconda/2021.11/lib/python3.9/site-packages/sklearn/linear_model/_logistic.py:763: ConvergenceWarning: lbfgs failed to converge (status=1):\n",
      "STOP: TOTAL NO. of ITERATIONS REACHED LIMIT.\n",
      "\n",
      "Increase the number of iterations (max_iter) or scale the data as shown in:\n",
      "    https://scikit-learn.org/stable/modules/preprocessing.html\n",
      "Please also refer to the documentation for alternative solver options:\n",
      "    https://scikit-learn.org/stable/modules/linear_model.html#logistic-regression\n",
      "  n_iter_i = _check_optimize_result(\n",
      "/sw/pkgs/arc/python3.9-anaconda/2021.11/lib/python3.9/site-packages/sklearn/utils/validation.py:571: FutureWarning: is_sparse is deprecated and will be removed in a future version. Check `isinstance(dtype, pd.SparseDtype)` instead.\n",
      "  array.dtypes.apply(is_sparse).any()):\n",
      "/sw/pkgs/arc/python3.9-anaconda/2021.11/lib/python3.9/site-packages/sklearn/utils/validation.py:571: FutureWarning: is_sparse is deprecated and will be removed in a future version. Check `isinstance(dtype, pd.SparseDtype)` instead.\n",
      "  array.dtypes.apply(is_sparse).any()):\n",
      "/sw/pkgs/arc/python3.9-anaconda/2021.11/lib/python3.9/site-packages/sklearn/linear_model/_logistic.py:763: ConvergenceWarning: lbfgs failed to converge (status=1):\n",
      "STOP: TOTAL NO. of ITERATIONS REACHED LIMIT.\n",
      "\n",
      "Increase the number of iterations (max_iter) or scale the data as shown in:\n",
      "    https://scikit-learn.org/stable/modules/preprocessing.html\n",
      "Please also refer to the documentation for alternative solver options:\n",
      "    https://scikit-learn.org/stable/modules/linear_model.html#logistic-regression\n",
      "  n_iter_i = _check_optimize_result(\n",
      "/sw/pkgs/arc/python3.9-anaconda/2021.11/lib/python3.9/site-packages/sklearn/utils/validation.py:571: FutureWarning: is_sparse is deprecated and will be removed in a future version. Check `isinstance(dtype, pd.SparseDtype)` instead.\n",
      "  array.dtypes.apply(is_sparse).any()):\n",
      "/sw/pkgs/arc/python3.9-anaconda/2021.11/lib/python3.9/site-packages/sklearn/utils/validation.py:571: FutureWarning: is_sparse is deprecated and will be removed in a future version. Check `isinstance(dtype, pd.SparseDtype)` instead.\n",
      "  array.dtypes.apply(is_sparse).any()):\n",
      "/sw/pkgs/arc/python3.9-anaconda/2021.11/lib/python3.9/site-packages/sklearn/linear_model/_logistic.py:763: ConvergenceWarning: lbfgs failed to converge (status=1):\n",
      "STOP: TOTAL NO. of ITERATIONS REACHED LIMIT.\n",
      "\n",
      "Increase the number of iterations (max_iter) or scale the data as shown in:\n",
      "    https://scikit-learn.org/stable/modules/preprocessing.html\n",
      "Please also refer to the documentation for alternative solver options:\n",
      "    https://scikit-learn.org/stable/modules/linear_model.html#logistic-regression\n",
      "  n_iter_i = _check_optimize_result(\n",
      "/sw/pkgs/arc/python3.9-anaconda/2021.11/lib/python3.9/site-packages/sklearn/utils/validation.py:571: FutureWarning: is_sparse is deprecated and will be removed in a future version. Check `isinstance(dtype, pd.SparseDtype)` instead.\n",
      "  array.dtypes.apply(is_sparse).any()):\n",
      "/sw/pkgs/arc/python3.9-anaconda/2021.11/lib/python3.9/site-packages/sklearn/linear_model/_logistic.py:763: ConvergenceWarning: lbfgs failed to converge (status=1):\n",
      "STOP: TOTAL NO. of ITERATIONS REACHED LIMIT.\n",
      "\n",
      "Increase the number of iterations (max_iter) or scale the data as shown in:\n",
      "    https://scikit-learn.org/stable/modules/preprocessing.html\n",
      "Please also refer to the documentation for alternative solver options:\n",
      "    https://scikit-learn.org/stable/modules/linear_model.html#logistic-regression\n",
      "  n_iter_i = _check_optimize_result(\n",
      "/sw/pkgs/arc/python3.9-anaconda/2021.11/lib/python3.9/site-packages/sklearn/utils/validation.py:571: FutureWarning: is_sparse is deprecated and will be removed in a future version. Check `isinstance(dtype, pd.SparseDtype)` instead.\n",
      "  array.dtypes.apply(is_sparse).any()):\n"
     ]
    }
   ],
   "source": [
    "import warnings\n",
    "\n",
    "# Ignore FutureWarnings and all warnings\n",
    "warnings.filterwarnings(\"ignore\")\n",
    "\n",
    "# Perform cross-validation and get the scores\n",
    "train_scores = cross_val_score(model_pipeline, X, y,\n",
    "                               cv=cv, scoring='accuracy', n_jobs=-1)\n",
    "\n",
    "test_scores = cross_val_score(logreg_model, X, y,\n",
    "                              cv=cv, scoring='accuracy', n_jobs=-1)\n"
   ]
  },
  {
   "cell_type": "code",
   "execution_count": 98,
   "id": "5578e048-7520-4984-9af9-2d53bcf86b43",
   "metadata": {},
   "outputs": [
    {
     "data": {
      "text/html": [
       "<div>\n",
       "<style scoped>\n",
       "    .dataframe tbody tr th:only-of-type {\n",
       "        vertical-align: middle;\n",
       "    }\n",
       "\n",
       "    .dataframe tbody tr th {\n",
       "        vertical-align: top;\n",
       "    }\n",
       "\n",
       "    .dataframe thead th {\n",
       "        text-align: right;\n",
       "    }\n",
       "</style>\n",
       "<table border=\"1\" class=\"dataframe\">\n",
       "  <thead>\n",
       "    <tr style=\"text-align: right;\">\n",
       "      <th></th>\n",
       "      <th>Fold</th>\n",
       "      <th>Train Accuracy</th>\n",
       "      <th>Test Accuracy</th>\n",
       "    </tr>\n",
       "  </thead>\n",
       "  <tbody>\n",
       "    <tr>\n",
       "      <th>0</th>\n",
       "      <td>1</td>\n",
       "      <td>0.593750</td>\n",
       "      <td>0.656250</td>\n",
       "    </tr>\n",
       "    <tr>\n",
       "      <th>1</th>\n",
       "      <td>2</td>\n",
       "      <td>0.593750</td>\n",
       "      <td>0.593750</td>\n",
       "    </tr>\n",
       "    <tr>\n",
       "      <th>2</th>\n",
       "      <td>3</td>\n",
       "      <td>0.656250</td>\n",
       "      <td>0.531250</td>\n",
       "    </tr>\n",
       "    <tr>\n",
       "      <th>3</th>\n",
       "      <td>4</td>\n",
       "      <td>0.750000</td>\n",
       "      <td>0.687500</td>\n",
       "    </tr>\n",
       "    <tr>\n",
       "      <th>4</th>\n",
       "      <td>5</td>\n",
       "      <td>0.843750</td>\n",
       "      <td>0.562500</td>\n",
       "    </tr>\n",
       "    <tr>\n",
       "      <th>5</th>\n",
       "      <td>6</td>\n",
       "      <td>0.806452</td>\n",
       "      <td>0.677419</td>\n",
       "    </tr>\n",
       "    <tr>\n",
       "      <th>6</th>\n",
       "      <td>7</td>\n",
       "      <td>0.645161</td>\n",
       "      <td>0.645161</td>\n",
       "    </tr>\n",
       "    <tr>\n",
       "      <th>7</th>\n",
       "      <td>8</td>\n",
       "      <td>0.870968</td>\n",
       "      <td>0.774194</td>\n",
       "    </tr>\n",
       "    <tr>\n",
       "      <th>8</th>\n",
       "      <td>9</td>\n",
       "      <td>0.677419</td>\n",
       "      <td>0.580645</td>\n",
       "    </tr>\n",
       "    <tr>\n",
       "      <th>9</th>\n",
       "      <td>10</td>\n",
       "      <td>0.580645</td>\n",
       "      <td>0.516129</td>\n",
       "    </tr>\n",
       "    <tr>\n",
       "      <th>10</th>\n",
       "      <td>11</td>\n",
       "      <td>0.741935</td>\n",
       "      <td>0.645161</td>\n",
       "    </tr>\n",
       "    <tr>\n",
       "      <th>11</th>\n",
       "      <td>12</td>\n",
       "      <td>0.580645</td>\n",
       "      <td>0.774194</td>\n",
       "    </tr>\n",
       "  </tbody>\n",
       "</table>\n",
       "</div>"
      ],
      "text/plain": [
       "    Fold  Train Accuracy  Test Accuracy\n",
       "0      1        0.593750       0.656250\n",
       "1      2        0.593750       0.593750\n",
       "2      3        0.656250       0.531250\n",
       "3      4        0.750000       0.687500\n",
       "4      5        0.843750       0.562500\n",
       "5      6        0.806452       0.677419\n",
       "6      7        0.645161       0.645161\n",
       "7      8        0.870968       0.774194\n",
       "8      9        0.677419       0.580645\n",
       "9     10        0.580645       0.516129\n",
       "10    11        0.741935       0.645161\n",
       "11    12        0.580645       0.774194"
      ]
     },
     "execution_count": 98,
     "metadata": {},
     "output_type": "execute_result"
    }
   ],
   "source": [
    "# Create a DataFrame to store the results\n",
    "results_df = pd.DataFrame({\n",
    "    'Fold': np.arange(1, len(train_scores) + 1),\n",
    "    'Train Accuracy': train_scores,\n",
    "    'Test Accuracy': test_scores\n",
    "})\n",
    "\n",
    "results_df"
   ]
  },
  {
   "cell_type": "code",
   "execution_count": 99,
   "id": "796a9eeb-b85f-47dd-bed2-f59123719562",
   "metadata": {},
   "outputs": [
    {
     "data": {
      "image/png": "[encoded data removed]",
      "text/plain": [
       "<Figure size 720x432 with 1 Axes>"
      ]
     },
     "metadata": {
      "needs_background": "light"
     },
     "output_type": "display_data"
    }
   ],
   "source": [
    "# Plot the results\n",
    "plt.figure(figsize=(10, 6))\n",
    "plt.plot(results_df['Fold'], results_df['Train Accuracy'], marker='o', label='Train Accuracy')\n",
    "plt.plot(results_df['Fold'], results_df['Test Accuracy'], marker='o', label='Test Accuracy')\n",
    "plt.title('Cross-Validation Results')\n",
    "plt.xlabel('Fold')\n",
    "plt.ylabel('Accuracy')\n",
    "plt.legend()\n",
    "plt.grid(True)"
   ]
  },
  {
   "cell_type": "markdown",
   "id": "e374aacc-5f93-42a4-9ccb-7f0f6ce8263a",
   "metadata": {},
   "source": [
    "In general, the training accuracies are reasonably high wich indicats that the model is learning from the training data. However, there is some variability in the accuracies across the different folds.\n",
    "The test accuracies are lower than the training accuracies which may be expected however the differences in accuracy across the various folds might indicate some level of overfitting."
   ]
  },
  {
   "cell_type": "code",
   "execution_count": null,
   "id": "d93f7837-d95b-4b31-ab90-b096d1884c64",
   "metadata": {},
   "outputs": [],
   "source": []
  },
  {
   "cell_type": "markdown",
   "id": "d0eedcaa-49ea-4194-adeb-5f2102925680",
   "metadata": {},
   "source": [
    "## Features"
   ]
  },
  {
   "cell_type": "code",
   "execution_count": null,
   "id": "b90a6399-b05b-4346-8bd3-ffdb77e9b43b",
   "metadata": {},
   "outputs": [],
   "source": [
    "selected_rows"
   ]
  },
  {
   "cell_type": "markdown",
   "id": "7849a6bc-e29c-4f8d-b956-0ba89cffbcc4",
   "metadata": {},
   "source": [
    "## Discusion"
   ]
  },
  {
   "cell_type": "markdown",
   "id": "a757c6f1-6739-40d0-8997-5f77fb0d3e7c",
   "metadata": {},
   "source": [
    "Regarding long-term care insurance underwriting, our primary goal is to enhance the accuracy of predicting No Dementia in patients while minimizing false positives. The original model, which uses over 50,000 features, has a greater precision of 0.85 for No Dementia, indicating that 85% of patients identified as No Dementia are accurate. In contrast, the new model has a precision of approximately 0.76 for No Dementia, meaning that around 76% of instances predicted as No Dementia are true negatives.\n",
    "Although the new model correctly identifies more true negatives (35 out of 41) than the original model (34 out of 41), the precision metric considers the ratio of true negatives to false positives. The original model achieves a higher precision in predicting No Dementia, indicating a lower occurrence of false positives.\n",
    "It's important to acknowledge that despite utilizing only 283 features or the expression of 283 genes, the new model achieves a comparable specificity for predicting No Dementia. This reduction in feature dimensionality has practical implications, such as reduced computational costs and improved model interpretability.\n",
    "Furthermore, the possibility of obtaining gene expression data on 283 targeted genes using faster chip technology, such as customized microarrays or targeted RNA sequencing panels, is worth investigating. These technologies allow for high-throughput analysis, offering opportunities for more efficient and streamlined processes."
   ]
  },
  {
   "cell_type": "markdown",
   "id": "97fa29f5-95fe-472a-9c72-3276fd1584d8",
   "metadata": {},
   "source": [
    "## Libraries"
   ]
  },
  {
   "cell_type": "code",
   "execution_count": null,
   "id": "d8900b8c",
   "metadata": {},
   "outputs": [],
   "source": [
    "import pkg_resources\n",
    "\n",
    "def get_library_versions():\n",
    "    \"\"\"\n",
    "    input list of library names as str\n",
    "    ----------\n",
    "    return dictionary with k,v as library,version\n",
    "    \"\"\"\n",
    "    # List of libraries used in the project\n",
    "    libraries = ['pandas', 'numpy', 'altair', 'pyarrow', 'scikit-learn', 'seaborn', 'matplotlib', 'warnings']\n",
    "\n",
    "    # Dictionary to store library versions\n",
    "    library_versions = {}\n",
    "\n",
    "    # Iterate through the list of libraries and get their versions\n",
    "    for library in libraries:\n",
    "        try:\n",
    "            version = pkg_resources.get_distribution(library).version\n",
    "            library_versions[library] = version\n",
    "        except pkg_resources.DistributionNotFound:\n",
    "            library_versions[library] = \"Not Installed\"\n",
    "\n",
    "    return library_versions\n",
    "\n",
    "if __name__ == \"__main__\":\n",
    "    versions = get_library_versions()\n",
    "\n",
    "    # Print the library versions\n",
    "    print(\"Library Versions:\")\n",
    "    for library, version in versions.items():\n",
    "        print(f\"{library}: {version}\")"
   ]
  },
  {
   "cell_type": "code",
   "execution_count": null,
   "id": "e765e6a7",
   "metadata": {},
   "outputs": [],
   "source": []
  }
 ],
 "metadata": {
  "kernelspec": {
   "display_name": "Python 3 (ipykernel)",
   "language": "python",
   "name": "python3"
  },
  "language_info": {
   "codemirror_mode": {
    "name": "ipython",
    "version": 3
   },
   "file_extension": ".py",
   "mimetype": "text/x-python",
   "name": "python",
   "nbconvert_exporter": "python",
   "pygments_lexer": "ipython3",
   "version": "3.9.7"
  }
 },
 "nbformat": 4,
 "nbformat_minor": 5
}
