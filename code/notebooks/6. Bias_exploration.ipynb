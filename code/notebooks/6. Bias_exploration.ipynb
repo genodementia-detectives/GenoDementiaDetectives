{
 "cells": [
  {
   "cell_type": "markdown",
   "metadata": {
    "id": "ltI-upoJ6I4X"
   },
   "source": [
    "# GenoDementia Detectives"
   ]
  },
  {
   "cell_type": "markdown",
   "metadata": {},
   "source": [
    "### Purpose: to explore potential unbalances in the donor information dataset by building histograms by age and other demographic information"
   ]
  },
  {
   "cell_type": "markdown",
   "metadata": {
    "id": "0AGKEmNyGdCl"
   },
   "source": [
    "## Import Data"
   ]
  },
  {
   "cell_type": "code",
   "execution_count": 1,
   "metadata": {
    "id": "nsA7AgTgJr5y"
   },
   "outputs": [],
   "source": [
    "import pandas as pd\n",
    "import pyarrow.parquet as pq\n",
    "import os\n",
    "\n",
    "import matplotlib.pyplot as plt\n",
    "import numpy as np\n",
    "\n",
    "import matplotlib.pyplot as plt\n",
    "import seaborn as sns"
   ]
  },
  {
   "cell_type": "code",
   "execution_count": 2,
   "metadata": {},
   "outputs": [],
   "source": [
    "%load_ext memory_profiler"
   ]
  },
  {
   "cell_type": "code",
   "execution_count": 18,
   "metadata": {
    "id": "c1nHPUA0C5Wr"
   },
   "outputs": [],
   "source": [
    "#import donor info\n",
    "donor_df = pd.read_csv(\"/home/stephtsa/DonorInformation.csv\")"
   ]
  },
  {
   "cell_type": "code",
   "execution_count": 19,
   "metadata": {
    "colab": {
     "base_uri": "https://localhost:8080/"
    },
    "id": "iDoaoTqhDz-u",
    "outputId": "a65481e6-be64-41cd-9154-3215d9149602"
   },
   "outputs": [
    {
     "data": {
      "text/plain": [
       "(107, 19)"
      ]
     },
     "execution_count": 19,
     "metadata": {},
     "output_type": "execute_result"
    }
   ],
   "source": [
    "donor_df.shape"
   ]
  },
  {
   "cell_type": "code",
   "execution_count": 20,
   "metadata": {
    "colab": {
     "base_uri": "https://localhost:8080/",
     "height": 342
    },
    "id": "gg5LYjRYzpWw",
    "outputId": "2209dffe-6d52-438e-a8ee-3346417b4088"
   },
   "outputs": [
    {
     "data": {
      "text/html": [
       "<div>\n",
       "<style scoped>\n",
       "    .dataframe tbody tr th:only-of-type {\n",
       "        vertical-align: middle;\n",
       "    }\n",
       "\n",
       "    .dataframe tbody tr th {\n",
       "        vertical-align: top;\n",
       "    }\n",
       "\n",
       "    .dataframe thead th {\n",
       "        text-align: right;\n",
       "    }\n",
       "</style>\n",
       "<table border=\"1\" class=\"dataframe\">\n",
       "  <thead>\n",
       "    <tr style=\"text-align: right;\">\n",
       "      <th></th>\n",
       "      <th>donor_id</th>\n",
       "      <th>name</th>\n",
       "      <th>age</th>\n",
       "      <th>sex</th>\n",
       "      <th>apo_e4_allele</th>\n",
       "      <th>education_years</th>\n",
       "      <th>age_at_first_tbi</th>\n",
       "      <th>longest_loc_duration</th>\n",
       "      <th>cerad</th>\n",
       "      <th>num_tbi_w_loc</th>\n",
       "      <th>...</th>\n",
       "      <th>ever_tbi_w_loc</th>\n",
       "      <th>race</th>\n",
       "      <th>hispanic</th>\n",
       "      <th>act_demented</th>\n",
       "      <th>braak</th>\n",
       "      <th>nia_reagan</th>\n",
       "      <th>gender</th>\n",
       "      <th>dementia_binary</th>\n",
       "      <th>age2</th>\n",
       "      <th>race2</th>\n",
       "    </tr>\n",
       "  </thead>\n",
       "  <tbody>\n",
       "    <tr>\n",
       "      <th>0</th>\n",
       "      <td>326765665</td>\n",
       "      <td>H14.09.078</td>\n",
       "      <td>87</td>\n",
       "      <td>M</td>\n",
       "      <td>N</td>\n",
       "      <td>16</td>\n",
       "      <td>0</td>\n",
       "      <td>Unknown or N/A</td>\n",
       "      <td>0</td>\n",
       "      <td>0</td>\n",
       "      <td>...</td>\n",
       "      <td>N</td>\n",
       "      <td>White</td>\n",
       "      <td>Not Hispanic</td>\n",
       "      <td>No Dementia</td>\n",
       "      <td>1</td>\n",
       "      <td>1</td>\n",
       "      <td>0</td>\n",
       "      <td>0</td>\n",
       "      <td>87</td>\n",
       "      <td>1</td>\n",
       "    </tr>\n",
       "    <tr>\n",
       "      <th>1</th>\n",
       "      <td>326765656</td>\n",
       "      <td>H14.09.069</td>\n",
       "      <td>95-99</td>\n",
       "      <td>M</td>\n",
       "      <td>N</td>\n",
       "      <td>17</td>\n",
       "      <td>12</td>\n",
       "      <td>1-2 min</td>\n",
       "      <td>2</td>\n",
       "      <td>1</td>\n",
       "      <td>...</td>\n",
       "      <td>Y</td>\n",
       "      <td>White</td>\n",
       "      <td>Not Hispanic</td>\n",
       "      <td>No Dementia</td>\n",
       "      <td>5</td>\n",
       "      <td>2</td>\n",
       "      <td>0</td>\n",
       "      <td>0</td>\n",
       "      <td>95</td>\n",
       "      <td>1</td>\n",
       "    </tr>\n",
       "    <tr>\n",
       "      <th>2</th>\n",
       "      <td>326765654</td>\n",
       "      <td>H14.09.067</td>\n",
       "      <td>85</td>\n",
       "      <td>M</td>\n",
       "      <td>Y</td>\n",
       "      <td>10</td>\n",
       "      <td>72</td>\n",
       "      <td>&lt; 10 sec</td>\n",
       "      <td>3</td>\n",
       "      <td>1</td>\n",
       "      <td>...</td>\n",
       "      <td>Y</td>\n",
       "      <td>White</td>\n",
       "      <td>Not Hispanic</td>\n",
       "      <td>Dementia</td>\n",
       "      <td>4</td>\n",
       "      <td>2</td>\n",
       "      <td>0</td>\n",
       "      <td>1</td>\n",
       "      <td>85</td>\n",
       "      <td>1</td>\n",
       "    </tr>\n",
       "    <tr>\n",
       "      <th>3</th>\n",
       "      <td>467056391</td>\n",
       "      <td>H15.09.103</td>\n",
       "      <td>90-94</td>\n",
       "      <td>F</td>\n",
       "      <td>N</td>\n",
       "      <td>11</td>\n",
       "      <td>87</td>\n",
       "      <td>&lt; 10 sec</td>\n",
       "      <td>0</td>\n",
       "      <td>1</td>\n",
       "      <td>...</td>\n",
       "      <td>Y</td>\n",
       "      <td>White</td>\n",
       "      <td>Not Hispanic</td>\n",
       "      <td>No Dementia</td>\n",
       "      <td>4</td>\n",
       "      <td>0</td>\n",
       "      <td>1</td>\n",
       "      <td>0</td>\n",
       "      <td>90</td>\n",
       "      <td>1</td>\n",
       "    </tr>\n",
       "    <tr>\n",
       "      <th>4</th>\n",
       "      <td>309335447</td>\n",
       "      <td>H14.09.010</td>\n",
       "      <td>100+</td>\n",
       "      <td>M</td>\n",
       "      <td>Y</td>\n",
       "      <td>16</td>\n",
       "      <td>0</td>\n",
       "      <td>Unknown or N/A</td>\n",
       "      <td>3</td>\n",
       "      <td>0</td>\n",
       "      <td>...</td>\n",
       "      <td>N</td>\n",
       "      <td>White</td>\n",
       "      <td>Not Hispanic</td>\n",
       "      <td>Dementia</td>\n",
       "      <td>4</td>\n",
       "      <td>2</td>\n",
       "      <td>0</td>\n",
       "      <td>1</td>\n",
       "      <td>100</td>\n",
       "      <td>1</td>\n",
       "    </tr>\n",
       "  </tbody>\n",
       "</table>\n",
       "<p>5 rows × 23 columns</p>\n",
       "</div>"
      ],
      "text/plain": [
       "    donor_id        name    age sex apo_e4_allele  education_years  \\\n",
       "0  326765665  H14.09.078     87   M             N               16   \n",
       "1  326765656  H14.09.069  95-99   M             N               17   \n",
       "2  326765654  H14.09.067     85   M             Y               10   \n",
       "3  467056391  H15.09.103  90-94   F             N               11   \n",
       "4  309335447  H14.09.010   100+   M             Y               16   \n",
       "\n",
       "   age_at_first_tbi longest_loc_duration  cerad  num_tbi_w_loc  ...  \\\n",
       "0                 0       Unknown or N/A      0              0  ...   \n",
       "1                12              1-2 min      2              1  ...   \n",
       "2                72             < 10 sec      3              1  ...   \n",
       "3                87             < 10 sec      0              1  ...   \n",
       "4                 0       Unknown or N/A      3              0  ...   \n",
       "\n",
       "  ever_tbi_w_loc   race      hispanic act_demented braak nia_reagan gender  \\\n",
       "0              N  White  Not Hispanic  No Dementia     1          1      0   \n",
       "1              Y  White  Not Hispanic  No Dementia     5          2      0   \n",
       "2              Y  White  Not Hispanic     Dementia     4          2      0   \n",
       "3              Y  White  Not Hispanic  No Dementia     4          0      1   \n",
       "4              N  White  Not Hispanic     Dementia     4          2      0   \n",
       "\n",
       "   dementia_binary  age2  race2  \n",
       "0                0    87      1  \n",
       "1                0    95      1  \n",
       "2                1    85      1  \n",
       "3                0    90      1  \n",
       "4                1   100      1  \n",
       "\n",
       "[5 rows x 23 columns]"
      ]
     },
     "execution_count": 20,
     "metadata": {},
     "output_type": "execute_result"
    }
   ],
   "source": [
    "#convert categorical to numeric\n",
    "donor_df['gender'] = donor_df['sex'].map({'F': 1, 'M': 0})\n",
    "#convert dementia/no dementia to numeric\n",
    "donor_df['dementia_binary'] = donor_df['act_demented'].map({'Dementia': 1, 'No Dementia': 0})\n",
    "#convert age\n",
    "donor_df['age2'] = donor_df['age'].map({'87':87, '95-99':95, '85':85, '90-94':90, '100+':100, '89':89, '78':78, '83':83, '82':82, '77':77,\n",
    "       '81':81, '88':88, '84':84, '86':86, '79':79})\n",
    "#convert race binary\n",
    "donor_df['race2'] = donor_df['race'].map({'White': 1, 'Non-white': 0})\n",
    "donor_df.head()"
   ]
  },
  {
   "cell_type": "code",
   "execution_count": 21,
   "metadata": {
    "colab": {
     "base_uri": "https://localhost:8080/",
     "height": 261
    },
    "id": "CSlHdvW7zXmG",
    "outputId": "00d16c6a-25d0-415f-9888-7a5d47e30dfd"
   },
   "outputs": [
    {
     "data": {
      "text/html": [
       "<div>\n",
       "<style scoped>\n",
       "    .dataframe tbody tr th:only-of-type {\n",
       "        vertical-align: middle;\n",
       "    }\n",
       "\n",
       "    .dataframe tbody tr th {\n",
       "        vertical-align: top;\n",
       "    }\n",
       "\n",
       "    .dataframe thead th {\n",
       "        text-align: right;\n",
       "    }\n",
       "</style>\n",
       "<table border=\"1\" class=\"dataframe\">\n",
       "  <thead>\n",
       "    <tr style=\"text-align: right;\">\n",
       "      <th></th>\n",
       "      <th>donor_id</th>\n",
       "      <th>name</th>\n",
       "      <th>age</th>\n",
       "      <th>sex</th>\n",
       "      <th>apo_e4_allele</th>\n",
       "      <th>education_years</th>\n",
       "      <th>age_at_first_tbi</th>\n",
       "      <th>race</th>\n",
       "      <th>act_demented</th>\n",
       "      <th>braak</th>\n",
       "      <th>nia_reagan</th>\n",
       "      <th>gender</th>\n",
       "      <th>dementia_binary</th>\n",
       "      <th>age2</th>\n",
       "      <th>race2</th>\n",
       "    </tr>\n",
       "  </thead>\n",
       "  <tbody>\n",
       "    <tr>\n",
       "      <th>0</th>\n",
       "      <td>326765665</td>\n",
       "      <td>H14.09.078</td>\n",
       "      <td>87</td>\n",
       "      <td>M</td>\n",
       "      <td>N</td>\n",
       "      <td>16</td>\n",
       "      <td>0</td>\n",
       "      <td>White</td>\n",
       "      <td>No Dementia</td>\n",
       "      <td>1</td>\n",
       "      <td>1</td>\n",
       "      <td>0</td>\n",
       "      <td>0</td>\n",
       "      <td>87</td>\n",
       "      <td>1</td>\n",
       "    </tr>\n",
       "    <tr>\n",
       "      <th>1</th>\n",
       "      <td>326765656</td>\n",
       "      <td>H14.09.069</td>\n",
       "      <td>95-99</td>\n",
       "      <td>M</td>\n",
       "      <td>N</td>\n",
       "      <td>17</td>\n",
       "      <td>12</td>\n",
       "      <td>White</td>\n",
       "      <td>No Dementia</td>\n",
       "      <td>5</td>\n",
       "      <td>2</td>\n",
       "      <td>0</td>\n",
       "      <td>0</td>\n",
       "      <td>95</td>\n",
       "      <td>1</td>\n",
       "    </tr>\n",
       "    <tr>\n",
       "      <th>2</th>\n",
       "      <td>326765654</td>\n",
       "      <td>H14.09.067</td>\n",
       "      <td>85</td>\n",
       "      <td>M</td>\n",
       "      <td>Y</td>\n",
       "      <td>10</td>\n",
       "      <td>72</td>\n",
       "      <td>White</td>\n",
       "      <td>Dementia</td>\n",
       "      <td>4</td>\n",
       "      <td>2</td>\n",
       "      <td>0</td>\n",
       "      <td>1</td>\n",
       "      <td>85</td>\n",
       "      <td>1</td>\n",
       "    </tr>\n",
       "    <tr>\n",
       "      <th>3</th>\n",
       "      <td>467056391</td>\n",
       "      <td>H15.09.103</td>\n",
       "      <td>90-94</td>\n",
       "      <td>F</td>\n",
       "      <td>N</td>\n",
       "      <td>11</td>\n",
       "      <td>87</td>\n",
       "      <td>White</td>\n",
       "      <td>No Dementia</td>\n",
       "      <td>4</td>\n",
       "      <td>0</td>\n",
       "      <td>1</td>\n",
       "      <td>0</td>\n",
       "      <td>90</td>\n",
       "      <td>1</td>\n",
       "    </tr>\n",
       "    <tr>\n",
       "      <th>4</th>\n",
       "      <td>309335447</td>\n",
       "      <td>H14.09.010</td>\n",
       "      <td>100+</td>\n",
       "      <td>M</td>\n",
       "      <td>Y</td>\n",
       "      <td>16</td>\n",
       "      <td>0</td>\n",
       "      <td>White</td>\n",
       "      <td>Dementia</td>\n",
       "      <td>4</td>\n",
       "      <td>2</td>\n",
       "      <td>0</td>\n",
       "      <td>1</td>\n",
       "      <td>100</td>\n",
       "      <td>1</td>\n",
       "    </tr>\n",
       "  </tbody>\n",
       "</table>\n",
       "</div>"
      ],
      "text/plain": [
       "    donor_id        name    age sex apo_e4_allele  education_years  \\\n",
       "0  326765665  H14.09.078     87   M             N               16   \n",
       "1  326765656  H14.09.069  95-99   M             N               17   \n",
       "2  326765654  H14.09.067     85   M             Y               10   \n",
       "3  467056391  H15.09.103  90-94   F             N               11   \n",
       "4  309335447  H14.09.010   100+   M             Y               16   \n",
       "\n",
       "   age_at_first_tbi   race act_demented  braak  nia_reagan  gender  \\\n",
       "0                 0  White  No Dementia      1           1       0   \n",
       "1                12  White  No Dementia      5           2       0   \n",
       "2                72  White     Dementia      4           2       0   \n",
       "3                87  White  No Dementia      4           0       1   \n",
       "4                 0  White     Dementia      4           2       0   \n",
       "\n",
       "   dementia_binary  age2  race2  \n",
       "0                0    87      1  \n",
       "1                0    95      1  \n",
       "2                1    85      1  \n",
       "3                0    90      1  \n",
       "4                1   100      1  "
      ]
     },
     "execution_count": 21,
     "metadata": {},
     "output_type": "execute_result"
    }
   ],
   "source": [
    "#filter cols of interest\n",
    "donor_df.columns\n",
    "donor_subset = donor_df[['donor_id', 'name', 'age', 'sex', 'apo_e4_allele', 'education_years','age_at_first_tbi', 'race', 'act_demented', 'braak','nia_reagan', 'gender', 'dementia_binary', 'age2', 'race2']]\n",
    "donor_subset.head()\n",
    "\n"
   ]
  },
  {
   "cell_type": "markdown",
   "metadata": {
    "id": "RPu4f-77Az3g"
   },
   "source": [
    "# Visualization"
   ]
  },
  {
   "cell_type": "code",
   "execution_count": 22,
   "metadata": {},
   "outputs": [
    {
     "data": {
      "text/html": [
       "<div>\n",
       "<style scoped>\n",
       "    .dataframe tbody tr th:only-of-type {\n",
       "        vertical-align: middle;\n",
       "    }\n",
       "\n",
       "    .dataframe tbody tr th {\n",
       "        vertical-align: top;\n",
       "    }\n",
       "\n",
       "    .dataframe thead th {\n",
       "        text-align: right;\n",
       "    }\n",
       "</style>\n",
       "<table border=\"1\" class=\"dataframe\">\n",
       "  <thead>\n",
       "    <tr style=\"text-align: right;\">\n",
       "      <th></th>\n",
       "      <th>donor_id</th>\n",
       "      <th>name</th>\n",
       "      <th>age</th>\n",
       "      <th>sex</th>\n",
       "      <th>apo_e4_allele</th>\n",
       "      <th>education_years</th>\n",
       "      <th>age_at_first_tbi</th>\n",
       "      <th>longest_loc_duration</th>\n",
       "      <th>cerad</th>\n",
       "      <th>num_tbi_w_loc</th>\n",
       "      <th>...</th>\n",
       "      <th>ever_tbi_w_loc</th>\n",
       "      <th>race</th>\n",
       "      <th>hispanic</th>\n",
       "      <th>act_demented</th>\n",
       "      <th>braak</th>\n",
       "      <th>nia_reagan</th>\n",
       "      <th>gender</th>\n",
       "      <th>dementia_binary</th>\n",
       "      <th>age2</th>\n",
       "      <th>race2</th>\n",
       "    </tr>\n",
       "  </thead>\n",
       "  <tbody>\n",
       "    <tr>\n",
       "      <th>0</th>\n",
       "      <td>326765665</td>\n",
       "      <td>H14.09.078</td>\n",
       "      <td>87</td>\n",
       "      <td>M</td>\n",
       "      <td>N</td>\n",
       "      <td>16</td>\n",
       "      <td>0</td>\n",
       "      <td>Unknown or N/A</td>\n",
       "      <td>0</td>\n",
       "      <td>0</td>\n",
       "      <td>...</td>\n",
       "      <td>N</td>\n",
       "      <td>White</td>\n",
       "      <td>Not Hispanic</td>\n",
       "      <td>No Dementia</td>\n",
       "      <td>1</td>\n",
       "      <td>1</td>\n",
       "      <td>0</td>\n",
       "      <td>0</td>\n",
       "      <td>87</td>\n",
       "      <td>1</td>\n",
       "    </tr>\n",
       "    <tr>\n",
       "      <th>1</th>\n",
       "      <td>326765656</td>\n",
       "      <td>H14.09.069</td>\n",
       "      <td>95-99</td>\n",
       "      <td>M</td>\n",
       "      <td>N</td>\n",
       "      <td>17</td>\n",
       "      <td>12</td>\n",
       "      <td>1-2 min</td>\n",
       "      <td>2</td>\n",
       "      <td>1</td>\n",
       "      <td>...</td>\n",
       "      <td>Y</td>\n",
       "      <td>White</td>\n",
       "      <td>Not Hispanic</td>\n",
       "      <td>No Dementia</td>\n",
       "      <td>5</td>\n",
       "      <td>2</td>\n",
       "      <td>0</td>\n",
       "      <td>0</td>\n",
       "      <td>95</td>\n",
       "      <td>1</td>\n",
       "    </tr>\n",
       "    <tr>\n",
       "      <th>2</th>\n",
       "      <td>326765654</td>\n",
       "      <td>H14.09.067</td>\n",
       "      <td>85</td>\n",
       "      <td>M</td>\n",
       "      <td>Y</td>\n",
       "      <td>10</td>\n",
       "      <td>72</td>\n",
       "      <td>&lt; 10 sec</td>\n",
       "      <td>3</td>\n",
       "      <td>1</td>\n",
       "      <td>...</td>\n",
       "      <td>Y</td>\n",
       "      <td>White</td>\n",
       "      <td>Not Hispanic</td>\n",
       "      <td>Dementia</td>\n",
       "      <td>4</td>\n",
       "      <td>2</td>\n",
       "      <td>0</td>\n",
       "      <td>1</td>\n",
       "      <td>85</td>\n",
       "      <td>1</td>\n",
       "    </tr>\n",
       "    <tr>\n",
       "      <th>3</th>\n",
       "      <td>467056391</td>\n",
       "      <td>H15.09.103</td>\n",
       "      <td>90-94</td>\n",
       "      <td>F</td>\n",
       "      <td>N</td>\n",
       "      <td>11</td>\n",
       "      <td>87</td>\n",
       "      <td>&lt; 10 sec</td>\n",
       "      <td>0</td>\n",
       "      <td>1</td>\n",
       "      <td>...</td>\n",
       "      <td>Y</td>\n",
       "      <td>White</td>\n",
       "      <td>Not Hispanic</td>\n",
       "      <td>No Dementia</td>\n",
       "      <td>4</td>\n",
       "      <td>0</td>\n",
       "      <td>1</td>\n",
       "      <td>0</td>\n",
       "      <td>90</td>\n",
       "      <td>1</td>\n",
       "    </tr>\n",
       "    <tr>\n",
       "      <th>4</th>\n",
       "      <td>309335447</td>\n",
       "      <td>H14.09.010</td>\n",
       "      <td>100+</td>\n",
       "      <td>M</td>\n",
       "      <td>Y</td>\n",
       "      <td>16</td>\n",
       "      <td>0</td>\n",
       "      <td>Unknown or N/A</td>\n",
       "      <td>3</td>\n",
       "      <td>0</td>\n",
       "      <td>...</td>\n",
       "      <td>N</td>\n",
       "      <td>White</td>\n",
       "      <td>Not Hispanic</td>\n",
       "      <td>Dementia</td>\n",
       "      <td>4</td>\n",
       "      <td>2</td>\n",
       "      <td>0</td>\n",
       "      <td>1</td>\n",
       "      <td>100</td>\n",
       "      <td>1</td>\n",
       "    </tr>\n",
       "  </tbody>\n",
       "</table>\n",
       "<p>5 rows × 23 columns</p>\n",
       "</div>"
      ],
      "text/plain": [
       "    donor_id        name    age sex apo_e4_allele  education_years  \\\n",
       "0  326765665  H14.09.078     87   M             N               16   \n",
       "1  326765656  H14.09.069  95-99   M             N               17   \n",
       "2  326765654  H14.09.067     85   M             Y               10   \n",
       "3  467056391  H15.09.103  90-94   F             N               11   \n",
       "4  309335447  H14.09.010   100+   M             Y               16   \n",
       "\n",
       "   age_at_first_tbi longest_loc_duration  cerad  num_tbi_w_loc  ...  \\\n",
       "0                 0       Unknown or N/A      0              0  ...   \n",
       "1                12              1-2 min      2              1  ...   \n",
       "2                72             < 10 sec      3              1  ...   \n",
       "3                87             < 10 sec      0              1  ...   \n",
       "4                 0       Unknown or N/A      3              0  ...   \n",
       "\n",
       "  ever_tbi_w_loc   race      hispanic act_demented braak nia_reagan gender  \\\n",
       "0              N  White  Not Hispanic  No Dementia     1          1      0   \n",
       "1              Y  White  Not Hispanic  No Dementia     5          2      0   \n",
       "2              Y  White  Not Hispanic     Dementia     4          2      0   \n",
       "3              Y  White  Not Hispanic  No Dementia     4          0      1   \n",
       "4              N  White  Not Hispanic     Dementia     4          2      0   \n",
       "\n",
       "   dementia_binary  age2  race2  \n",
       "0                0    87      1  \n",
       "1                0    95      1  \n",
       "2                1    85      1  \n",
       "3                0    90      1  \n",
       "4                1   100      1  \n",
       "\n",
       "[5 rows x 23 columns]"
      ]
     },
     "execution_count": 22,
     "metadata": {},
     "output_type": "execute_result"
    }
   ],
   "source": [
    "donor_df.head()"
   ]
  },
  {
   "cell_type": "code",
   "execution_count": 44,
   "metadata": {},
   "outputs": [
    {
     "data": {
      "text/plain": [
       "Index(['donor_id', 'name', 'age', 'sex', 'apo_e4_allele', 'education_years',\n",
       "       'age_at_first_tbi', 'longest_loc_duration', 'cerad', 'num_tbi_w_loc',\n",
       "       'dsm_iv_clinical_diagnosis', 'control_set', 'nincds_arda_diagnosis',\n",
       "       'ever_tbi_w_loc', 'race', 'hispanic', 'act_demented', 'braak',\n",
       "       'nia_reagan', 'gender', 'dementia_binary', 'age2', 'race2'],\n",
       "      dtype='object')"
      ]
     },
     "execution_count": 44,
     "metadata": {},
     "output_type": "execute_result"
    }
   ],
   "source": [
    "donor_df.columns"
   ]
  },
  {
   "cell_type": "code",
   "execution_count": 49,
   "metadata": {},
   "outputs": [
    {
     "data": {
      "text/plain": [
       "<seaborn.axisgrid.FacetGrid at 0x14f08d8ccc40>"
      ]
     },
     "execution_count": 49,
     "metadata": {},
     "output_type": "execute_result"
    },
    {
     "data": {
      "image/png": "[encoded data removed]",
      "text/plain": [
       "<Figure size 764.625x360 with 2 Axes>"
      ]
     },
     "metadata": {
      "needs_background": "light"
     },
     "output_type": "display_data"
    }
   ],
   "source": [
    "#histogram by age\n",
    "\n",
    "sns.displot(data=donor_df, x=\"age2\", hue=\"sex\",multiple = \"stack\",binwidth=1, col=\"act_demented\")"
   ]
  },
  {
   "cell_type": "code",
   "execution_count": 51,
   "metadata": {},
   "outputs": [
    {
     "data": {
      "text/plain": [
       "<seaborn.axisgrid.FacetGrid at 0x14f08d832910>"
      ]
     },
     "execution_count": 51,
     "metadata": {},
     "output_type": "execute_result"
    },
    {
     "data": {
      "image/png": "[encoded data removed]",
      "text/plain": [
       "<Figure size 764.625x360 with 2 Axes>"
      ]
     },
     "metadata": {
      "needs_background": "light"
     },
     "output_type": "display_data"
    }
   ],
   "source": [
    "sns.displot(data=donor_df, x=\"education_years\", hue=\"sex\",multiple = \"stack\",binwidth=1, col=\"act_demented\")"
   ]
  },
  {
   "cell_type": "code",
   "execution_count": 55,
   "metadata": {},
   "outputs": [
    {
     "data": {
      "text/plain": [
       "<seaborn.axisgrid.FacetGrid at 0x14f08d335af0>"
      ]
     },
     "execution_count": 55,
     "metadata": {},
     "output_type": "execute_result"
    },
    {
     "data": {
      "image/png": "[encoded data removed]",
      "text/plain": [
       "<Figure size 810.125x360 with 2 Axes>"
      ]
     },
     "metadata": {
      "needs_background": "light"
     },
     "output_type": "display_data"
    }
   ],
   "source": [
    "sns.displot(data=donor_df, x=\"age2\", hue=\"education_years\",multiple = \"stack\",binwidth=1, col=\"sex\")"
   ]
  },
  {
   "cell_type": "code",
   "execution_count": 57,
   "metadata": {},
   "outputs": [
    {
     "data": {
      "text/plain": [
       "<seaborn.axisgrid.FacetGrid at 0x14f08cc5e4f0>"
      ]
     },
     "execution_count": 57,
     "metadata": {},
     "output_type": "execute_result"
    },
    {
     "data": {
      "image/png": "[encoded data removed]",
      "text/plain": [
       "<Figure size 806.875x360 with 2 Axes>"
      ]
     },
     "metadata": {
      "needs_background": "light"
     },
     "output_type": "display_data"
    }
   ],
   "source": [
    "sns.displot(data=donor_df, x=\"sex\", hue=\"race\",multiple = \"stack\",binwidth=1, col=\"act_demented\")"
   ]
  },
  {
   "cell_type": "code",
   "execution_count": 41,
   "metadata": {},
   "outputs": [
    {
     "data": {
      "text/plain": [
       "<seaborn.axisgrid.FacetGrid at 0x14f08f385c70>"
      ]
     },
     "execution_count": 41,
     "metadata": {},
     "output_type": "execute_result"
    },
    {
     "data": {
      "image/png": "[encoded data removed]",
      "text/plain": [
       "<Figure size 819.25x360 with 2 Axes>"
      ]
     },
     "metadata": {
      "needs_background": "light"
     },
     "output_type": "display_data"
    }
   ],
   "source": [
    "sns.displot(data=donor_df, x=\"age2\", hue=\"hispanic\",multiple = \"stack\",binwidth=1, col=\"sex\")"
   ]
  },
  {
   "cell_type": "code",
   "execution_count": 45,
   "metadata": {},
   "outputs": [
    {
     "data": {
      "text/plain": [
       "<seaborn.axisgrid.FacetGrid at 0x14f08e1a0340>"
      ]
     },
     "execution_count": 45,
     "metadata": {},
     "output_type": "execute_result"
    },
    {
     "data": {
      "image/png": "[encoded data removed]",
      "text/plain": [
       "<Figure size 800.875x360 with 2 Axes>"
      ]
     },
     "metadata": {
      "needs_background": "light"
     },
     "output_type": "display_data"
    }
   ],
   "source": [
    "sns.displot(data=donor_df, x=\"age2\", hue=\"num_tbi_w_loc\",multiple = \"stack\",binwidth=1, col=\"sex\")"
   ]
  },
  {
   "cell_type": "code",
   "execution_count": 47,
   "metadata": {},
   "outputs": [
    {
     "data": {
      "text/plain": [
       "<seaborn.axisgrid.FacetGrid at 0x14f08e5d99d0>"
      ]
     },
     "execution_count": 47,
     "metadata": {},
     "output_type": "execute_result"
    },
    {
     "data": {
      "image/png": "[encoded data removed]",
      "text/plain": [
       "<Figure size 800.875x360 with 2 Axes>"
      ]
     },
     "metadata": {
      "needs_background": "light"
     },
     "output_type": "display_data"
    }
   ],
   "source": [
    "sns.displot(data=donor_df, x=\"age2\", hue=\"num_tbi_w_loc\",multiple = \"stack\",binwidth=1, col=\"act_demented\")"
   ]
  },
  {
   "cell_type": "code",
   "execution_count": null,
   "metadata": {},
   "outputs": [],
   "source": []
  }
 ],
 "metadata": {
  "colab": {
   "provenance": []
  },
  "kernelspec": {
   "display_name": "Python 3 (ipykernel)",
   "language": "python",
   "name": "python3"
  },
  "language_info": {
   "codemirror_mode": {
    "name": "ipython",
    "version": 3
   },
   "file_extension": ".py",
   "mimetype": "text/x-python",
   "name": "python",
   "nbconvert_exporter": "python",
   "pygments_lexer": "ipython3",
   "version": "3.9.7"
  }
 },
 "nbformat": 4,
 "nbformat_minor": 1
}
