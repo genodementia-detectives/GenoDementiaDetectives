{
 "cells": [
  {
   "cell_type": "code",
   "execution_count": 1,
   "id": "1bd9abbf-7a65-43a6-803e-4c0ecee1fddb",
   "metadata": {},
   "outputs": [],
   "source": [
    "import pandas as pd\n",
    "import numpy as np\n",
    "import pyarrow.parquet as pq\n",
    "import os\n",
    "\n",
    "from sklearn.model_selection import train_test_split\n",
    "from sklearn.preprocessing import StandardScaler\n",
    "from sklearn.linear_model import LogisticRegression\n",
    "from sklearn.svm import SVC\n",
    "from sklearn.dummy import DummyClassifier\n",
    "from sklearn.tree import DecisionTreeClassifier\n",
    "from sklearn.metrics import accuracy_score, classification_report\n",
    "from sklearn.feature_selection import RFE\n",
    "from sklearn.model_selection import cross_val_score\n",
    "\n",
    "from sklearn.metrics import confusion_matrix\n",
    "\n",
    "import seaborn as sns\n",
    "import matplotlib.pyplot as plt"
   ]
  },
  {
   "cell_type": "markdown",
   "id": "323b5db0-fd09-4d4b-95a5-340e02e05211",
   "metadata": {},
   "source": [
    "# Import Data"
   ]
  },
  {
   "cell_type": "code",
   "execution_count": 2,
   "id": "f84fd3fc-0886-48cd-a33e-9c0664ab42de",
   "metadata": {},
   "outputs": [],
   "source": [
    "table = pq.read_table('../data/processed/merged_df.parquet')"
   ]
  },
  {
   "cell_type": "code",
   "execution_count": 3,
   "id": "89c304d9-9800-4357-9876-743dd2350dcc",
   "metadata": {},
   "outputs": [],
   "source": [
    "merged_df = table.to_pandas()"
   ]
  },
  {
   "cell_type": "code",
   "execution_count": 4,
   "id": "a1755e15-b05a-4440-a4f5-65675d54b87c",
   "metadata": {},
   "outputs": [],
   "source": [
    "del table"
   ]
  },
  {
   "cell_type": "code",
   "execution_count": 5,
   "id": "f2476ba4-46cf-479d-a72a-cbc193745201",
   "metadata": {},
   "outputs": [
    {
     "data": {
      "text/html": [
       "<div>\n",
       "<style scoped>\n",
       "    .dataframe tbody tr th:only-of-type {\n",
       "        vertical-align: middle;\n",
       "    }\n",
       "\n",
       "    .dataframe tbody tr th {\n",
       "        vertical-align: top;\n",
       "    }\n",
       "\n",
       "    .dataframe thead th {\n",
       "        text-align: right;\n",
       "    }\n",
       "</style>\n",
       "<table border=\"1\" class=\"dataframe\">\n",
       "  <thead>\n",
       "    <tr style=\"text-align: right;\">\n",
       "      <th></th>\n",
       "      <th>499304660</th>\n",
       "      <th>499304661</th>\n",
       "      <th>499304662</th>\n",
       "      <th>499304663</th>\n",
       "      <th>499304664</th>\n",
       "      <th>499304665</th>\n",
       "      <th>499304666</th>\n",
       "      <th>499304667</th>\n",
       "      <th>499304668</th>\n",
       "      <th>499304669</th>\n",
       "      <th>...</th>\n",
       "      <th>num_tbi_w_loc</th>\n",
       "      <th>dsm_iv_clinical_diagnosis</th>\n",
       "      <th>control_set</th>\n",
       "      <th>nincds_arda_diagnosis</th>\n",
       "      <th>ever_tbi_w_loc</th>\n",
       "      <th>race</th>\n",
       "      <th>hispanic</th>\n",
       "      <th>act_demented</th>\n",
       "      <th>braak</th>\n",
       "      <th>nia_reagan</th>\n",
       "    </tr>\n",
       "    <tr>\n",
       "      <th>rnaseq_profile_id</th>\n",
       "      <th></th>\n",
       "      <th></th>\n",
       "      <th></th>\n",
       "      <th></th>\n",
       "      <th></th>\n",
       "      <th></th>\n",
       "      <th></th>\n",
       "      <th></th>\n",
       "      <th></th>\n",
       "      <th></th>\n",
       "      <th></th>\n",
       "      <th></th>\n",
       "      <th></th>\n",
       "      <th></th>\n",
       "      <th></th>\n",
       "      <th></th>\n",
       "      <th></th>\n",
       "      <th></th>\n",
       "      <th></th>\n",
       "      <th></th>\n",
       "      <th></th>\n",
       "    </tr>\n",
       "  </thead>\n",
       "  <tbody>\n",
       "    <tr>\n",
       "      <th>488395315</th>\n",
       "      <td>0.655725</td>\n",
       "      <td>4.526404</td>\n",
       "      <td>0.0</td>\n",
       "      <td>0.0</td>\n",
       "      <td>0.039654</td>\n",
       "      <td>0.0</td>\n",
       "      <td>0.0</td>\n",
       "      <td>0.0</td>\n",
       "      <td>0.0</td>\n",
       "      <td>0.317608</td>\n",
       "      <td>...</td>\n",
       "      <td>0</td>\n",
       "      <td>No Dementia</td>\n",
       "      <td>3</td>\n",
       "      <td>No Dementia</td>\n",
       "      <td>N</td>\n",
       "      <td>White</td>\n",
       "      <td>Not Hispanic</td>\n",
       "      <td>No Dementia</td>\n",
       "      <td>3</td>\n",
       "      <td>2</td>\n",
       "    </tr>\n",
       "    <tr>\n",
       "      <th>496100277</th>\n",
       "      <td>0.095143</td>\n",
       "      <td>8.855850</td>\n",
       "      <td>0.0</td>\n",
       "      <td>0.0</td>\n",
       "      <td>0.016492</td>\n",
       "      <td>0.0</td>\n",
       "      <td>0.0</td>\n",
       "      <td>0.0</td>\n",
       "      <td>0.0</td>\n",
       "      <td>0.955393</td>\n",
       "      <td>...</td>\n",
       "      <td>0</td>\n",
       "      <td>No Dementia</td>\n",
       "      <td>14</td>\n",
       "      <td>No Dementia</td>\n",
       "      <td>N</td>\n",
       "      <td>White</td>\n",
       "      <td>Not Hispanic</td>\n",
       "      <td>No Dementia</td>\n",
       "      <td>3</td>\n",
       "      <td>1</td>\n",
       "    </tr>\n",
       "    <tr>\n",
       "      <th>496100278</th>\n",
       "      <td>0.000000</td>\n",
       "      <td>4.868456</td>\n",
       "      <td>0.0</td>\n",
       "      <td>0.0</td>\n",
       "      <td>0.000000</td>\n",
       "      <td>0.0</td>\n",
       "      <td>0.0</td>\n",
       "      <td>0.0</td>\n",
       "      <td>0.0</td>\n",
       "      <td>1.361740</td>\n",
       "      <td>...</td>\n",
       "      <td>2</td>\n",
       "      <td>No Dementia</td>\n",
       "      <td>2</td>\n",
       "      <td>No Dementia</td>\n",
       "      <td>Y</td>\n",
       "      <td>White</td>\n",
       "      <td>Not Hispanic</td>\n",
       "      <td>No Dementia</td>\n",
       "      <td>6</td>\n",
       "      <td>2</td>\n",
       "    </tr>\n",
       "    <tr>\n",
       "      <th>496100279</th>\n",
       "      <td>0.000000</td>\n",
       "      <td>4.851842</td>\n",
       "      <td>0.0</td>\n",
       "      <td>0.0</td>\n",
       "      <td>0.170431</td>\n",
       "      <td>0.0</td>\n",
       "      <td>0.0</td>\n",
       "      <td>0.0</td>\n",
       "      <td>0.0</td>\n",
       "      <td>1.357990</td>\n",
       "      <td>...</td>\n",
       "      <td>2</td>\n",
       "      <td>No Dementia</td>\n",
       "      <td>2</td>\n",
       "      <td>No Dementia</td>\n",
       "      <td>Y</td>\n",
       "      <td>White</td>\n",
       "      <td>Not Hispanic</td>\n",
       "      <td>No Dementia</td>\n",
       "      <td>6</td>\n",
       "      <td>2</td>\n",
       "    </tr>\n",
       "    <tr>\n",
       "      <th>496100281</th>\n",
       "      <td>0.000000</td>\n",
       "      <td>3.600344</td>\n",
       "      <td>0.0</td>\n",
       "      <td>0.0</td>\n",
       "      <td>0.000000</td>\n",
       "      <td>0.0</td>\n",
       "      <td>0.0</td>\n",
       "      <td>0.0</td>\n",
       "      <td>0.0</td>\n",
       "      <td>1.005507</td>\n",
       "      <td>...</td>\n",
       "      <td>0</td>\n",
       "      <td>Alzheimer's Disease Type</td>\n",
       "      <td>2</td>\n",
       "      <td>Probable Alzheimer'S Disease</td>\n",
       "      <td>N</td>\n",
       "      <td>White</td>\n",
       "      <td>Not Hispanic</td>\n",
       "      <td>Dementia</td>\n",
       "      <td>1</td>\n",
       "      <td>1</td>\n",
       "    </tr>\n",
       "  </tbody>\n",
       "</table>\n",
       "<p>5 rows × 50310 columns</p>\n",
       "</div>"
      ],
      "text/plain": [
       "                   499304660  499304661  499304662  499304663  499304664  \\\n",
       "rnaseq_profile_id                                                          \n",
       "488395315           0.655725   4.526404        0.0        0.0   0.039654   \n",
       "496100277           0.095143   8.855850        0.0        0.0   0.016492   \n",
       "496100278           0.000000   4.868456        0.0        0.0   0.000000   \n",
       "496100279           0.000000   4.851842        0.0        0.0   0.170431   \n",
       "496100281           0.000000   3.600344        0.0        0.0   0.000000   \n",
       "\n",
       "                   499304665  499304666  499304667  499304668  499304669  ...  \\\n",
       "rnaseq_profile_id                                                         ...   \n",
       "488395315                0.0        0.0        0.0        0.0   0.317608  ...   \n",
       "496100277                0.0        0.0        0.0        0.0   0.955393  ...   \n",
       "496100278                0.0        0.0        0.0        0.0   1.361740  ...   \n",
       "496100279                0.0        0.0        0.0        0.0   1.357990  ...   \n",
       "496100281                0.0        0.0        0.0        0.0   1.005507  ...   \n",
       "\n",
       "                   num_tbi_w_loc  dsm_iv_clinical_diagnosis  control_set  \\\n",
       "rnaseq_profile_id                                                          \n",
       "488395315                      0                No Dementia            3   \n",
       "496100277                      0                No Dementia           14   \n",
       "496100278                      2                No Dementia            2   \n",
       "496100279                      2                No Dementia            2   \n",
       "496100281                      0   Alzheimer's Disease Type            2   \n",
       "\n",
       "                          nincds_arda_diagnosis  ever_tbi_w_loc   race  \\\n",
       "rnaseq_profile_id                                                        \n",
       "488395315                           No Dementia               N  White   \n",
       "496100277                           No Dementia               N  White   \n",
       "496100278                           No Dementia               Y  White   \n",
       "496100279                           No Dementia               Y  White   \n",
       "496100281          Probable Alzheimer'S Disease               N  White   \n",
       "\n",
       "                       hispanic  act_demented  braak  nia_reagan  \n",
       "rnaseq_profile_id                                                 \n",
       "488395315          Not Hispanic   No Dementia      3           2  \n",
       "496100277          Not Hispanic   No Dementia      3           1  \n",
       "496100278          Not Hispanic   No Dementia      6           2  \n",
       "496100279          Not Hispanic   No Dementia      6           2  \n",
       "496100281          Not Hispanic      Dementia      1           1  \n",
       "\n",
       "[5 rows x 50310 columns]"
      ]
     },
     "execution_count": 5,
     "metadata": {},
     "output_type": "execute_result"
    }
   ],
   "source": [
    "merged_df.head()"
   ]
  },
  {
   "cell_type": "markdown",
   "id": "92159669-3d67-49d4-b809-209e1018e5ba",
   "metadata": {},
   "source": [
    "# Split Data"
   ]
  },
  {
   "cell_type": "code",
   "execution_count": 6,
   "id": "d11bce33-a533-4d32-9f74-7a59f16998ac",
   "metadata": {},
   "outputs": [],
   "source": [
    "# assign X and y\n",
    "X = merged_df.iloc[:,:50281]\n",
    "y = merged_df['act_demented']"
   ]
  },
  {
   "cell_type": "code",
   "execution_count": 7,
   "id": "76e4e42c-2f8a-4b5a-b998-1397c37d2758",
   "metadata": {},
   "outputs": [],
   "source": [
    "# for this model we are training only whit the hippocampus data\n",
    "X_train, X_test, y_train, y_test = train_test_split(X, y, test_size=0.2, random_state=42)"
   ]
  },
  {
   "cell_type": "code",
   "execution_count": 8,
   "id": "3c62fb98-1815-48ee-a169-cfb71c5c40aa",
   "metadata": {},
   "outputs": [
    {
     "name": "stderr",
     "output_type": "stream",
     "text": [
      "/sw/pkgs/arc/python3.9-anaconda/2021.11/lib/python3.9/site-packages/sklearn/utils/validation.py:571: FutureWarning: is_sparse is deprecated and will be removed in a future version. Check `isinstance(dtype, pd.SparseDtype)` instead.\n",
      "  array.dtypes.apply(is_sparse).any()):\n",
      "/sw/pkgs/arc/python3.9-anaconda/2021.11/lib/python3.9/site-packages/sklearn/utils/validation.py:571: FutureWarning: is_sparse is deprecated and will be removed in a future version. Check `isinstance(dtype, pd.SparseDtype)` instead.\n",
      "  array.dtypes.apply(is_sparse).any()):\n",
      "/sw/pkgs/arc/python3.9-anaconda/2021.11/lib/python3.9/site-packages/sklearn/utils/validation.py:571: FutureWarning: is_sparse is deprecated and will be removed in a future version. Check `isinstance(dtype, pd.SparseDtype)` instead.\n",
      "  array.dtypes.apply(is_sparse).any()):\n"
     ]
    }
   ],
   "source": [
    "# Standardize the data\n",
    "scaler = StandardScaler()\n",
    "\n",
    "# standarize training and test set\n",
    "X_train = scaler.fit_transform(X_train)\n",
    "X_test = scaler.transform(X_test)"
   ]
  },
  {
   "cell_type": "markdown",
   "id": "6f0d132d-492b-4dba-aed9-88cd122aa226",
   "metadata": {},
   "source": [
    "### Dumy Model"
   ]
  },
  {
   "cell_type": "code",
   "execution_count": 9,
   "id": "16a8344b-c47a-49c8-8af4-22bd1bb4fe1c",
   "metadata": {},
   "outputs": [
    {
     "name": "stdout",
     "output_type": "stream",
     "text": [
      "Dummy random score: 0.39\n",
      "                    Predicted Dementia  Predicted No Dementia\n",
      "Actual Dementia                     12                     23\n",
      "Actual No Dementia                  23                     18\n",
      "Classification Report:\n",
      "              precision    recall  f1-score   support\n",
      "\n",
      "    Dementia       0.34      0.34      0.34        35\n",
      " No Dementia       0.44      0.44      0.44        41\n",
      "\n",
      "    accuracy                           0.39        76\n",
      "   macro avg       0.39      0.39      0.39        76\n",
      "weighted avg       0.39      0.39      0.39        76\n",
      "\n"
     ]
    },
    {
     "data": {
      "image/png": "[encoded data removed]",
      "text/plain": [
       "<Figure size 432x288 with 1 Axes>"
      ]
     },
     "metadata": {
      "needs_background": "light"
     },
     "output_type": "display_data"
    }
   ],
   "source": [
    "# Create and train a dummy model\n",
    "dummy_model = DummyClassifier(random_state=42, strategy = 'stratified')\n",
    "dummy_model.fit(X_train, y_train)\n",
    "pred_dummy = dummy_model.predict(X_test)\n",
    "dummy_score = dummy_model.score(X_test, y_test)\n",
    "print(\"Dummy random score: {:.2f}\".format(dummy_score))\n",
    "\n",
    "\n",
    "conf_matrix = confusion_matrix(y_test, pred_dummy)\n",
    "conf_df = pd.DataFrame(conf_matrix, index=['Actual Dementia', 'Actual No Dementia'],\n",
    "                       columns=['Predicted Dementia', 'Predicted No Dementia'])\n",
    "print(conf_df)\n",
    "\n",
    "# Print a classification report\n",
    "print(\"Classification Report:\")\n",
    "print(classification_report(y_test, pred_dummy))\n",
    "\n",
    "plt.figure(figsize=(6, 4))\n",
    "sns.heatmap(conf_df, annot=True, fmt=\"d\", cmap=\"Blues\", cbar=False)\n",
    "plt.title(\"Confusion Matrix\")\n",
    "plt.show()"
   ]
  },
  {
   "cell_type": "code",
   "execution_count": null,
   "id": "5f68e7ef-8f62-487b-a8cc-a0b8532cd323",
   "metadata": {},
   "outputs": [],
   "source": []
  },
  {
   "cell_type": "markdown",
   "id": "9e67310d-ed47-4873-ad05-2227a1c95d0c",
   "metadata": {},
   "source": [
    "### Most Frequent"
   ]
  },
  {
   "cell_type": "code",
   "execution_count": 10,
   "id": "72fe9b33-7179-45f1-a0c7-03b8be340e9c",
   "metadata": {},
   "outputs": [
    {
     "name": "stdout",
     "output_type": "stream",
     "text": [
      "Dummy most frequentscore: 0.54\n",
      "                    Predicted Dementia  Predicted No Dementia\n",
      "Actual Dementia                      0                     35\n",
      "Actual No Dementia                   0                     41\n",
      "Classification Report:\n",
      "              precision    recall  f1-score   support\n",
      "\n",
      "    Dementia       0.00      0.00      0.00        35\n",
      " No Dementia       0.54      1.00      0.70        41\n",
      "\n",
      "    accuracy                           0.54        76\n",
      "   macro avg       0.27      0.50      0.35        76\n",
      "weighted avg       0.29      0.54      0.38        76\n",
      "\n"
     ]
    },
    {
     "name": "stderr",
     "output_type": "stream",
     "text": [
      "/sw/pkgs/arc/python3.9-anaconda/2021.11/lib/python3.9/site-packages/sklearn/metrics/_classification.py:1248: UndefinedMetricWarning: Precision and F-score are ill-defined and being set to 0.0 in labels with no predicted samples. Use `zero_division` parameter to control this behavior.\n",
      "  _warn_prf(average, modifier, msg_start, len(result))\n",
      "/sw/pkgs/arc/python3.9-anaconda/2021.11/lib/python3.9/site-packages/sklearn/metrics/_classification.py:1248: UndefinedMetricWarning: Precision and F-score are ill-defined and being set to 0.0 in labels with no predicted samples. Use `zero_division` parameter to control this behavior.\n",
      "  _warn_prf(average, modifier, msg_start, len(result))\n",
      "/sw/pkgs/arc/python3.9-anaconda/2021.11/lib/python3.9/site-packages/sklearn/metrics/_classification.py:1248: UndefinedMetricWarning: Precision and F-score are ill-defined and being set to 0.0 in labels with no predicted samples. Use `zero_division` parameter to control this behavior.\n",
      "  _warn_prf(average, modifier, msg_start, len(result))\n"
     ]
    },
    {
     "data": {
      "image/png": "[encoded data removed]",
      "text/plain": [
       "<Figure size 432x288 with 1 Axes>"
      ]
     },
     "metadata": {
      "needs_background": "light"
     },
     "output_type": "display_data"
    }
   ],
   "source": [
    "dummy_majority_model = DummyClassifier(random_state=42, strategy = 'most_frequent')\n",
    "dummy_majority_model.fit(X_train, y_train)\n",
    "pred_most_frequent = dummy_majority_model.predict(X_test)\n",
    "most_frequent_score = dummy_majority_model.score(X_test, y_test)\n",
    "print(\"Dummy most frequentscore: {:.2f}\".format(most_frequent_score))\n",
    "\n",
    "conf_matrix = confusion_matrix(y_test, pred_most_frequent)\n",
    "conf_df = pd.DataFrame(conf_matrix, index=['Actual Dementia', 'Actual No Dementia'],\n",
    "                       columns=['Predicted Dementia', 'Predicted No Dementia'])\n",
    "\n",
    "print(conf_df)\n",
    "\n",
    "# Print a classification report\n",
    "print(\"Classification Report:\")\n",
    "print(classification_report(y_test, pred_most_frequent))\n",
    "\n",
    "plt.figure(figsize=(6, 4))\n",
    "sns.heatmap(conf_df, annot=True, fmt=\"d\", cmap=\"Blues\", cbar=False)\n",
    "plt.title(\"Confusion Matrix\")\n",
    "plt.show()"
   ]
  },
  {
   "cell_type": "code",
   "execution_count": null,
   "id": "2cccef54-2f73-4906-ae1f-10a4e5d37287",
   "metadata": {},
   "outputs": [],
   "source": []
  },
  {
   "cell_type": "markdown",
   "id": "faa51800-f95e-4cc6-9802-af5bc60049df",
   "metadata": {
    "tags": []
   },
   "source": [
    "### Logistic Regression Model"
   ]
  },
  {
   "cell_type": "code",
   "execution_count": 11,
   "id": "a1b0df63-bdfb-4cd0-9247-aa44a240fb47",
   "metadata": {},
   "outputs": [
    {
     "name": "stdout",
     "output_type": "stream",
     "text": [
      "Logistic regression: 0.79\n",
      "                    Predicted Dementia  Predicted No Dementia\n",
      "Actual Dementia                     24                     11\n",
      "Actual No Dementia                   5                     36\n",
      "Classification Report:\n",
      "              precision    recall  f1-score   support\n",
      "\n",
      "    Dementia       0.83      0.69      0.75        35\n",
      " No Dementia       0.77      0.88      0.82        41\n",
      "\n",
      "    accuracy                           0.79        76\n",
      "   macro avg       0.80      0.78      0.78        76\n",
      "weighted avg       0.79      0.79      0.79        76\n",
      "\n"
     ]
    },
    {
     "data": {
      "image/png": "[encoded data removed]",
      "text/plain": [
       "<Figure size 432x288 with 1 Axes>"
      ]
     },
     "metadata": {
      "needs_background": "light"
     },
     "output_type": "display_data"
    }
   ],
   "source": [
    "# Create and train the logistic regression model\n",
    "logreg_model = LogisticRegression(random_state=42)\n",
    "logreg_model.fit(X_train, y_train)\n",
    "pred_logreg = logreg_model.predict(X_test)\n",
    "logreg_score = logreg_model.score(X_test, y_test)\n",
    "print(\"Logistic regression: {:.2f}\".format(logreg_score))\n",
    "\n",
    "conf_matrix = confusion_matrix(y_test, pred_logreg)\n",
    "conf_df = pd.DataFrame(conf_matrix, index=['Actual Dementia', 'Actual No Dementia'],\n",
    "                       columns=['Predicted Dementia', 'Predicted No Dementia'])\n",
    "\n",
    "print(conf_df)\n",
    "\n",
    "# Print a classification report\n",
    "print(\"Classification Report:\")\n",
    "print(classification_report(y_test, pred_logreg))\n",
    "\n",
    "plt.figure(figsize=(6, 4))\n",
    "sns.heatmap(conf_df, annot=True, fmt=\"d\", cmap=\"Blues\", cbar=False)\n",
    "plt.title(\"Confusion Matrix\")\n",
    "plt.show()"
   ]
  },
  {
   "cell_type": "markdown",
   "id": "7ee69c54-d132-4913-9c9f-fac0f012de51",
   "metadata": {},
   "source": [
    "### Support Vector Machines (SVM)"
   ]
  },
  {
   "cell_type": "code",
   "execution_count": 12,
   "id": "18913bc4-ebdd-4ee4-b82f-ba35c78a7ba2",
   "metadata": {},
   "outputs": [
    {
     "name": "stdout",
     "output_type": "stream",
     "text": [
      "SVM: 0.79\n",
      "                    Predicted Dementia  Predicted No Dementia\n",
      "Actual Dementia                     24                     11\n",
      "Actual No Dementia                   5                     36\n",
      "Classification Report:\n",
      "              precision    recall  f1-score   support\n",
      "\n",
      "    Dementia       0.83      0.69      0.75        35\n",
      " No Dementia       0.77      0.88      0.82        41\n",
      "\n",
      "    accuracy                           0.79        76\n",
      "   macro avg       0.80      0.78      0.78        76\n",
      "weighted avg       0.79      0.79      0.79        76\n",
      "\n"
     ]
    },
    {
     "data": {
      "image/png": "[encoded data removed]",
      "text/plain": [
       "<Figure size 432x288 with 1 Axes>"
      ]
     },
     "metadata": {
      "needs_background": "light"
     },
     "output_type": "display_data"
    }
   ],
   "source": [
    "# Create and train the SVM model\n",
    "svm_model = SVC(kernel='linear', random_state=42)\n",
    "svm_model.fit(X_train, y_train)\n",
    "pred_svm = svm_model.predict(X_test)\n",
    "svm_score = svm_model.score(X_test, y_test)\n",
    "print(\"SVM: {:.2f}\".format(svm_score))\n",
    "\n",
    "# Confusion matrix\n",
    "conf_matrix_svm = confusion_matrix(y_test, pred_svm)\n",
    "conf_df_svm = pd.DataFrame(conf_matrix_svm, index=['Actual Dementia', 'Actual No Dementia'],\n",
    "                            columns=['Predicted Dementia', 'Predicted No Dementia'])\n",
    "\n",
    "print(conf_df_svm)\n",
    "\n",
    "# Classification report\n",
    "print(\"Classification Report:\")\n",
    "print(classification_report(y_test, pred_svm))\n",
    "\n",
    "# Plot the confusion matrix\n",
    "plt.figure(figsize=(6, 4))\n",
    "sns.heatmap(conf_df_svm, annot=True, fmt=\"d\", cmap=\"Blues\", cbar=False)\n",
    "plt.title(\"SVM Confusion Matrix\")\n",
    "plt.show()"
   ]
  },
  {
   "cell_type": "markdown",
   "id": "5170e9f6-120f-4d0c-949a-dd61bdb7a0d3",
   "metadata": {},
   "source": [
    "### Decision Tree"
   ]
  },
  {
   "cell_type": "code",
   "execution_count": 13,
   "id": "5d11aae4-c896-4a2b-a51b-830f676be1ec",
   "metadata": {},
   "outputs": [
    {
     "name": "stdout",
     "output_type": "stream",
     "text": [
      "Decision tree: 0.64\n",
      "                    Predicted Dementia  Predicted No Dementia\n",
      "Actual Dementia                     19                     16\n",
      "Actual No Dementia                  11                     30\n",
      "Classification Report:\n",
      "              precision    recall  f1-score   support\n",
      "\n",
      "    Dementia       0.63      0.54      0.58        35\n",
      " No Dementia       0.65      0.73      0.69        41\n",
      "\n",
      "    accuracy                           0.64        76\n",
      "   macro avg       0.64      0.64      0.64        76\n",
      "weighted avg       0.64      0.64      0.64        76\n",
      "\n"
     ]
    },
    {
     "data": {
      "image/png": "[encoded data removed]",
      "text/plain": [
       "<Figure size 432x288 with 1 Axes>"
      ]
     },
     "metadata": {
      "needs_background": "light"
     },
     "output_type": "display_data"
    }
   ],
   "source": [
    "tree_model = DecisionTreeClassifier(random_state=42)\n",
    "tree_model.fit(X_train, y_train)\n",
    "pred_tree = tree_model.predict(X_test)\n",
    "tree_score = tree_model.score(X_test, y_test)\n",
    "print(\"Decision tree: {:.2f}\".format(tree_score))\n",
    "\n",
    "conf_matrix = confusion_matrix(y_test, pred_tree)\n",
    "conf_df = pd.DataFrame(conf_matrix, index=['Actual Dementia', 'Actual No Dementia'],\n",
    "                       columns=['Predicted Dementia', 'Predicted No Dementia'])\n",
    "print(conf_df)\n",
    "\n",
    "# Print a classification report\n",
    "print(\"Classification Report:\")\n",
    "print(classification_report(y_test, pred_tree))\n",
    "\n",
    "plt.figure(figsize=(6, 4))\n",
    "sns.heatmap(conf_df, annot=True, fmt=\"d\", cmap=\"Blues\", cbar=False)\n",
    "plt.title(\"Confusion Matrix\")\n",
    "plt.show()"
   ]
  },
  {
   "cell_type": "code",
   "execution_count": null,
   "id": "e18526ab-7107-4eb4-8ae2-4012b330569b",
   "metadata": {},
   "outputs": [],
   "source": []
  },
  {
   "cell_type": "markdown",
   "id": "7ca5e798-7af2-46f8-8f13-b3994ec2b52b",
   "metadata": {},
   "source": [
    "### Discussion"
   ]
  },
  {
   "cell_type": "markdown",
   "id": "a5e2d7d0-9123-47cc-870e-ffcea193d190",
   "metadata": {},
   "source": [
    "In order to compare and evaluate models performace we first created two separet models to serve as a basline form comparisons. The first model randomly predicts classes based on the dirstributiom of the target variable. The second model that always predicts the majority class. We them proceded to create two additianl advanced models a logistic regresion model and a decision tree model.\n",
    "\n",
    "__Dummy Model with Random Predictions:__\n",
    "\n",
    "Accuracy: 39%\n",
    "The model's random predictions resulted in poor performance, as indicated by the low accuracy.\n",
    "The precision, recall, and F1-score for both classes (Dementia and No Dementia) are relatively balanced, but all metrics are low.\n",
    "This dummy model serves as a baseline, and any advanced model should outperform it significantly.\n",
    "\n",
    "__Dummy Model with Majority Predictions:__\n",
    "\n",
    "Accuracy: 54%\n",
    "The model achieved better accuracy than the random dummy model by always predicting the majority class (No Dementia).\n",
    "However, the precision, recall, and F1-score for the minority class (Dementia) are zero, indicating that the model failed to identify cases of dementia.\n",
    "This model highlights the importance of considering class imbalances and choosing appropriate evaluation metrics.  \n",
    "\n",
    "__Logistic Regression:__\n",
    "\n",
    "Accuracy: 83%\n",
    "Logistic regression demonstrated superior performance compared to both dummy models.\n",
    "The model achieved high precision, recall, and F1-score for both classes, indicating a good balance between correctly identifying positive and negative cases.\n",
    "The high accuracy suggests that logistic regression effectively captured the underlying patterns in the data, making it a strong candidate for the chosen task.  \n",
    "\n",
    "__Decision Tree:__\n",
    "\n",
    "Accuracy: 66%\n",
    "The decision tree model showed competitive performance but fell short of logistic regression.\n",
    "Precision, recall, and F1-score for both classes are reasonably balanced, but slightly lower than logistic regression.\n",
    "Decision trees, while effective, may be more prone to overfitting and might not generalize as well as logistic regression on unseen data.  \n",
    "\n",
    "In conclusion the logistic regression looks to be the most suitable model for predicting dementia. This model outperformed both dummy models and the decision tree in terms of accuracy and balanced performance metrics.\n",
    "The strong performance of logistic regression suggests that the linear relationships captured by this model are effective for distinguishing between dementia and non-dementia cases in the dataset.  \n",
    "\n",
    "Next steps may include hyperparameter tuning, cross-validation, and exploration of more complex models to optimize performance, but logistic regression provides a solid baseline for comparison and interpretation. We want to explore oportunities False possitives and False negatives."
   ]
  },
  {
   "cell_type": "code",
   "execution_count": 14,
   "id": "4f49103d-eaea-4de3-819b-8a04f3ab36aa",
   "metadata": {},
   "outputs": [
    {
     "data": {
      "text/plain": [
       "array([ 5.07931902e+00,  4.87819969e+00, -4.45064560e+00, -6.94769080e+00,\n",
       "       -2.06905421e+00,  1.53032355e+00, -5.19898217e+00, -2.26036320e+01,\n",
       "        5.98769290e-01,  1.29221985e+00,  3.78122274e+00,  1.20985014e+00,\n",
       "        9.98035047e+00, -1.84957006e+00,  2.70451087e+00, -5.46969902e+00,\n",
       "       -1.78798683e-01,  2.80801422e-01,  5.88540479e+00,  5.50842001e+00,\n",
       "       -6.23827431e+00, -9.07249362e-01, -5.54224968e+00,  7.51778018e+00,\n",
       "       -3.98839678e+00,  2.21070724e+00,  6.15195224e-01, -4.58484909e+00,\n",
       "        1.78210148e-01,  1.02619824e+01,  4.65816299e+00,  2.37442640e+00,\n",
       "       -4.48822893e+00, -1.85139731e+00,  3.50150242e+00, -4.69342855e-01,\n",
       "        1.65034209e+00,  5.71003043e+00,  2.88078453e+00,  3.73927248e+00,\n",
       "       -4.19152382e-01, -8.04284982e-01,  4.69003753e+00,  4.65804849e+00,\n",
       "        4.84424113e+00,  3.96454258e+00, -5.95454707e+00,  1.04851507e+01,\n",
       "        1.76666081e+00,  1.04720258e+00,  2.48572379e+00,  8.33259484e+00,\n",
       "        2.83865858e-01,  1.34965677e+00, -4.29552374e+00,  2.66132097e+00,\n",
       "       -2.72993661e+00, -2.52905899e+00,  5.29248203e+00, -2.53339336e+00,\n",
       "       -1.37385800e-01, -5.36624558e-03,  4.11129231e+00,  3.95852331e+00,\n",
       "        1.10435277e+00,  3.55798542e+00, -2.53206269e+00,  1.84430597e+00,\n",
       "        1.60099983e+00,  2.41800639e+00,  6.89454275e+00, -2.56832839e+00,\n",
       "       -4.73709810e+00,  1.65379186e+00, -2.29152062e+00,  2.38509110e+00])"
      ]
     },
     "execution_count": 14,
     "metadata": {},
     "output_type": "execute_result"
    }
   ],
   "source": [
    "# Get decision function scores\n",
    "decision_scores = logreg_model.decision_function(X_test)\n",
    "decision_scores"
   ]
  },
  {
   "cell_type": "code",
   "execution_count": 15,
   "id": "f3f7c370-ee69-4acb-a235-925a7bc05cdc",
   "metadata": {},
   "outputs": [],
   "source": [
    "from sklearn.metrics import roc_curve, auc, precision_recall_curve, average_precision_score\n",
    "\n",
    "# Convert 'Dementia' to 1 and 'No Dementia' to 0\n",
    "y_true_binary = np.where(y_test == 'Dementia', 1, 0)\n",
    "y_scores = np.where(pred_logreg == 'Dementia', 1, 0)"
   ]
  },
  {
   "cell_type": "code",
   "execution_count": 16,
   "id": "eccb306f-46e2-4744-b586-2335ddb3f154",
   "metadata": {},
   "outputs": [
    {
     "data": {
      "image/png": "[encoded data removed]",
      "text/plain": [
       "<Figure size 576x576 with 1 Axes>"
      ]
     },
     "metadata": {
      "needs_background": "light"
     },
     "output_type": "display_data"
    }
   ],
   "source": [
    "fpr, tpr, thresholds = roc_curve(y_true_binary, y_scores, drop_intermediate=False)\n",
    "roc_auc = auc(fpr, tpr)\n",
    "\n",
    "# Plot the ROC curve\n",
    "plt.figure(figsize=(8, 8))\n",
    "plt.plot(fpr, tpr, color='darkorange', lw=2, label='ROC curve (AUC = {:.2f})'.format(roc_auc))\n",
    "plt.plot([0, 1], [0, 1], color='navy', lw=2, linestyle='--', label='Random')\n",
    "plt.xlabel('False Positive Rate')\n",
    "plt.ylabel('True Positive Rate')\n",
    "plt.title('Receiver Operating Characteristic (ROC) Curve')\n",
    "plt.legend(loc='lower right')\n",
    "plt.show()"
   ]
  },
  {
   "cell_type": "markdown",
   "id": "8b73befd-2aed-4898-a161-40bbe5c173bc",
   "metadata": {},
   "source": [
    "In the above ROC curve, the AUC is approximately 0.86, which suggesting good discriminatory ability of the model.\n",
    "The curve is inclined towards the top-left corner, which indicats a good balance between true positive rate and false positive rate.\n",
    "You can also see the the model performs better than random guessing (AUC = 0.5)."
   ]
  },
  {
   "cell_type": "markdown",
   "id": "1fb82f3d",
   "metadata": {},
   "source": [
    "### Tables and confusion matrices"
   ]
  },
  {
   "cell_type": "code",
   "execution_count": 17,
   "id": "2568f044-31eb-4bfc-b209-8537e7829107",
   "metadata": {},
   "outputs": [
    {
     "data": {
      "image/png": "[encoded data removed]",
      "text/plain": [
       "<Figure size 1800x360 with 5 Axes>"
      ]
     },
     "metadata": {
      "needs_background": "light"
     },
     "output_type": "display_data"
    }
   ],
   "source": [
    "#combine confusion matrix into 1 visual\n",
    "\n",
    "#define matrices\n",
    "conf_matrix1 = confusion_matrix(y_test, pred_dummy)\n",
    "conf_matrix2 = confusion_matrix(y_test, pred_most_frequent)\n",
    "conf_matrix3 = confusion_matrix(y_test, pred_logreg)\n",
    "conf_matrix4 = confusion_matrix(y_test, pred_tree)\n",
    "conf_matrix5 = confusion_matrix(y_test, pred_svm)\n",
    "\n",
    "matrix_lst = [conf_matrix1, conf_matrix2, conf_matrix3, conf_matrix4, conf_matrix5]\n",
    "matrix_titles = ['Dummy Model - Random Prediction', 'Dummy Model - Majority Prediction', 'Logistic Regression - Default Parameters', 'Decision Tree','Linear Support Vector Classifier (SVC))']\n",
    "\n",
    "#plot a figure with 1 row by 4 columns\n",
    "fig, axs = plt.subplots(1, 5, figsize=(25, 5))\n",
    "\n",
    "#subplots\n",
    "for m in range(len(matrix_lst)):\n",
    "    conf_df = pd.DataFrame(matrix_lst[m], index=['Actual Dementia', 'Actual No Dementia'],\n",
    "                       columns=['Predicted Dementia', 'Predicted No Dementia'])\n",
    "    disp = sns.heatmap(conf_df, annot=True, fmt=\"d\", cmap=\"Blues\", cbar=False, ax = axs[m],linecolor = 'grey',linewidths=0.1,annot_kws={\"fontsize\":50})\n",
    "    axs[m].set_title(matrix_titles[m])\n",
    "\n",
    "plt.show()"
   ]
  },
  {
   "cell_type": "code",
   "execution_count": 18,
   "id": "f668965b",
   "metadata": {},
   "outputs": [],
   "source": [
    "#build results table with relevant rows\n",
    "\n",
    "def combine_classification_rept(y_test, y_pred):\n",
    "    \"\"\"\n",
    "    Input: y_test, y_pred parameters\n",
    "    ---------\n",
    "    Returns: dataframe of classification report\n",
    "    \n",
    "    \"\"\"\n",
    "    rept = classification_report(y_test, y_pred, output_dict=True)\n",
    "    df_cls_rept = pd.DataFrame(rept).T\n",
    "    df_cls_rept = df_cls_rept.round(2)\n",
    "    \n",
    "    #get key rows\n",
    "    df_cls_rpt2 = df_cls_rept.iloc[:2,:]\n",
    "    #df_cls_rept = df_cls_rept.sort_values(by=['f1-score'], ascending=False)\n",
    "    return df_cls_rpt2"
   ]
  },
  {
   "cell_type": "code",
   "execution_count": 19,
   "id": "be5a1a7c",
   "metadata": {},
   "outputs": [
    {
     "data": {
      "text/html": [
       "<div>\n",
       "<style scoped>\n",
       "    .dataframe tbody tr th:only-of-type {\n",
       "        vertical-align: middle;\n",
       "    }\n",
       "\n",
       "    .dataframe tbody tr th {\n",
       "        vertical-align: top;\n",
       "    }\n",
       "\n",
       "    .dataframe thead th {\n",
       "        text-align: right;\n",
       "    }\n",
       "</style>\n",
       "<table border=\"1\" class=\"dataframe\">\n",
       "  <thead>\n",
       "    <tr style=\"text-align: right;\">\n",
       "      <th></th>\n",
       "      <th>model</th>\n",
       "      <th>precision</th>\n",
       "      <th>recall</th>\n",
       "      <th>f1-score</th>\n",
       "      <th>support</th>\n",
       "    </tr>\n",
       "  </thead>\n",
       "  <tbody>\n",
       "    <tr>\n",
       "      <th>Dementia</th>\n",
       "      <td>Dummy Model - Random Prediction</td>\n",
       "      <td>0.34</td>\n",
       "      <td>0.34</td>\n",
       "      <td>0.34</td>\n",
       "      <td>35.0</td>\n",
       "    </tr>\n",
       "    <tr>\n",
       "      <th>No Dementia</th>\n",
       "      <td>Dummy Model - Random Prediction</td>\n",
       "      <td>0.44</td>\n",
       "      <td>0.44</td>\n",
       "      <td>0.44</td>\n",
       "      <td>41.0</td>\n",
       "    </tr>\n",
       "  </tbody>\n",
       "</table>\n",
       "</div>"
      ],
      "text/plain": [
       "                                       model  precision  recall  f1-score  \\\n",
       "Dementia     Dummy Model - Random Prediction       0.34    0.34      0.34   \n",
       "No Dementia  Dummy Model - Random Prediction       0.44    0.44      0.44   \n",
       "\n",
       "             support  \n",
       "Dementia        35.0  \n",
       "No Dementia     41.0  "
      ]
     },
     "execution_count": 19,
     "metadata": {},
     "output_type": "execute_result"
    }
   ],
   "source": [
    "#create table for dummy model 1\n",
    "df1 = combine_classification_rept(y_test, pred_dummy)\n",
    "df1['model'] = matrix_titles[0]\n",
    "first_col = df1.pop('model') \n",
    "df1.insert(0, 'model', first_col) \n",
    "df1"
   ]
  },
  {
   "cell_type": "code",
   "execution_count": 20,
   "id": "86f9d913",
   "metadata": {},
   "outputs": [
    {
     "name": "stderr",
     "output_type": "stream",
     "text": [
      "/sw/pkgs/arc/python3.9-anaconda/2021.11/lib/python3.9/site-packages/sklearn/metrics/_classification.py:1248: UndefinedMetricWarning: Precision and F-score are ill-defined and being set to 0.0 in labels with no predicted samples. Use `zero_division` parameter to control this behavior.\n",
      "  _warn_prf(average, modifier, msg_start, len(result))\n",
      "/sw/pkgs/arc/python3.9-anaconda/2021.11/lib/python3.9/site-packages/sklearn/metrics/_classification.py:1248: UndefinedMetricWarning: Precision and F-score are ill-defined and being set to 0.0 in labels with no predicted samples. Use `zero_division` parameter to control this behavior.\n",
      "  _warn_prf(average, modifier, msg_start, len(result))\n",
      "/sw/pkgs/arc/python3.9-anaconda/2021.11/lib/python3.9/site-packages/sklearn/metrics/_classification.py:1248: UndefinedMetricWarning: Precision and F-score are ill-defined and being set to 0.0 in labels with no predicted samples. Use `zero_division` parameter to control this behavior.\n",
      "  _warn_prf(average, modifier, msg_start, len(result))\n"
     ]
    },
    {
     "data": {
      "text/html": [
       "<div>\n",
       "<style scoped>\n",
       "    .dataframe tbody tr th:only-of-type {\n",
       "        vertical-align: middle;\n",
       "    }\n",
       "\n",
       "    .dataframe tbody tr th {\n",
       "        vertical-align: top;\n",
       "    }\n",
       "\n",
       "    .dataframe thead th {\n",
       "        text-align: right;\n",
       "    }\n",
       "</style>\n",
       "<table border=\"1\" class=\"dataframe\">\n",
       "  <thead>\n",
       "    <tr style=\"text-align: right;\">\n",
       "      <th></th>\n",
       "      <th>model</th>\n",
       "      <th>precision</th>\n",
       "      <th>recall</th>\n",
       "      <th>f1-score</th>\n",
       "      <th>support</th>\n",
       "    </tr>\n",
       "  </thead>\n",
       "  <tbody>\n",
       "    <tr>\n",
       "      <th>Dementia</th>\n",
       "      <td>Dummy Model - Majority Prediction</td>\n",
       "      <td>0.00</td>\n",
       "      <td>0.0</td>\n",
       "      <td>0.0</td>\n",
       "      <td>35.0</td>\n",
       "    </tr>\n",
       "    <tr>\n",
       "      <th>No Dementia</th>\n",
       "      <td>Dummy Model - Majority Prediction</td>\n",
       "      <td>0.54</td>\n",
       "      <td>1.0</td>\n",
       "      <td>0.7</td>\n",
       "      <td>41.0</td>\n",
       "    </tr>\n",
       "  </tbody>\n",
       "</table>\n",
       "</div>"
      ],
      "text/plain": [
       "                                         model  precision  recall  f1-score  \\\n",
       "Dementia     Dummy Model - Majority Prediction       0.00     0.0       0.0   \n",
       "No Dementia  Dummy Model - Majority Prediction       0.54     1.0       0.7   \n",
       "\n",
       "             support  \n",
       "Dementia        35.0  \n",
       "No Dementia     41.0  "
      ]
     },
     "execution_count": 20,
     "metadata": {},
     "output_type": "execute_result"
    }
   ],
   "source": [
    "#create table for dummy model 2\n",
    "df_dummy2 = combine_classification_rept(y_test, pred_most_frequent)\n",
    "df_dummy2['model'] = matrix_titles[1]\n",
    "#df2 = df1.iloc[:2,:]\n",
    "first_col = df_dummy2.pop('model') \n",
    "df_dummy2.insert(0, 'model', first_col) \n",
    "df_dummy2"
   ]
  },
  {
   "cell_type": "code",
   "execution_count": 21,
   "id": "700d639f",
   "metadata": {},
   "outputs": [
    {
     "data": {
      "text/html": [
       "<div>\n",
       "<style scoped>\n",
       "    .dataframe tbody tr th:only-of-type {\n",
       "        vertical-align: middle;\n",
       "    }\n",
       "\n",
       "    .dataframe tbody tr th {\n",
       "        vertical-align: top;\n",
       "    }\n",
       "\n",
       "    .dataframe thead th {\n",
       "        text-align: right;\n",
       "    }\n",
       "</style>\n",
       "<table border=\"1\" class=\"dataframe\">\n",
       "  <thead>\n",
       "    <tr style=\"text-align: right;\">\n",
       "      <th></th>\n",
       "      <th>model</th>\n",
       "      <th>precision</th>\n",
       "      <th>recall</th>\n",
       "      <th>f1-score</th>\n",
       "      <th>support</th>\n",
       "    </tr>\n",
       "  </thead>\n",
       "  <tbody>\n",
       "    <tr>\n",
       "      <th>Dementia</th>\n",
       "      <td>Logistic Regression - Default Parameters</td>\n",
       "      <td>0.83</td>\n",
       "      <td>0.69</td>\n",
       "      <td>0.75</td>\n",
       "      <td>35.0</td>\n",
       "    </tr>\n",
       "    <tr>\n",
       "      <th>No Dementia</th>\n",
       "      <td>Logistic Regression - Default Parameters</td>\n",
       "      <td>0.77</td>\n",
       "      <td>0.88</td>\n",
       "      <td>0.82</td>\n",
       "      <td>41.0</td>\n",
       "    </tr>\n",
       "  </tbody>\n",
       "</table>\n",
       "</div>"
      ],
      "text/plain": [
       "                                                model  precision  recall  \\\n",
       "Dementia     Logistic Regression - Default Parameters       0.83    0.69   \n",
       "No Dementia  Logistic Regression - Default Parameters       0.77    0.88   \n",
       "\n",
       "             f1-score  support  \n",
       "Dementia         0.75     35.0  \n",
       "No Dementia      0.82     41.0  "
      ]
     },
     "execution_count": 21,
     "metadata": {},
     "output_type": "execute_result"
    }
   ],
   "source": [
    "#create table for lr\n",
    "df_lr = combine_classification_rept(y_test, pred_logreg)\n",
    "df_lr['model'] = matrix_titles[2]\n",
    "#df2 = df1.iloc[:2,:]\n",
    "first_col = df_lr.pop('model') \n",
    "df_lr.insert(0, 'model', first_col) \n",
    "df_lr"
   ]
  },
  {
   "cell_type": "code",
   "execution_count": 22,
   "id": "528dae8f",
   "metadata": {},
   "outputs": [
    {
     "data": {
      "text/html": [
       "<div>\n",
       "<style scoped>\n",
       "    .dataframe tbody tr th:only-of-type {\n",
       "        vertical-align: middle;\n",
       "    }\n",
       "\n",
       "    .dataframe tbody tr th {\n",
       "        vertical-align: top;\n",
       "    }\n",
       "\n",
       "    .dataframe thead th {\n",
       "        text-align: right;\n",
       "    }\n",
       "</style>\n",
       "<table border=\"1\" class=\"dataframe\">\n",
       "  <thead>\n",
       "    <tr style=\"text-align: right;\">\n",
       "      <th></th>\n",
       "      <th>model</th>\n",
       "      <th>precision</th>\n",
       "      <th>recall</th>\n",
       "      <th>f1-score</th>\n",
       "      <th>support</th>\n",
       "    </tr>\n",
       "  </thead>\n",
       "  <tbody>\n",
       "    <tr>\n",
       "      <th>Dementia</th>\n",
       "      <td>Decision Tree</td>\n",
       "      <td>0.63</td>\n",
       "      <td>0.54</td>\n",
       "      <td>0.58</td>\n",
       "      <td>35.0</td>\n",
       "    </tr>\n",
       "    <tr>\n",
       "      <th>No Dementia</th>\n",
       "      <td>Decision Tree</td>\n",
       "      <td>0.65</td>\n",
       "      <td>0.73</td>\n",
       "      <td>0.69</td>\n",
       "      <td>41.0</td>\n",
       "    </tr>\n",
       "  </tbody>\n",
       "</table>\n",
       "</div>"
      ],
      "text/plain": [
       "                     model  precision  recall  f1-score  support\n",
       "Dementia     Decision Tree       0.63    0.54      0.58     35.0\n",
       "No Dementia  Decision Tree       0.65    0.73      0.69     41.0"
      ]
     },
     "execution_count": 22,
     "metadata": {},
     "output_type": "execute_result"
    }
   ],
   "source": [
    "#create table for decision tree\n",
    "df_dt = combine_classification_rept(y_test, pred_tree)\n",
    "df_dt['model'] = matrix_titles[3]\n",
    "#df2 = df1.iloc[:2,:]\n",
    "first_col =df_dt.pop('model') \n",
    "df_dt.insert(0, 'model', first_col) \n",
    "df_dt"
   ]
  },
  {
   "cell_type": "code",
   "execution_count": 23,
   "id": "181b7a7f",
   "metadata": {},
   "outputs": [
    {
     "data": {
      "text/html": [
       "<div>\n",
       "<style scoped>\n",
       "    .dataframe tbody tr th:only-of-type {\n",
       "        vertical-align: middle;\n",
       "    }\n",
       "\n",
       "    .dataframe tbody tr th {\n",
       "        vertical-align: top;\n",
       "    }\n",
       "\n",
       "    .dataframe thead th {\n",
       "        text-align: right;\n",
       "    }\n",
       "</style>\n",
       "<table border=\"1\" class=\"dataframe\">\n",
       "  <thead>\n",
       "    <tr style=\"text-align: right;\">\n",
       "      <th></th>\n",
       "      <th>model</th>\n",
       "      <th>precision</th>\n",
       "      <th>recall</th>\n",
       "      <th>f1-score</th>\n",
       "      <th>support</th>\n",
       "    </tr>\n",
       "  </thead>\n",
       "  <tbody>\n",
       "    <tr>\n",
       "      <th>Dementia</th>\n",
       "      <td>Linear Support Vector Classifier (SVC))</td>\n",
       "      <td>0.83</td>\n",
       "      <td>0.69</td>\n",
       "      <td>0.75</td>\n",
       "      <td>35.0</td>\n",
       "    </tr>\n",
       "    <tr>\n",
       "      <th>No Dementia</th>\n",
       "      <td>Linear Support Vector Classifier (SVC))</td>\n",
       "      <td>0.77</td>\n",
       "      <td>0.88</td>\n",
       "      <td>0.82</td>\n",
       "      <td>41.0</td>\n",
       "    </tr>\n",
       "  </tbody>\n",
       "</table>\n",
       "</div>"
      ],
      "text/plain": [
       "                                               model  precision  recall  \\\n",
       "Dementia     Linear Support Vector Classifier (SVC))       0.83    0.69   \n",
       "No Dementia  Linear Support Vector Classifier (SVC))       0.77    0.88   \n",
       "\n",
       "             f1-score  support  \n",
       "Dementia         0.75     35.0  \n",
       "No Dementia      0.82     41.0  "
      ]
     },
     "execution_count": 23,
     "metadata": {},
     "output_type": "execute_result"
    }
   ],
   "source": [
    "#create table for SVM\n",
    "df_svm = combine_classification_rept(y_test, pred_svm)\n",
    "df_svm['model'] = matrix_titles[4]\n",
    "#df2 = df1.iloc[:2,:]\n",
    "first_col =df_svm.pop('model') \n",
    "df_svm.insert(0, 'model', first_col) \n",
    "df_svm"
   ]
  },
  {
   "cell_type": "code",
   "execution_count": 24,
   "id": "1b366f8e",
   "metadata": {},
   "outputs": [
    {
     "data": {
      "text/html": [
       "<div>\n",
       "<style scoped>\n",
       "    .dataframe tbody tr th:only-of-type {\n",
       "        vertical-align: middle;\n",
       "    }\n",
       "\n",
       "    .dataframe tbody tr th {\n",
       "        vertical-align: top;\n",
       "    }\n",
       "\n",
       "    .dataframe thead th {\n",
       "        text-align: right;\n",
       "    }\n",
       "</style>\n",
       "<table border=\"1\" class=\"dataframe\">\n",
       "  <thead>\n",
       "    <tr style=\"text-align: right;\">\n",
       "      <th></th>\n",
       "      <th>model</th>\n",
       "      <th>precision</th>\n",
       "      <th>recall</th>\n",
       "      <th>f1-score</th>\n",
       "      <th>support</th>\n",
       "    </tr>\n",
       "  </thead>\n",
       "  <tbody>\n",
       "    <tr>\n",
       "      <th>Dementia</th>\n",
       "      <td>Dummy Model - Random Prediction</td>\n",
       "      <td>0.34</td>\n",
       "      <td>0.34</td>\n",
       "      <td>0.34</td>\n",
       "      <td>35.0</td>\n",
       "    </tr>\n",
       "    <tr>\n",
       "      <th>No Dementia</th>\n",
       "      <td>Dummy Model - Random Prediction</td>\n",
       "      <td>0.44</td>\n",
       "      <td>0.44</td>\n",
       "      <td>0.44</td>\n",
       "      <td>41.0</td>\n",
       "    </tr>\n",
       "    <tr>\n",
       "      <th>Dementia</th>\n",
       "      <td>Dummy Model - Majority Prediction</td>\n",
       "      <td>0.00</td>\n",
       "      <td>0.00</td>\n",
       "      <td>0.00</td>\n",
       "      <td>35.0</td>\n",
       "    </tr>\n",
       "    <tr>\n",
       "      <th>No Dementia</th>\n",
       "      <td>Dummy Model - Majority Prediction</td>\n",
       "      <td>0.54</td>\n",
       "      <td>1.00</td>\n",
       "      <td>0.70</td>\n",
       "      <td>41.0</td>\n",
       "    </tr>\n",
       "    <tr>\n",
       "      <th>Dementia</th>\n",
       "      <td>Logistic Regression - Default Parameters</td>\n",
       "      <td>0.83</td>\n",
       "      <td>0.69</td>\n",
       "      <td>0.75</td>\n",
       "      <td>35.0</td>\n",
       "    </tr>\n",
       "    <tr>\n",
       "      <th>No Dementia</th>\n",
       "      <td>Logistic Regression - Default Parameters</td>\n",
       "      <td>0.77</td>\n",
       "      <td>0.88</td>\n",
       "      <td>0.82</td>\n",
       "      <td>41.0</td>\n",
       "    </tr>\n",
       "    <tr>\n",
       "      <th>Dementia</th>\n",
       "      <td>Decision Tree</td>\n",
       "      <td>0.63</td>\n",
       "      <td>0.54</td>\n",
       "      <td>0.58</td>\n",
       "      <td>35.0</td>\n",
       "    </tr>\n",
       "    <tr>\n",
       "      <th>No Dementia</th>\n",
       "      <td>Decision Tree</td>\n",
       "      <td>0.65</td>\n",
       "      <td>0.73</td>\n",
       "      <td>0.69</td>\n",
       "      <td>41.0</td>\n",
       "    </tr>\n",
       "    <tr>\n",
       "      <th>Dementia</th>\n",
       "      <td>Linear Support Vector Classifier (SVC))</td>\n",
       "      <td>0.83</td>\n",
       "      <td>0.69</td>\n",
       "      <td>0.75</td>\n",
       "      <td>35.0</td>\n",
       "    </tr>\n",
       "    <tr>\n",
       "      <th>No Dementia</th>\n",
       "      <td>Linear Support Vector Classifier (SVC))</td>\n",
       "      <td>0.77</td>\n",
       "      <td>0.88</td>\n",
       "      <td>0.82</td>\n",
       "      <td>41.0</td>\n",
       "    </tr>\n",
       "  </tbody>\n",
       "</table>\n",
       "</div>"
      ],
      "text/plain": [
       "                                                model  precision  recall  \\\n",
       "Dementia              Dummy Model - Random Prediction       0.34    0.34   \n",
       "No Dementia           Dummy Model - Random Prediction       0.44    0.44   \n",
       "Dementia            Dummy Model - Majority Prediction       0.00    0.00   \n",
       "No Dementia         Dummy Model - Majority Prediction       0.54    1.00   \n",
       "Dementia     Logistic Regression - Default Parameters       0.83    0.69   \n",
       "No Dementia  Logistic Regression - Default Parameters       0.77    0.88   \n",
       "Dementia                                Decision Tree       0.63    0.54   \n",
       "No Dementia                             Decision Tree       0.65    0.73   \n",
       "Dementia      Linear Support Vector Classifier (SVC))       0.83    0.69   \n",
       "No Dementia   Linear Support Vector Classifier (SVC))       0.77    0.88   \n",
       "\n",
       "             f1-score  support  \n",
       "Dementia         0.34     35.0  \n",
       "No Dementia      0.44     41.0  \n",
       "Dementia         0.00     35.0  \n",
       "No Dementia      0.70     41.0  \n",
       "Dementia         0.75     35.0  \n",
       "No Dementia      0.82     41.0  \n",
       "Dementia         0.58     35.0  \n",
       "No Dementia      0.69     41.0  \n",
       "Dementia         0.75     35.0  \n",
       "No Dementia      0.82     41.0  "
      ]
     },
     "execution_count": 24,
     "metadata": {},
     "output_type": "execute_result"
    }
   ],
   "source": [
    "df_combined =pd.concat([df1,df_dummy2, df_lr, df_dt, df_svm])\n",
    "df_combined"
   ]
  },
  {
   "cell_type": "markdown",
   "id": "97f4525d-c87c-4c37-a058-476cac1c2e64",
   "metadata": {},
   "source": [
    "<font color=\"red\" size=\"24\">END OF NOTEBOOK</font>"
   ]
  }
 ],
 "metadata": {
  "kernelspec": {
   "display_name": "Python 3 (ipykernel)",
   "language": "python",
   "name": "python3"
  },
  "language_info": {
   "codemirror_mode": {
    "name": "ipython",
    "version": 3
   },
   "file_extension": ".py",
   "mimetype": "text/x-python",
   "name": "python",
   "nbconvert_exporter": "python",
   "pygments_lexer": "ipython3",
   "version": "3.9.7"
  }
 },
 "nbformat": 4,
 "nbformat_minor": 5
}
